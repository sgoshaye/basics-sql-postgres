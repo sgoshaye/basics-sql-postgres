{
  "nbformat": 4,
  "nbformat_minor": 0,
  "metadata": {
    "colab": {
      "name": "Challenges-SQL-Sams-Teach-Yourself.ipynb",
      "provenance": [],
      "collapsed_sections": [
        "NTVERsRNFyFt",
        "kNTq6YhvEBZs",
        "ZKo-YEpHIrfJ",
        "U_zqI10sEHfp",
        "fByMmE7uMCVn",
        "VyYa4-0wEJjg",
        "xh9NgUcEO9na",
        "Ambu8nIMEOe1",
        "fcSbl6VrESh8",
        "6jGyW8c1EWbI",
        "Mkv63iVnYd1p",
        "8kw3VPbkEdFw",
        "-tYfEmLpEgUP",
        "zvwjBm_ZEs3g",
        "-z-vl_97k0k2",
        "mPqaqbcCmvUt",
        "mPv9TcJtJ8R9",
        "i00QqRaIMlD0",
        "nR5Sz431fkJN"
      ],
      "toc_visible": true
    },
    "kernelspec": {
      "name": "python3",
      "display_name": "Python 3"
    }
  },
  "cells": [
    {
      "cell_type": "markdown",
      "metadata": {
        "id": "Yw2xiaWR_B8s"
      },
      "source": [
        "#**Sepehr Goshayeshi**\r\n",
        "\r\n",
        "#Answering all Challenges from Sam's Teach Yourself SQL"
      ]
    },
    {
      "cell_type": "markdown",
      "metadata": {
        "id": "URZG8kJxM6qC"
      },
      "source": [
        "Challenges from these Chapters are solved:\r\n",
        "\r\n",
        "Ch 02 - Retrieving Data\r\n",
        "\r\n",
        "Ch 03 - Sorting Retrieved Data\r\n",
        "\r\n",
        "Ch 04 - Filtering Data\r\n",
        "\r\n",
        "Ch 05 - Advanced Data Filtering\r\n",
        "\r\n",
        "Ch 06 - Using Wildcard Filtering\r\n",
        "\r\n",
        "Ch 07 - Creating Calculated Fields\r\n",
        "\r\n",
        "Ch 08 - Using Data Manipulation Functions\r\n",
        "\r\n",
        "Ch 09 - Summarizing Data\r\n",
        "\r\n",
        "Ch 10 - Grouping Data\r\n",
        "\r\n",
        "Ch 11 - Working with Subqueries\r\n",
        "\r\n",
        "Ch 12 - Joining Tables\r\n",
        "\r\n",
        "Ch 13 - Creating Advanced Joins\r\n",
        "\r\n",
        "Ch 14 - Combining Queries\r\n",
        "\r\n",
        "Ch 15 - Inserting Data\r\n",
        "\r\n",
        "Ch 16 - Updating and Deleting Data\r\n",
        "\r\n",
        "Ch 17 - Creatining and Manipulating Tables\r\n",
        "\r\n",
        "Ch 18 - Using Views"
      ]
    },
    {
      "cell_type": "markdown",
      "metadata": {
        "id": "N4J_Hc76A_1B"
      },
      "source": [
        "# **Prerequisites**"
      ]
    },
    {
      "cell_type": "code",
      "metadata": {
        "id": "sLj1841_-_ix"
      },
      "source": [
        "#Import necessary libraries\r\n",
        "import sqlite3\r\n",
        "import pandas as pd"
      ],
      "execution_count": 1,
      "outputs": []
    },
    {
      "cell_type": "code",
      "metadata": {
        "id": "I1aSiDNS_Uav"
      },
      "source": [
        "#Defining database and making connection\r\n",
        "database = '/content/drive/MyDrive/TYSQL.sqlite'\r\n",
        "conn = sqlite3.connect(database)\r\n",
        "cur = conn.cursor() #defining cursor for future problems starting in Ch15"
      ],
      "execution_count": 2,
      "outputs": []
    },
    {
      "cell_type": "markdown",
      "metadata": {
        "id": "YtyivOBbBB8n"
      },
      "source": [
        "#**Chapter 2 - Retrieving Data**"
      ]
    },
    {
      "cell_type": "markdown",
      "metadata": {
        "id": "7tA3JBeiCwNE"
      },
      "source": [
        "###**Challenge 2-1**\r\n",
        "\r\n",
        "**Write a SQL statement to retrieve all customer ids (cust_id) from the Customers table.**"
      ]
    },
    {
      "cell_type": "code",
      "metadata": {
        "id": "psQ56CG1BnoU",
        "colab": {
          "base_uri": "https://localhost:8080/",
          "height": 236
        },
        "outputId": "c5532825-2957-46b9-8b77-9cde9f2274f4"
      },
      "source": [
        "pd.read_sql(\"SELECT cust_id \\\r\n",
        "             FROM Customers\", conn)"
      ],
      "execution_count": 3,
      "outputs": [
        {
          "output_type": "execute_result",
          "data": {
            "text/html": [
              "<div>\n",
              "<style scoped>\n",
              "    .dataframe tbody tr th:only-of-type {\n",
              "        vertical-align: middle;\n",
              "    }\n",
              "\n",
              "    .dataframe tbody tr th {\n",
              "        vertical-align: top;\n",
              "    }\n",
              "\n",
              "    .dataframe thead th {\n",
              "        text-align: right;\n",
              "    }\n",
              "</style>\n",
              "<table border=\"1\" class=\"dataframe\">\n",
              "  <thead>\n",
              "    <tr style=\"text-align: right;\">\n",
              "      <th></th>\n",
              "      <th>cust_id</th>\n",
              "    </tr>\n",
              "  </thead>\n",
              "  <tbody>\n",
              "    <tr>\n",
              "      <th>0</th>\n",
              "      <td>1000000001</td>\n",
              "    </tr>\n",
              "    <tr>\n",
              "      <th>1</th>\n",
              "      <td>1000000002</td>\n",
              "    </tr>\n",
              "    <tr>\n",
              "      <th>2</th>\n",
              "      <td>1000000003</td>\n",
              "    </tr>\n",
              "    <tr>\n",
              "      <th>3</th>\n",
              "      <td>1000000004</td>\n",
              "    </tr>\n",
              "    <tr>\n",
              "      <th>4</th>\n",
              "      <td>1000000005</td>\n",
              "    </tr>\n",
              "    <tr>\n",
              "      <th>5</th>\n",
              "      <td>1000000006</td>\n",
              "    </tr>\n",
              "  </tbody>\n",
              "</table>\n",
              "</div>"
            ],
            "text/plain": [
              "      cust_id\n",
              "0  1000000001\n",
              "1  1000000002\n",
              "2  1000000003\n",
              "3  1000000004\n",
              "4  1000000005\n",
              "5  1000000006"
            ]
          },
          "metadata": {
            "tags": []
          },
          "execution_count": 3
        }
      ]
    },
    {
      "cell_type": "markdown",
      "metadata": {
        "id": "gC0kjK1ZDAK7"
      },
      "source": [
        "###**Challenge 2-2**\r\n",
        "\r\n",
        "**The OrderItems table contains every item ordered\r\n",
        "(and some were ordered multiple times). Write a SQL statement\r\n",
        "to retrieve a list of the products (prod_id) ordered (not every order, just a unique list of products). Here’s a hint, you should end up with seven unique rows displayed.**"
      ]
    },
    {
      "cell_type": "code",
      "metadata": {
        "id": "87dYtJBGCmDm",
        "colab": {
          "base_uri": "https://localhost:8080/",
          "height": 267
        },
        "outputId": "f30bed89-0df5-44fa-e0ef-08f37fd67623"
      },
      "source": [
        "pd.read_sql(\"SELECT distinct prod_id \\\r\n",
        "             FROM OrderItems\", conn)"
      ],
      "execution_count": 4,
      "outputs": [
        {
          "output_type": "execute_result",
          "data": {
            "text/html": [
              "<div>\n",
              "<style scoped>\n",
              "    .dataframe tbody tr th:only-of-type {\n",
              "        vertical-align: middle;\n",
              "    }\n",
              "\n",
              "    .dataframe tbody tr th {\n",
              "        vertical-align: top;\n",
              "    }\n",
              "\n",
              "    .dataframe thead th {\n",
              "        text-align: right;\n",
              "    }\n",
              "</style>\n",
              "<table border=\"1\" class=\"dataframe\">\n",
              "  <thead>\n",
              "    <tr style=\"text-align: right;\">\n",
              "      <th></th>\n",
              "      <th>prod_id</th>\n",
              "    </tr>\n",
              "  </thead>\n",
              "  <tbody>\n",
              "    <tr>\n",
              "      <th>0</th>\n",
              "      <td>BR01</td>\n",
              "    </tr>\n",
              "    <tr>\n",
              "      <th>1</th>\n",
              "      <td>BR03</td>\n",
              "    </tr>\n",
              "    <tr>\n",
              "      <th>2</th>\n",
              "      <td>BR02</td>\n",
              "    </tr>\n",
              "    <tr>\n",
              "      <th>3</th>\n",
              "      <td>BNBG01</td>\n",
              "    </tr>\n",
              "    <tr>\n",
              "      <th>4</th>\n",
              "      <td>BNBG02</td>\n",
              "    </tr>\n",
              "    <tr>\n",
              "      <th>5</th>\n",
              "      <td>BNBG03</td>\n",
              "    </tr>\n",
              "    <tr>\n",
              "      <th>6</th>\n",
              "      <td>RGAN01</td>\n",
              "    </tr>\n",
              "  </tbody>\n",
              "</table>\n",
              "</div>"
            ],
            "text/plain": [
              "  prod_id\n",
              "0    BR01\n",
              "1    BR03\n",
              "2    BR02\n",
              "3  BNBG01\n",
              "4  BNBG02\n",
              "5  BNBG03\n",
              "6  RGAN01"
            ]
          },
          "metadata": {
            "tags": []
          },
          "execution_count": 4
        }
      ]
    },
    {
      "cell_type": "markdown",
      "metadata": {
        "id": "NTVERsRNFyFt"
      },
      "source": [
        "###**Challenge 2-3**\r\n",
        "\r\n",
        "**Write a SQL statement that retrieves all columns from\r\n",
        "the Customers table, and an alternate SELECT that retrieves\r\n",
        "just the customer id.**"
      ]
    },
    {
      "cell_type": "code",
      "metadata": {
        "id": "O1U9Pwj9F82d",
        "colab": {
          "base_uri": "https://localhost:8080/",
          "height": 0
        },
        "outputId": "6667ce59-a703-482f-e344-8f9b7c9e0bc6"
      },
      "source": [
        "pd.read_sql(\"SELECT * \\\r\n",
        "             FROM Customers\", conn)"
      ],
      "execution_count": 5,
      "outputs": [
        {
          "output_type": "execute_result",
          "data": {
            "text/html": [
              "<div>\n",
              "<style scoped>\n",
              "    .dataframe tbody tr th:only-of-type {\n",
              "        vertical-align: middle;\n",
              "    }\n",
              "\n",
              "    .dataframe tbody tr th {\n",
              "        vertical-align: top;\n",
              "    }\n",
              "\n",
              "    .dataframe thead th {\n",
              "        text-align: right;\n",
              "    }\n",
              "</style>\n",
              "<table border=\"1\" class=\"dataframe\">\n",
              "  <thead>\n",
              "    <tr style=\"text-align: right;\">\n",
              "      <th></th>\n",
              "      <th>cust_id</th>\n",
              "      <th>cust_name</th>\n",
              "      <th>cust_address</th>\n",
              "      <th>cust_city</th>\n",
              "      <th>cust_state</th>\n",
              "      <th>cust_zip</th>\n",
              "      <th>cust_country</th>\n",
              "      <th>cust_contact</th>\n",
              "      <th>cust_email</th>\n",
              "    </tr>\n",
              "  </thead>\n",
              "  <tbody>\n",
              "    <tr>\n",
              "      <th>0</th>\n",
              "      <td>1000000001</td>\n",
              "      <td>Village Toys</td>\n",
              "      <td>200 Maple Lane</td>\n",
              "      <td>Detroit</td>\n",
              "      <td>MI</td>\n",
              "      <td>44444</td>\n",
              "      <td>USA</td>\n",
              "      <td>John Smith</td>\n",
              "      <td>sales@villagetoys.com</td>\n",
              "    </tr>\n",
              "    <tr>\n",
              "      <th>1</th>\n",
              "      <td>1000000002</td>\n",
              "      <td>Kids Place</td>\n",
              "      <td>333 South Lake Drive</td>\n",
              "      <td>Columbus</td>\n",
              "      <td>OH</td>\n",
              "      <td>43333</td>\n",
              "      <td>USA</td>\n",
              "      <td>Michelle Green</td>\n",
              "      <td>None</td>\n",
              "    </tr>\n",
              "    <tr>\n",
              "      <th>2</th>\n",
              "      <td>1000000003</td>\n",
              "      <td>Fun4All</td>\n",
              "      <td>1 Sunny Place</td>\n",
              "      <td>Muncie</td>\n",
              "      <td>IN</td>\n",
              "      <td>42222</td>\n",
              "      <td>USA</td>\n",
              "      <td>Jim Jones</td>\n",
              "      <td>jjones@fun4all.com</td>\n",
              "    </tr>\n",
              "    <tr>\n",
              "      <th>3</th>\n",
              "      <td>1000000004</td>\n",
              "      <td>Fun4All</td>\n",
              "      <td>829 Riverside Drive</td>\n",
              "      <td>Phoenix</td>\n",
              "      <td>AZ</td>\n",
              "      <td>88888</td>\n",
              "      <td>USA</td>\n",
              "      <td>Denise L. Stephens</td>\n",
              "      <td>dstephens@fun4all.com</td>\n",
              "    </tr>\n",
              "    <tr>\n",
              "      <th>4</th>\n",
              "      <td>1000000005</td>\n",
              "      <td>The Toy Store</td>\n",
              "      <td>4545 53rd Street</td>\n",
              "      <td>Chicago</td>\n",
              "      <td>IL</td>\n",
              "      <td>54545</td>\n",
              "      <td>USA</td>\n",
              "      <td>Kim Howard</td>\n",
              "      <td>kim@thetoystore.com</td>\n",
              "    </tr>\n",
              "    <tr>\n",
              "      <th>5</th>\n",
              "      <td>1000000006</td>\n",
              "      <td>Toy Land</td>\n",
              "      <td>123 Any Street</td>\n",
              "      <td>New York</td>\n",
              "      <td>NY</td>\n",
              "      <td>11111</td>\n",
              "      <td>USA</td>\n",
              "      <td>None</td>\n",
              "      <td>None</td>\n",
              "    </tr>\n",
              "  </tbody>\n",
              "</table>\n",
              "</div>"
            ],
            "text/plain": [
              "      cust_id      cust_name  ...        cust_contact             cust_email\n",
              "0  1000000001   Village Toys  ...          John Smith  sales@villagetoys.com\n",
              "1  1000000002     Kids Place  ...      Michelle Green                   None\n",
              "2  1000000003        Fun4All  ...           Jim Jones     jjones@fun4all.com\n",
              "3  1000000004        Fun4All  ...  Denise L. Stephens  dstephens@fun4all.com\n",
              "4  1000000005  The Toy Store  ...          Kim Howard    kim@thetoystore.com\n",
              "5  1000000006       Toy Land  ...                None                   None\n",
              "\n",
              "[6 rows x 9 columns]"
            ]
          },
          "metadata": {
            "tags": []
          },
          "execution_count": 5
        }
      ]
    },
    {
      "cell_type": "code",
      "metadata": {
        "id": "Cw9OnZwuF4XA",
        "colab": {
          "base_uri": "https://localhost:8080/",
          "height": 0
        },
        "outputId": "aae05750-7b39-4b0f-b006-01a667c04301"
      },
      "source": [
        "pd.read_sql(\"SELECT cust_id \\\r\n",
        "             FROM Customers\", conn)"
      ],
      "execution_count": 6,
      "outputs": [
        {
          "output_type": "execute_result",
          "data": {
            "text/html": [
              "<div>\n",
              "<style scoped>\n",
              "    .dataframe tbody tr th:only-of-type {\n",
              "        vertical-align: middle;\n",
              "    }\n",
              "\n",
              "    .dataframe tbody tr th {\n",
              "        vertical-align: top;\n",
              "    }\n",
              "\n",
              "    .dataframe thead th {\n",
              "        text-align: right;\n",
              "    }\n",
              "</style>\n",
              "<table border=\"1\" class=\"dataframe\">\n",
              "  <thead>\n",
              "    <tr style=\"text-align: right;\">\n",
              "      <th></th>\n",
              "      <th>cust_id</th>\n",
              "    </tr>\n",
              "  </thead>\n",
              "  <tbody>\n",
              "    <tr>\n",
              "      <th>0</th>\n",
              "      <td>1000000001</td>\n",
              "    </tr>\n",
              "    <tr>\n",
              "      <th>1</th>\n",
              "      <td>1000000002</td>\n",
              "    </tr>\n",
              "    <tr>\n",
              "      <th>2</th>\n",
              "      <td>1000000003</td>\n",
              "    </tr>\n",
              "    <tr>\n",
              "      <th>3</th>\n",
              "      <td>1000000004</td>\n",
              "    </tr>\n",
              "    <tr>\n",
              "      <th>4</th>\n",
              "      <td>1000000005</td>\n",
              "    </tr>\n",
              "    <tr>\n",
              "      <th>5</th>\n",
              "      <td>1000000006</td>\n",
              "    </tr>\n",
              "  </tbody>\n",
              "</table>\n",
              "</div>"
            ],
            "text/plain": [
              "      cust_id\n",
              "0  1000000001\n",
              "1  1000000002\n",
              "2  1000000003\n",
              "3  1000000004\n",
              "4  1000000005\n",
              "5  1000000006"
            ]
          },
          "metadata": {
            "tags": []
          },
          "execution_count": 6
        }
      ]
    },
    {
      "cell_type": "markdown",
      "metadata": {
        "id": "kNTq6YhvEBZs"
      },
      "source": [
        "#**Chapter 3 - Sorting Retrieved Data**"
      ]
    },
    {
      "cell_type": "markdown",
      "metadata": {
        "id": "-06fe35gGu7C"
      },
      "source": [
        "###**Challenge 3-1**\r\n",
        "\r\n",
        "**Write a SQL statement to retrieve all customer names (cust_name) from the Customers table, and display the results sorted from Z to A.**"
      ]
    },
    {
      "cell_type": "code",
      "metadata": {
        "id": "QSDIGjVSG64k",
        "colab": {
          "base_uri": "https://localhost:8080/",
          "height": 0
        },
        "outputId": "78da7e21-1dd4-4a3f-8e4d-dcad8e9b85f1"
      },
      "source": [
        "pd.read_sql(\"SELECT cust_name \\\r\n",
        "             FROM Customers \\\r\n",
        "             ORDER BY cust_name DESC\", conn)"
      ],
      "execution_count": 7,
      "outputs": [
        {
          "output_type": "execute_result",
          "data": {
            "text/html": [
              "<div>\n",
              "<style scoped>\n",
              "    .dataframe tbody tr th:only-of-type {\n",
              "        vertical-align: middle;\n",
              "    }\n",
              "\n",
              "    .dataframe tbody tr th {\n",
              "        vertical-align: top;\n",
              "    }\n",
              "\n",
              "    .dataframe thead th {\n",
              "        text-align: right;\n",
              "    }\n",
              "</style>\n",
              "<table border=\"1\" class=\"dataframe\">\n",
              "  <thead>\n",
              "    <tr style=\"text-align: right;\">\n",
              "      <th></th>\n",
              "      <th>cust_name</th>\n",
              "    </tr>\n",
              "  </thead>\n",
              "  <tbody>\n",
              "    <tr>\n",
              "      <th>0</th>\n",
              "      <td>Village Toys</td>\n",
              "    </tr>\n",
              "    <tr>\n",
              "      <th>1</th>\n",
              "      <td>Toy Land</td>\n",
              "    </tr>\n",
              "    <tr>\n",
              "      <th>2</th>\n",
              "      <td>The Toy Store</td>\n",
              "    </tr>\n",
              "    <tr>\n",
              "      <th>3</th>\n",
              "      <td>Kids Place</td>\n",
              "    </tr>\n",
              "    <tr>\n",
              "      <th>4</th>\n",
              "      <td>Fun4All</td>\n",
              "    </tr>\n",
              "    <tr>\n",
              "      <th>5</th>\n",
              "      <td>Fun4All</td>\n",
              "    </tr>\n",
              "  </tbody>\n",
              "</table>\n",
              "</div>"
            ],
            "text/plain": [
              "       cust_name\n",
              "0   Village Toys\n",
              "1       Toy Land\n",
              "2  The Toy Store\n",
              "3     Kids Place\n",
              "4        Fun4All\n",
              "5        Fun4All"
            ]
          },
          "metadata": {
            "tags": []
          },
          "execution_count": 7
        }
      ]
    },
    {
      "cell_type": "markdown",
      "metadata": {
        "id": "HUTpOMfGHBBp"
      },
      "source": [
        "###**Challenge 3-2**\r\n",
        "\r\n",
        "**Write a SQL statement to retrieve customer id (cust_id) and order number (order_num) from the Orders table, and sort the results first by customer id, and then by order date in reverse chronological order.**"
      ]
    },
    {
      "cell_type": "code",
      "metadata": {
        "id": "0K0cPbr0HEpM",
        "colab": {
          "base_uri": "https://localhost:8080/",
          "height": 0
        },
        "outputId": "a3e97340-6d20-41bf-bd51-a3af7707da2f"
      },
      "source": [
        "pd.read_sql(\"SELECT cust_id, order_num \\\r\n",
        "             FROM Orders \\\r\n",
        "             ORDER BY cust_id, order_date DESC\", conn)"
      ],
      "execution_count": 8,
      "outputs": [
        {
          "output_type": "execute_result",
          "data": {
            "text/html": [
              "<div>\n",
              "<style scoped>\n",
              "    .dataframe tbody tr th:only-of-type {\n",
              "        vertical-align: middle;\n",
              "    }\n",
              "\n",
              "    .dataframe tbody tr th {\n",
              "        vertical-align: top;\n",
              "    }\n",
              "\n",
              "    .dataframe thead th {\n",
              "        text-align: right;\n",
              "    }\n",
              "</style>\n",
              "<table border=\"1\" class=\"dataframe\">\n",
              "  <thead>\n",
              "    <tr style=\"text-align: right;\">\n",
              "      <th></th>\n",
              "      <th>cust_id</th>\n",
              "      <th>order_num</th>\n",
              "    </tr>\n",
              "  </thead>\n",
              "  <tbody>\n",
              "    <tr>\n",
              "      <th>0</th>\n",
              "      <td>1000000001</td>\n",
              "      <td>20005</td>\n",
              "    </tr>\n",
              "    <tr>\n",
              "      <th>1</th>\n",
              "      <td>1000000001</td>\n",
              "      <td>20009</td>\n",
              "    </tr>\n",
              "    <tr>\n",
              "      <th>2</th>\n",
              "      <td>1000000003</td>\n",
              "      <td>20006</td>\n",
              "    </tr>\n",
              "    <tr>\n",
              "      <th>3</th>\n",
              "      <td>1000000004</td>\n",
              "      <td>20007</td>\n",
              "    </tr>\n",
              "    <tr>\n",
              "      <th>4</th>\n",
              "      <td>1000000005</td>\n",
              "      <td>20008</td>\n",
              "    </tr>\n",
              "  </tbody>\n",
              "</table>\n",
              "</div>"
            ],
            "text/plain": [
              "      cust_id  order_num\n",
              "0  1000000001      20005\n",
              "1  1000000001      20009\n",
              "2  1000000003      20006\n",
              "3  1000000004      20007\n",
              "4  1000000005      20008"
            ]
          },
          "metadata": {
            "tags": []
          },
          "execution_count": 8
        }
      ]
    },
    {
      "cell_type": "markdown",
      "metadata": {
        "id": "ZKo-YEpHIrfJ"
      },
      "source": [
        "###**Challenge 3-3**\r\n",
        "\r\n",
        "**Our fictitious store obviously prefers to sell more expensive items, and lots of them. Write a SQL statement to display the quantity and price (item_price) from the OrderItems table, sorted with the highest quantity and highest price first.**"
      ]
    },
    {
      "cell_type": "code",
      "metadata": {
        "id": "-yoVKOoNIvUU",
        "colab": {
          "base_uri": "https://localhost:8080/",
          "height": 0
        },
        "outputId": "3abdbba5-68fd-406e-8421-86d761369ca5"
      },
      "source": [
        "pd.read_sql(\"SELECT quantity, item_price \\\r\n",
        "             FROM OrderItems \\\r\n",
        "             ORDER BY quantity DESC, item_price DESC\", conn)"
      ],
      "execution_count": 9,
      "outputs": [
        {
          "output_type": "execute_result",
          "data": {
            "text/html": [
              "<div>\n",
              "<style scoped>\n",
              "    .dataframe tbody tr th:only-of-type {\n",
              "        vertical-align: middle;\n",
              "    }\n",
              "\n",
              "    .dataframe tbody tr th {\n",
              "        vertical-align: top;\n",
              "    }\n",
              "\n",
              "    .dataframe thead th {\n",
              "        text-align: right;\n",
              "    }\n",
              "</style>\n",
              "<table border=\"1\" class=\"dataframe\">\n",
              "  <thead>\n",
              "    <tr style=\"text-align: right;\">\n",
              "      <th></th>\n",
              "      <th>quantity</th>\n",
              "      <th>item_price</th>\n",
              "    </tr>\n",
              "  </thead>\n",
              "  <tbody>\n",
              "    <tr>\n",
              "      <th>0</th>\n",
              "      <td>250</td>\n",
              "      <td>2.49</td>\n",
              "    </tr>\n",
              "    <tr>\n",
              "      <th>1</th>\n",
              "      <td>250</td>\n",
              "      <td>2.49</td>\n",
              "    </tr>\n",
              "    <tr>\n",
              "      <th>2</th>\n",
              "      <td>250</td>\n",
              "      <td>2.49</td>\n",
              "    </tr>\n",
              "    <tr>\n",
              "      <th>3</th>\n",
              "      <td>100</td>\n",
              "      <td>10.99</td>\n",
              "    </tr>\n",
              "    <tr>\n",
              "      <th>4</th>\n",
              "      <td>100</td>\n",
              "      <td>5.49</td>\n",
              "    </tr>\n",
              "    <tr>\n",
              "      <th>5</th>\n",
              "      <td>100</td>\n",
              "      <td>2.99</td>\n",
              "    </tr>\n",
              "    <tr>\n",
              "      <th>6</th>\n",
              "      <td>100</td>\n",
              "      <td>2.99</td>\n",
              "    </tr>\n",
              "    <tr>\n",
              "      <th>7</th>\n",
              "      <td>100</td>\n",
              "      <td>2.99</td>\n",
              "    </tr>\n",
              "    <tr>\n",
              "      <th>8</th>\n",
              "      <td>50</td>\n",
              "      <td>11.49</td>\n",
              "    </tr>\n",
              "    <tr>\n",
              "      <th>9</th>\n",
              "      <td>50</td>\n",
              "      <td>4.49</td>\n",
              "    </tr>\n",
              "    <tr>\n",
              "      <th>10</th>\n",
              "      <td>20</td>\n",
              "      <td>5.99</td>\n",
              "    </tr>\n",
              "    <tr>\n",
              "      <th>11</th>\n",
              "      <td>10</td>\n",
              "      <td>11.99</td>\n",
              "    </tr>\n",
              "    <tr>\n",
              "      <th>12</th>\n",
              "      <td>10</td>\n",
              "      <td>8.99</td>\n",
              "    </tr>\n",
              "    <tr>\n",
              "      <th>13</th>\n",
              "      <td>10</td>\n",
              "      <td>3.49</td>\n",
              "    </tr>\n",
              "    <tr>\n",
              "      <th>14</th>\n",
              "      <td>10</td>\n",
              "      <td>3.49</td>\n",
              "    </tr>\n",
              "    <tr>\n",
              "      <th>15</th>\n",
              "      <td>10</td>\n",
              "      <td>3.49</td>\n",
              "    </tr>\n",
              "    <tr>\n",
              "      <th>16</th>\n",
              "      <td>5</td>\n",
              "      <td>11.99</td>\n",
              "    </tr>\n",
              "    <tr>\n",
              "      <th>17</th>\n",
              "      <td>5</td>\n",
              "      <td>4.99</td>\n",
              "    </tr>\n",
              "  </tbody>\n",
              "</table>\n",
              "</div>"
            ],
            "text/plain": [
              "    quantity  item_price\n",
              "0        250        2.49\n",
              "1        250        2.49\n",
              "2        250        2.49\n",
              "3        100       10.99\n",
              "4        100        5.49\n",
              "5        100        2.99\n",
              "6        100        2.99\n",
              "7        100        2.99\n",
              "8         50       11.49\n",
              "9         50        4.49\n",
              "10        20        5.99\n",
              "11        10       11.99\n",
              "12        10        8.99\n",
              "13        10        3.49\n",
              "14        10        3.49\n",
              "15        10        3.49\n",
              "16         5       11.99\n",
              "17         5        4.99"
            ]
          },
          "metadata": {
            "tags": []
          },
          "execution_count": 9
        }
      ]
    },
    {
      "cell_type": "markdown",
      "metadata": {
        "id": "7LfirM4qI6Vd"
      },
      "source": [
        "###**Challenge 3-4**\r\n",
        "\r\n",
        "**What is wrong with the following SQL statement? (Try to figure it out without running it):**\r\n",
        "\r\n",
        "**SELECT vend_name,**\r\n",
        "\r\n",
        "**FROM Vendors**\r\n",
        "\r\n",
        "**ORDER vend_name DESC;**"
      ]
    },
    {
      "cell_type": "markdown",
      "metadata": {
        "id": "Wk_PZ_koJF9A"
      },
      "source": [
        "ANSWER: There should be no comma after vend_name and there should be a BY after ORDER"
      ]
    },
    {
      "cell_type": "markdown",
      "metadata": {
        "id": "U_zqI10sEHfp"
      },
      "source": [
        "#**Chapter 4 - Filtering Data**"
      ]
    },
    {
      "cell_type": "markdown",
      "metadata": {
        "id": "YgDD7lLzKKTR"
      },
      "source": [
        "###**Challenge 4-1**\r\n",
        "\r\n",
        "**Write a SQL statement to retrieve the product id (prod_id) and name (prod_name) from the Products table, returning only products with a price of 9.49.**"
      ]
    },
    {
      "cell_type": "code",
      "metadata": {
        "id": "WM785cGWKJxD",
        "colab": {
          "base_uri": "https://localhost:8080/",
          "height": 0
        },
        "outputId": "d6bf4f5a-2625-449b-c32f-8f0891a67142"
      },
      "source": [
        "pd.read_sql(\"SELECT prod_id, prod_name \\\r\n",
        "             FROM Products \\\r\n",
        "             WHERE prod_price = 9.49\", conn)"
      ],
      "execution_count": 10,
      "outputs": [
        {
          "output_type": "execute_result",
          "data": {
            "text/html": [
              "<div>\n",
              "<style scoped>\n",
              "    .dataframe tbody tr th:only-of-type {\n",
              "        vertical-align: middle;\n",
              "    }\n",
              "\n",
              "    .dataframe tbody tr th {\n",
              "        vertical-align: top;\n",
              "    }\n",
              "\n",
              "    .dataframe thead th {\n",
              "        text-align: right;\n",
              "    }\n",
              "</style>\n",
              "<table border=\"1\" class=\"dataframe\">\n",
              "  <thead>\n",
              "    <tr style=\"text-align: right;\">\n",
              "      <th></th>\n",
              "      <th>prod_id</th>\n",
              "      <th>prod_name</th>\n",
              "    </tr>\n",
              "  </thead>\n",
              "  <tbody>\n",
              "    <tr>\n",
              "      <th>0</th>\n",
              "      <td>RYL01</td>\n",
              "      <td>King doll</td>\n",
              "    </tr>\n",
              "    <tr>\n",
              "      <th>1</th>\n",
              "      <td>RYL02</td>\n",
              "      <td>Queen doll</td>\n",
              "    </tr>\n",
              "  </tbody>\n",
              "</table>\n",
              "</div>"
            ],
            "text/plain": [
              "  prod_id   prod_name\n",
              "0   RYL01   King doll\n",
              "1   RYL02  Queen doll"
            ]
          },
          "metadata": {
            "tags": []
          },
          "execution_count": 10
        }
      ]
    },
    {
      "cell_type": "markdown",
      "metadata": {
        "id": "0vLeX2MTL4Ls"
      },
      "source": [
        "###**Challenge 4-2**\r\n",
        "\r\n",
        "**Write a SQL statement to retrieve the product id (prod_id) and name (prod_name) from the Products table, returning only products with a price of 9 or more.**"
      ]
    },
    {
      "cell_type": "code",
      "metadata": {
        "id": "f_x3NHVxL59g",
        "colab": {
          "base_uri": "https://localhost:8080/",
          "height": 0
        },
        "outputId": "2ed4df24-1fb8-483a-ad1e-72fb7fe3139a"
      },
      "source": [
        "pd.read_sql(\"SELECT prod_id, prod_name \\\r\n",
        "             FROM Products \\\r\n",
        "             WHERE prod_price >= 9.49\", conn)"
      ],
      "execution_count": 11,
      "outputs": [
        {
          "output_type": "execute_result",
          "data": {
            "text/html": [
              "<div>\n",
              "<style scoped>\n",
              "    .dataframe tbody tr th:only-of-type {\n",
              "        vertical-align: middle;\n",
              "    }\n",
              "\n",
              "    .dataframe tbody tr th {\n",
              "        vertical-align: top;\n",
              "    }\n",
              "\n",
              "    .dataframe thead th {\n",
              "        text-align: right;\n",
              "    }\n",
              "</style>\n",
              "<table border=\"1\" class=\"dataframe\">\n",
              "  <thead>\n",
              "    <tr style=\"text-align: right;\">\n",
              "      <th></th>\n",
              "      <th>prod_id</th>\n",
              "      <th>prod_name</th>\n",
              "    </tr>\n",
              "  </thead>\n",
              "  <tbody>\n",
              "    <tr>\n",
              "      <th>0</th>\n",
              "      <td>BR03</td>\n",
              "      <td>18 inch teddy bear</td>\n",
              "    </tr>\n",
              "    <tr>\n",
              "      <th>1</th>\n",
              "      <td>RYL01</td>\n",
              "      <td>King doll</td>\n",
              "    </tr>\n",
              "    <tr>\n",
              "      <th>2</th>\n",
              "      <td>RYL02</td>\n",
              "      <td>Queen doll</td>\n",
              "    </tr>\n",
              "  </tbody>\n",
              "</table>\n",
              "</div>"
            ],
            "text/plain": [
              "  prod_id           prod_name\n",
              "0    BR03  18 inch teddy bear\n",
              "1   RYL01           King doll\n",
              "2   RYL02          Queen doll"
            ]
          },
          "metadata": {
            "tags": []
          },
          "execution_count": 11
        }
      ]
    },
    {
      "cell_type": "markdown",
      "metadata": {
        "id": "fByMmE7uMCVn"
      },
      "source": [
        "###**Challenge 4-3**\r\n",
        "\r\n",
        "**Now let’s combine Lessons 3 and 4. Write a SQL statement that retrieves the unique list of order numbers (order_num) from the OrderItems table which contain 100 or more of any item.**"
      ]
    },
    {
      "cell_type": "code",
      "metadata": {
        "id": "fWQoHpczMNgM",
        "colab": {
          "base_uri": "https://localhost:8080/",
          "height": 0
        },
        "outputId": "c19966cf-d8ec-4f66-ed59-9db1c9a8db4b"
      },
      "source": [
        "pd.read_sql(\"SELECT DISTINCT order_num \\\r\n",
        "             FROM OrderItems \\\r\n",
        "             WHERE quantity >= 100\", conn)"
      ],
      "execution_count": 12,
      "outputs": [
        {
          "output_type": "execute_result",
          "data": {
            "text/html": [
              "<div>\n",
              "<style scoped>\n",
              "    .dataframe tbody tr th:only-of-type {\n",
              "        vertical-align: middle;\n",
              "    }\n",
              "\n",
              "    .dataframe tbody tr th {\n",
              "        vertical-align: top;\n",
              "    }\n",
              "\n",
              "    .dataframe thead th {\n",
              "        text-align: right;\n",
              "    }\n",
              "</style>\n",
              "<table border=\"1\" class=\"dataframe\">\n",
              "  <thead>\n",
              "    <tr style=\"text-align: right;\">\n",
              "      <th></th>\n",
              "      <th>order_num</th>\n",
              "    </tr>\n",
              "  </thead>\n",
              "  <tbody>\n",
              "    <tr>\n",
              "      <th>0</th>\n",
              "      <td>20005</td>\n",
              "    </tr>\n",
              "    <tr>\n",
              "      <th>1</th>\n",
              "      <td>20007</td>\n",
              "    </tr>\n",
              "    <tr>\n",
              "      <th>2</th>\n",
              "      <td>20009</td>\n",
              "    </tr>\n",
              "  </tbody>\n",
              "</table>\n",
              "</div>"
            ],
            "text/plain": [
              "   order_num\n",
              "0      20005\n",
              "1      20007\n",
              "2      20009"
            ]
          },
          "metadata": {
            "tags": []
          },
          "execution_count": 12
        }
      ]
    },
    {
      "cell_type": "markdown",
      "metadata": {
        "id": "l-PQWL7tMPIq"
      },
      "source": [
        "###**Challenge 4-4**\r\n",
        "\r\n",
        "**One more. Write a SQL statement which returns the product name (prod_name) and price (prod_price) from Products for all products priced between 3 and 6. Oh, and sort the results by price. (There are multiple solutions to this one and we’ll revisit it in the next lesson, but you can solve it using what you’ve learned thus far).**"
      ]
    },
    {
      "cell_type": "code",
      "metadata": {
        "id": "UIf8ur70MTlx",
        "colab": {
          "base_uri": "https://localhost:8080/",
          "height": 0
        },
        "outputId": "d9ffe2fa-7307-4511-a834-7b07e3ef9472"
      },
      "source": [
        "pd.read_sql(\"SELECT prod_name, prod_price \\\r\n",
        "             FROM Products \\\r\n",
        "             WHERE prod_price BETWEEN 3 AND 6 \\\r\n",
        "             ORDER BY prod_price\", conn)"
      ],
      "execution_count": 13,
      "outputs": [
        {
          "output_type": "execute_result",
          "data": {
            "text/html": [
              "<div>\n",
              "<style scoped>\n",
              "    .dataframe tbody tr th:only-of-type {\n",
              "        vertical-align: middle;\n",
              "    }\n",
              "\n",
              "    .dataframe tbody tr th {\n",
              "        vertical-align: top;\n",
              "    }\n",
              "\n",
              "    .dataframe thead th {\n",
              "        text-align: right;\n",
              "    }\n",
              "</style>\n",
              "<table border=\"1\" class=\"dataframe\">\n",
              "  <thead>\n",
              "    <tr style=\"text-align: right;\">\n",
              "      <th></th>\n",
              "      <th>prod_name</th>\n",
              "      <th>prod_price</th>\n",
              "    </tr>\n",
              "  </thead>\n",
              "  <tbody>\n",
              "    <tr>\n",
              "      <th>0</th>\n",
              "      <td>Fish bean bag toy</td>\n",
              "      <td>3.49</td>\n",
              "    </tr>\n",
              "    <tr>\n",
              "      <th>1</th>\n",
              "      <td>Bird bean bag toy</td>\n",
              "      <td>3.49</td>\n",
              "    </tr>\n",
              "    <tr>\n",
              "      <th>2</th>\n",
              "      <td>Rabbit bean bag toy</td>\n",
              "      <td>3.49</td>\n",
              "    </tr>\n",
              "    <tr>\n",
              "      <th>3</th>\n",
              "      <td>Raggedy Ann</td>\n",
              "      <td>4.99</td>\n",
              "    </tr>\n",
              "    <tr>\n",
              "      <th>4</th>\n",
              "      <td>8 inch teddy bear</td>\n",
              "      <td>5.99</td>\n",
              "    </tr>\n",
              "  </tbody>\n",
              "</table>\n",
              "</div>"
            ],
            "text/plain": [
              "             prod_name  prod_price\n",
              "0    Fish bean bag toy        3.49\n",
              "1    Bird bean bag toy        3.49\n",
              "2  Rabbit bean bag toy        3.49\n",
              "3          Raggedy Ann        4.99\n",
              "4    8 inch teddy bear        5.99"
            ]
          },
          "metadata": {
            "tags": []
          },
          "execution_count": 13
        }
      ]
    },
    {
      "cell_type": "markdown",
      "metadata": {
        "id": "VyYa4-0wEJjg"
      },
      "source": [
        "#**Chapter 5 - Advanced Data Filtering**"
      ]
    },
    {
      "cell_type": "markdown",
      "metadata": {
        "id": "cYLwIDhjOpWy"
      },
      "source": [
        "###**Challenge 5-1**\r\n",
        "\r\n",
        "**Write a SQL statement to retrieve the vendor name (vend_name) from the Vendors table, returning only vendors in California (this requires filtering by both country (USA) and state (CA), after all, there could be a California outside of the USA). Here’s a hint, the filter requires matching strings.**\r\n"
      ]
    },
    {
      "cell_type": "code",
      "metadata": {
        "id": "6qLnlC5oOo3H",
        "colab": {
          "base_uri": "https://localhost:8080/",
          "height": 0
        },
        "outputId": "ccd4638f-da16-41fd-a329-e694ca0328e9"
      },
      "source": [
        "pd.read_sql(\"SELECT vend_name \\\r\n",
        "             FROM Vendors \\\r\n",
        "             WHERE vend_country = 'USA' AND vend_state = 'CA'\", conn)"
      ],
      "execution_count": 14,
      "outputs": [
        {
          "output_type": "execute_result",
          "data": {
            "text/html": [
              "<div>\n",
              "<style scoped>\n",
              "    .dataframe tbody tr th:only-of-type {\n",
              "        vertical-align: middle;\n",
              "    }\n",
              "\n",
              "    .dataframe tbody tr th {\n",
              "        vertical-align: top;\n",
              "    }\n",
              "\n",
              "    .dataframe thead th {\n",
              "        text-align: right;\n",
              "    }\n",
              "</style>\n",
              "<table border=\"1\" class=\"dataframe\">\n",
              "  <thead>\n",
              "    <tr style=\"text-align: right;\">\n",
              "      <th></th>\n",
              "      <th>vend_name</th>\n",
              "    </tr>\n",
              "  </thead>\n",
              "  <tbody>\n",
              "    <tr>\n",
              "      <th>0</th>\n",
              "      <td>Doll House Inc.</td>\n",
              "    </tr>\n",
              "  </tbody>\n",
              "</table>\n",
              "</div>"
            ],
            "text/plain": [
              "         vend_name\n",
              "0  Doll House Inc."
            ]
          },
          "metadata": {
            "tags": []
          },
          "execution_count": 14
        }
      ]
    },
    {
      "cell_type": "markdown",
      "metadata": {
        "id": "_BBPTuTsOuma"
      },
      "source": [
        "###**Challenge 5-2**\r\n",
        "\r\n",
        "**Write a SQL statement to find all orders where at least 100 of items BR01, BR02, or BR03 were ordered. You’ll want to return order number (order_num), product id (prod_id), and quantity for the OrderItems table, filtering by both the product id and quantity. Here’s a hint, depending on how you write your filter, you may need to pay special attention to order of evaluation.**\r\n"
      ]
    },
    {
      "cell_type": "code",
      "metadata": {
        "id": "HfTCII0dOyCQ",
        "colab": {
          "base_uri": "https://localhost:8080/",
          "height": 0
        },
        "outputId": "e4359fc9-7d3b-4263-bde5-f4b9f54888ae"
      },
      "source": [
        "pd.read_sql(\"SELECT order_num, prod_id, quantity \\\r\n",
        "             FROM OrderItems \\\r\n",
        "             WHERE prod_id IN ('BR01', 'BR02', 'BR03') AND quantity >= 100\", conn)"
      ],
      "execution_count": 15,
      "outputs": [
        {
          "output_type": "execute_result",
          "data": {
            "text/html": [
              "<div>\n",
              "<style scoped>\n",
              "    .dataframe tbody tr th:only-of-type {\n",
              "        vertical-align: middle;\n",
              "    }\n",
              "\n",
              "    .dataframe tbody tr th {\n",
              "        vertical-align: top;\n",
              "    }\n",
              "\n",
              "    .dataframe thead th {\n",
              "        text-align: right;\n",
              "    }\n",
              "</style>\n",
              "<table border=\"1\" class=\"dataframe\">\n",
              "  <thead>\n",
              "    <tr style=\"text-align: right;\">\n",
              "      <th></th>\n",
              "      <th>order_num</th>\n",
              "      <th>prod_id</th>\n",
              "      <th>quantity</th>\n",
              "    </tr>\n",
              "  </thead>\n",
              "  <tbody>\n",
              "    <tr>\n",
              "      <th>0</th>\n",
              "      <td>20005</td>\n",
              "      <td>BR01</td>\n",
              "      <td>100</td>\n",
              "    </tr>\n",
              "    <tr>\n",
              "      <th>1</th>\n",
              "      <td>20005</td>\n",
              "      <td>BR03</td>\n",
              "      <td>100</td>\n",
              "    </tr>\n",
              "  </tbody>\n",
              "</table>\n",
              "</div>"
            ],
            "text/plain": [
              "   order_num prod_id  quantity\n",
              "0      20005    BR01       100\n",
              "1      20005    BR03       100"
            ]
          },
          "metadata": {
            "tags": []
          },
          "execution_count": 15
        }
      ]
    },
    {
      "cell_type": "markdown",
      "metadata": {
        "id": "MSkUuioyO4xw"
      },
      "source": [
        "###**Challenge 5-3**\r\n",
        "\r\n",
        "**Now let’s revisit a challenge from the previous lesson. Write a SQL statement which returns the product name (prod_name) and price (prod_price) from Products for all products priced between 3 and 6. Use an AND, and sort the results by price.**\r\n"
      ]
    },
    {
      "cell_type": "code",
      "metadata": {
        "id": "nK1tNzvEO7sK",
        "colab": {
          "base_uri": "https://localhost:8080/",
          "height": 0
        },
        "outputId": "3fc767d8-9ea5-4395-9fc4-7ad491cfd998"
      },
      "source": [
        "pd.read_sql(\"SELECT prod_name, prod_price \\\r\n",
        "             FROM Products \\\r\n",
        "             WHERE prod_price >= 3 AND prod_price <= 6 \\\r\n",
        "             ORDER BY prod_price\", conn)"
      ],
      "execution_count": 16,
      "outputs": [
        {
          "output_type": "execute_result",
          "data": {
            "text/html": [
              "<div>\n",
              "<style scoped>\n",
              "    .dataframe tbody tr th:only-of-type {\n",
              "        vertical-align: middle;\n",
              "    }\n",
              "\n",
              "    .dataframe tbody tr th {\n",
              "        vertical-align: top;\n",
              "    }\n",
              "\n",
              "    .dataframe thead th {\n",
              "        text-align: right;\n",
              "    }\n",
              "</style>\n",
              "<table border=\"1\" class=\"dataframe\">\n",
              "  <thead>\n",
              "    <tr style=\"text-align: right;\">\n",
              "      <th></th>\n",
              "      <th>prod_name</th>\n",
              "      <th>prod_price</th>\n",
              "    </tr>\n",
              "  </thead>\n",
              "  <tbody>\n",
              "    <tr>\n",
              "      <th>0</th>\n",
              "      <td>Fish bean bag toy</td>\n",
              "      <td>3.49</td>\n",
              "    </tr>\n",
              "    <tr>\n",
              "      <th>1</th>\n",
              "      <td>Bird bean bag toy</td>\n",
              "      <td>3.49</td>\n",
              "    </tr>\n",
              "    <tr>\n",
              "      <th>2</th>\n",
              "      <td>Rabbit bean bag toy</td>\n",
              "      <td>3.49</td>\n",
              "    </tr>\n",
              "    <tr>\n",
              "      <th>3</th>\n",
              "      <td>Raggedy Ann</td>\n",
              "      <td>4.99</td>\n",
              "    </tr>\n",
              "    <tr>\n",
              "      <th>4</th>\n",
              "      <td>8 inch teddy bear</td>\n",
              "      <td>5.99</td>\n",
              "    </tr>\n",
              "  </tbody>\n",
              "</table>\n",
              "</div>"
            ],
            "text/plain": [
              "             prod_name  prod_price\n",
              "0    Fish bean bag toy        3.49\n",
              "1    Bird bean bag toy        3.49\n",
              "2  Rabbit bean bag toy        3.49\n",
              "3          Raggedy Ann        4.99\n",
              "4    8 inch teddy bear        5.99"
            ]
          },
          "metadata": {
            "tags": []
          },
          "execution_count": 16
        }
      ]
    },
    {
      "cell_type": "markdown",
      "metadata": {
        "id": "xh9NgUcEO9na"
      },
      "source": [
        "###**Challenge 5-4**\r\n",
        "\r\n",
        "**What is wrong with the following SQL statement? (Try to figure it out without running it):**\r\n",
        "\r\n",
        "**SELECT vend_name**\r\n",
        "\r\n",
        "**FROM Vendors**\r\n",
        "\r\n",
        "**ORDER BY vend_name**\r\n",
        "\r\n",
        "**WHERE vend_country = 'USA' AND vend_state = 'CA';**"
      ]
    },
    {
      "cell_type": "markdown",
      "metadata": {
        "id": "oTCDdusjPAaJ"
      },
      "source": [
        "ANSWER: ORDER BY vend_name should come after WHERE clause"
      ]
    },
    {
      "cell_type": "markdown",
      "metadata": {
        "id": "Ambu8nIMEOe1"
      },
      "source": [
        "#**Chapter 6 - Using Wildcard Filtering**"
      ]
    },
    {
      "cell_type": "markdown",
      "metadata": {
        "id": "ZX1aHL6iSLU0"
      },
      "source": [
        "###**Challenge 6-1**\r\n",
        "\r\n",
        "**Write a SQL statement to retrieve the product name (prod_name) and description (prod_desc) from the Products table, returning only products where the word toy is in the description.**\r\n"
      ]
    },
    {
      "cell_type": "code",
      "metadata": {
        "id": "SvpXENiQSmoq",
        "colab": {
          "base_uri": "https://localhost:8080/",
          "height": 0
        },
        "outputId": "265e764d-383b-40b3-e25e-d0c73cd0f77d"
      },
      "source": [
        "pd.read_sql(\"SELECT prod_name, prod_desc \\\r\n",
        "             FROM Products \\\r\n",
        "             WHERE prod_desc LIKE '%toy%'\", conn)"
      ],
      "execution_count": 17,
      "outputs": [
        {
          "output_type": "execute_result",
          "data": {
            "text/html": [
              "<div>\n",
              "<style scoped>\n",
              "    .dataframe tbody tr th:only-of-type {\n",
              "        vertical-align: middle;\n",
              "    }\n",
              "\n",
              "    .dataframe tbody tr th {\n",
              "        vertical-align: top;\n",
              "    }\n",
              "\n",
              "    .dataframe thead th {\n",
              "        text-align: right;\n",
              "    }\n",
              "</style>\n",
              "<table border=\"1\" class=\"dataframe\">\n",
              "  <thead>\n",
              "    <tr style=\"text-align: right;\">\n",
              "      <th></th>\n",
              "      <th>prod_name</th>\n",
              "      <th>prod_desc</th>\n",
              "    </tr>\n",
              "  </thead>\n",
              "  <tbody>\n",
              "    <tr>\n",
              "      <th>0</th>\n",
              "      <td>Fish bean bag toy</td>\n",
              "      <td>Fish bean bag toy, complete with bean bag worm...</td>\n",
              "    </tr>\n",
              "    <tr>\n",
              "      <th>1</th>\n",
              "      <td>Bird bean bag toy</td>\n",
              "      <td>Bird bean bag toy, eggs are not included</td>\n",
              "    </tr>\n",
              "    <tr>\n",
              "      <th>2</th>\n",
              "      <td>Rabbit bean bag toy</td>\n",
              "      <td>Rabbit bean bag toy, comes with bean bag carrots</td>\n",
              "    </tr>\n",
              "  </tbody>\n",
              "</table>\n",
              "</div>"
            ],
            "text/plain": [
              "             prod_name                                          prod_desc\n",
              "0    Fish bean bag toy  Fish bean bag toy, complete with bean bag worm...\n",
              "1    Bird bean bag toy           Bird bean bag toy, eggs are not included\n",
              "2  Rabbit bean bag toy   Rabbit bean bag toy, comes with bean bag carrots"
            ]
          },
          "metadata": {
            "tags": []
          },
          "execution_count": 17
        }
      ]
    },
    {
      "cell_type": "markdown",
      "metadata": {
        "id": "TMqbsvb8SL5o"
      },
      "source": [
        "###**Challenge 6-2**\r\n",
        "\r\n",
        "**Now let’s flip things around. Write a SQL statement to retrieve the product name (prod_name) and description (prod_desc) from the Products table, returning only products where the word toy doesn’t appear in the description. And this time, sort the results by product name.**\r\n"
      ]
    },
    {
      "cell_type": "code",
      "metadata": {
        "id": "YEIDMwQ-SnHe",
        "colab": {
          "base_uri": "https://localhost:8080/",
          "height": 0
        },
        "outputId": "1eee839b-5034-4ecb-f988-a521c442c7a2"
      },
      "source": [
        "pd.read_sql(\"SELECT prod_name, prod_desc \\\r\n",
        "             FROM Products \\\r\n",
        "             WHERE NOT prod_desc LIKE '%toy%' \\\r\n",
        "             ORDER BY prod_name\", conn)"
      ],
      "execution_count": 18,
      "outputs": [
        {
          "output_type": "execute_result",
          "data": {
            "text/html": [
              "<div>\n",
              "<style scoped>\n",
              "    .dataframe tbody tr th:only-of-type {\n",
              "        vertical-align: middle;\n",
              "    }\n",
              "\n",
              "    .dataframe tbody tr th {\n",
              "        vertical-align: top;\n",
              "    }\n",
              "\n",
              "    .dataframe thead th {\n",
              "        text-align: right;\n",
              "    }\n",
              "</style>\n",
              "<table border=\"1\" class=\"dataframe\">\n",
              "  <thead>\n",
              "    <tr style=\"text-align: right;\">\n",
              "      <th></th>\n",
              "      <th>prod_name</th>\n",
              "      <th>prod_desc</th>\n",
              "    </tr>\n",
              "  </thead>\n",
              "  <tbody>\n",
              "    <tr>\n",
              "      <th>0</th>\n",
              "      <td>12 inch teddy bear</td>\n",
              "      <td>12 inch teddy bear, comes with cap and jacket</td>\n",
              "    </tr>\n",
              "    <tr>\n",
              "      <th>1</th>\n",
              "      <td>18 inch teddy bear</td>\n",
              "      <td>18 inch teddy bear, comes with cap and jacket</td>\n",
              "    </tr>\n",
              "    <tr>\n",
              "      <th>2</th>\n",
              "      <td>8 inch teddy bear</td>\n",
              "      <td>8 inch teddy bear, comes with cap and jacket</td>\n",
              "    </tr>\n",
              "    <tr>\n",
              "      <th>3</th>\n",
              "      <td>King doll</td>\n",
              "      <td>12 inch king doll with royal garments and crown</td>\n",
              "    </tr>\n",
              "    <tr>\n",
              "      <th>4</th>\n",
              "      <td>Queen doll</td>\n",
              "      <td>12 inch queen doll with royal garments and crown</td>\n",
              "    </tr>\n",
              "    <tr>\n",
              "      <th>5</th>\n",
              "      <td>Raggedy Ann</td>\n",
              "      <td>18 inch Raggedy Ann doll</td>\n",
              "    </tr>\n",
              "  </tbody>\n",
              "</table>\n",
              "</div>"
            ],
            "text/plain": [
              "            prod_name                                         prod_desc\n",
              "0  12 inch teddy bear     12 inch teddy bear, comes with cap and jacket\n",
              "1  18 inch teddy bear     18 inch teddy bear, comes with cap and jacket\n",
              "2   8 inch teddy bear      8 inch teddy bear, comes with cap and jacket\n",
              "3           King doll   12 inch king doll with royal garments and crown\n",
              "4          Queen doll  12 inch queen doll with royal garments and crown\n",
              "5         Raggedy Ann                          18 inch Raggedy Ann doll"
            ]
          },
          "metadata": {
            "tags": []
          },
          "execution_count": 18
        }
      ]
    },
    {
      "cell_type": "markdown",
      "metadata": {
        "id": "ZMoTlFPSSMHk"
      },
      "source": [
        "###**Challenge 6-3**\r\n",
        "\r\n",
        "**Write a SQL statement to retrieve the product name (prod_name) and description (prod_desc) from the Products table, returning only products where both the words toy and carrots appear in the description. There are a couple of ways to do this, but for this challenge use AND and two LIKE comparisons.**\r\n"
      ]
    },
    {
      "cell_type": "code",
      "metadata": {
        "id": "kI85Pvn-Snk4",
        "colab": {
          "base_uri": "https://localhost:8080/",
          "height": 0
        },
        "outputId": "012f4e3c-2d97-44e0-8595-38602e933755"
      },
      "source": [
        "pd.read_sql(\"SELECT prod_name, prod_desc \\\r\n",
        "             FROM Products \\\r\n",
        "             WHERE prod_desc LIKE '%toy%' AND prod_desc LIKE '%carrots%'\", conn)"
      ],
      "execution_count": 19,
      "outputs": [
        {
          "output_type": "execute_result",
          "data": {
            "text/html": [
              "<div>\n",
              "<style scoped>\n",
              "    .dataframe tbody tr th:only-of-type {\n",
              "        vertical-align: middle;\n",
              "    }\n",
              "\n",
              "    .dataframe tbody tr th {\n",
              "        vertical-align: top;\n",
              "    }\n",
              "\n",
              "    .dataframe thead th {\n",
              "        text-align: right;\n",
              "    }\n",
              "</style>\n",
              "<table border=\"1\" class=\"dataframe\">\n",
              "  <thead>\n",
              "    <tr style=\"text-align: right;\">\n",
              "      <th></th>\n",
              "      <th>prod_name</th>\n",
              "      <th>prod_desc</th>\n",
              "    </tr>\n",
              "  </thead>\n",
              "  <tbody>\n",
              "    <tr>\n",
              "      <th>0</th>\n",
              "      <td>Rabbit bean bag toy</td>\n",
              "      <td>Rabbit bean bag toy, comes with bean bag carrots</td>\n",
              "    </tr>\n",
              "  </tbody>\n",
              "</table>\n",
              "</div>"
            ],
            "text/plain": [
              "             prod_name                                         prod_desc\n",
              "0  Rabbit bean bag toy  Rabbit bean bag toy, comes with bean bag carrots"
            ]
          },
          "metadata": {
            "tags": []
          },
          "execution_count": 19
        }
      ]
    },
    {
      "cell_type": "markdown",
      "metadata": {
        "id": "-f1HPdIYSMUd"
      },
      "source": [
        "###**Challenge 6-4**\r\n",
        "\r\n",
        "**This next one is a little trickier. I didn’t show you this syntax specifically, but see if you can figure it out anyway based on what you have learned thus far. Write a SQL statement to retrieve the product name (prod_name) and description (prod_desc) from the Products table, returning only products where both the words toy and carrots appear in the description in that order (the word toy before the word carrots). Here’s a hint, you’ll only need one LIKE with 3 % symbols to do this.**\r\n"
      ]
    },
    {
      "cell_type": "code",
      "metadata": {
        "id": "Wi-uFSZxSoOy",
        "colab": {
          "base_uri": "https://localhost:8080/",
          "height": 0
        },
        "outputId": "b6dd6ed2-b742-4a65-e00a-c5c70501227e"
      },
      "source": [
        "pd.read_sql(\"SELECT prod_name, prod_desc \\\r\n",
        "             FROM Products \\\r\n",
        "             WHERE prod_desc LIKE '%toy%carrots%'\", conn)"
      ],
      "execution_count": 20,
      "outputs": [
        {
          "output_type": "execute_result",
          "data": {
            "text/html": [
              "<div>\n",
              "<style scoped>\n",
              "    .dataframe tbody tr th:only-of-type {\n",
              "        vertical-align: middle;\n",
              "    }\n",
              "\n",
              "    .dataframe tbody tr th {\n",
              "        vertical-align: top;\n",
              "    }\n",
              "\n",
              "    .dataframe thead th {\n",
              "        text-align: right;\n",
              "    }\n",
              "</style>\n",
              "<table border=\"1\" class=\"dataframe\">\n",
              "  <thead>\n",
              "    <tr style=\"text-align: right;\">\n",
              "      <th></th>\n",
              "      <th>prod_name</th>\n",
              "      <th>prod_desc</th>\n",
              "    </tr>\n",
              "  </thead>\n",
              "  <tbody>\n",
              "    <tr>\n",
              "      <th>0</th>\n",
              "      <td>Rabbit bean bag toy</td>\n",
              "      <td>Rabbit bean bag toy, comes with bean bag carrots</td>\n",
              "    </tr>\n",
              "  </tbody>\n",
              "</table>\n",
              "</div>"
            ],
            "text/plain": [
              "             prod_name                                         prod_desc\n",
              "0  Rabbit bean bag toy  Rabbit bean bag toy, comes with bean bag carrots"
            ]
          },
          "metadata": {
            "tags": []
          },
          "execution_count": 20
        }
      ]
    },
    {
      "cell_type": "markdown",
      "metadata": {
        "id": "fcSbl6VrESh8"
      },
      "source": [
        "#**Chapter 7 - Creating Calculated Fields**"
      ]
    },
    {
      "cell_type": "markdown",
      "metadata": {
        "id": "WJkbGEySTl9Q"
      },
      "source": [
        "###**Challenge 7-1**\r\n",
        "\r\n",
        "**A common use for aliases is to rename table column fields in retrieved results (perhaps to match specific reporting or client needs). Write a SQL statement that retrieves vend_id, vend_name, vend_address, and vend_city from Vendors, renaming vend_name to vname, vend_city to vcity, and vend_address to vaddress. Sort the results by vendor name (you can use the original name or the renamed name).**\r\n"
      ]
    },
    {
      "cell_type": "code",
      "metadata": {
        "id": "uK2lqOJjTth5",
        "colab": {
          "base_uri": "https://localhost:8080/",
          "height": 0
        },
        "outputId": "971d409b-a305-4588-9aa1-f1cd87ccb90f"
      },
      "source": [
        "pd.read_sql(\"SELECT vend_id, vend_name AS vname, vend_address AS vaddress, vend_city AS vcity \\\r\n",
        "             FROM Vendors \\\r\n",
        "             ORDER BY vname\", conn)"
      ],
      "execution_count": 21,
      "outputs": [
        {
          "output_type": "execute_result",
          "data": {
            "text/html": [
              "<div>\n",
              "<style scoped>\n",
              "    .dataframe tbody tr th:only-of-type {\n",
              "        vertical-align: middle;\n",
              "    }\n",
              "\n",
              "    .dataframe tbody tr th {\n",
              "        vertical-align: top;\n",
              "    }\n",
              "\n",
              "    .dataframe thead th {\n",
              "        text-align: right;\n",
              "    }\n",
              "</style>\n",
              "<table border=\"1\" class=\"dataframe\">\n",
              "  <thead>\n",
              "    <tr style=\"text-align: right;\">\n",
              "      <th></th>\n",
              "      <th>vend_id</th>\n",
              "      <th>vname</th>\n",
              "      <th>vaddress</th>\n",
              "      <th>vcity</th>\n",
              "    </tr>\n",
              "  </thead>\n",
              "  <tbody>\n",
              "    <tr>\n",
              "      <th>0</th>\n",
              "      <td>BRE02</td>\n",
              "      <td>Bear Emporium</td>\n",
              "      <td>500 Park Street</td>\n",
              "      <td>Anytown</td>\n",
              "    </tr>\n",
              "    <tr>\n",
              "      <th>1</th>\n",
              "      <td>BRS01</td>\n",
              "      <td>Bears R Us</td>\n",
              "      <td>123 Main Street</td>\n",
              "      <td>Bear Town</td>\n",
              "    </tr>\n",
              "    <tr>\n",
              "      <th>2</th>\n",
              "      <td>DLL01</td>\n",
              "      <td>Doll House Inc.</td>\n",
              "      <td>555 High Street</td>\n",
              "      <td>Dollsville</td>\n",
              "    </tr>\n",
              "    <tr>\n",
              "      <th>3</th>\n",
              "      <td>FNG01</td>\n",
              "      <td>Fun and Games</td>\n",
              "      <td>42 Galaxy Road</td>\n",
              "      <td>London</td>\n",
              "    </tr>\n",
              "    <tr>\n",
              "      <th>4</th>\n",
              "      <td>FRB01</td>\n",
              "      <td>Furball Inc.</td>\n",
              "      <td>1000 5th Avenue</td>\n",
              "      <td>New York</td>\n",
              "    </tr>\n",
              "    <tr>\n",
              "      <th>5</th>\n",
              "      <td>JTS01</td>\n",
              "      <td>Jouets et ours</td>\n",
              "      <td>1 Rue Amusement</td>\n",
              "      <td>Paris</td>\n",
              "    </tr>\n",
              "  </tbody>\n",
              "</table>\n",
              "</div>"
            ],
            "text/plain": [
              "  vend_id            vname         vaddress       vcity\n",
              "0   BRE02    Bear Emporium  500 Park Street     Anytown\n",
              "1   BRS01       Bears R Us  123 Main Street   Bear Town\n",
              "2   DLL01  Doll House Inc.  555 High Street  Dollsville\n",
              "3   FNG01    Fun and Games   42 Galaxy Road      London\n",
              "4   FRB01     Furball Inc.  1000 5th Avenue    New York\n",
              "5   JTS01   Jouets et ours  1 Rue Amusement       Paris"
            ]
          },
          "metadata": {
            "tags": []
          },
          "execution_count": 21
        }
      ]
    },
    {
      "cell_type": "markdown",
      "metadata": {
        "id": "UJj5JzlOTmJs"
      },
      "source": [
        "###**Challenge 7-2**\r\n",
        "\r\n",
        "**Our example store is running a sale and all products are 10% off. Write a SQL statement that returns prod_id, prod_price, and sale_price from the Products table. sale_price is a calculated field that contains, well, the sale price. Here’s a hint, you can multiply by 0.9 to get 90% of the original value (and thus the 10% off price).**\r\n"
      ]
    },
    {
      "cell_type": "code",
      "metadata": {
        "id": "vrMMmX5cTuEu",
        "colab": {
          "base_uri": "https://localhost:8080/",
          "height": 0
        },
        "outputId": "807d5488-a9e6-4c06-91fd-05cf276d406a"
      },
      "source": [
        "pd.read_sql(\"SELECT prod_id, prod_price, prod_price * 0.9 AS sale_price \\\r\n",
        "             FROM Products\", conn)"
      ],
      "execution_count": 22,
      "outputs": [
        {
          "output_type": "execute_result",
          "data": {
            "text/html": [
              "<div>\n",
              "<style scoped>\n",
              "    .dataframe tbody tr th:only-of-type {\n",
              "        vertical-align: middle;\n",
              "    }\n",
              "\n",
              "    .dataframe tbody tr th {\n",
              "        vertical-align: top;\n",
              "    }\n",
              "\n",
              "    .dataframe thead th {\n",
              "        text-align: right;\n",
              "    }\n",
              "</style>\n",
              "<table border=\"1\" class=\"dataframe\">\n",
              "  <thead>\n",
              "    <tr style=\"text-align: right;\">\n",
              "      <th></th>\n",
              "      <th>prod_id</th>\n",
              "      <th>prod_price</th>\n",
              "      <th>sale_price</th>\n",
              "    </tr>\n",
              "  </thead>\n",
              "  <tbody>\n",
              "    <tr>\n",
              "      <th>0</th>\n",
              "      <td>BR01</td>\n",
              "      <td>5.99</td>\n",
              "      <td>5.391</td>\n",
              "    </tr>\n",
              "    <tr>\n",
              "      <th>1</th>\n",
              "      <td>BR02</td>\n",
              "      <td>8.99</td>\n",
              "      <td>8.091</td>\n",
              "    </tr>\n",
              "    <tr>\n",
              "      <th>2</th>\n",
              "      <td>BR03</td>\n",
              "      <td>11.99</td>\n",
              "      <td>10.791</td>\n",
              "    </tr>\n",
              "    <tr>\n",
              "      <th>3</th>\n",
              "      <td>BNBG01</td>\n",
              "      <td>3.49</td>\n",
              "      <td>3.141</td>\n",
              "    </tr>\n",
              "    <tr>\n",
              "      <th>4</th>\n",
              "      <td>BNBG02</td>\n",
              "      <td>3.49</td>\n",
              "      <td>3.141</td>\n",
              "    </tr>\n",
              "    <tr>\n",
              "      <th>5</th>\n",
              "      <td>BNBG03</td>\n",
              "      <td>3.49</td>\n",
              "      <td>3.141</td>\n",
              "    </tr>\n",
              "    <tr>\n",
              "      <th>6</th>\n",
              "      <td>RGAN01</td>\n",
              "      <td>4.99</td>\n",
              "      <td>4.491</td>\n",
              "    </tr>\n",
              "    <tr>\n",
              "      <th>7</th>\n",
              "      <td>RYL01</td>\n",
              "      <td>9.49</td>\n",
              "      <td>8.541</td>\n",
              "    </tr>\n",
              "    <tr>\n",
              "      <th>8</th>\n",
              "      <td>RYL02</td>\n",
              "      <td>9.49</td>\n",
              "      <td>8.541</td>\n",
              "    </tr>\n",
              "  </tbody>\n",
              "</table>\n",
              "</div>"
            ],
            "text/plain": [
              "  prod_id  prod_price  sale_price\n",
              "0    BR01        5.99       5.391\n",
              "1    BR02        8.99       8.091\n",
              "2    BR03       11.99      10.791\n",
              "3  BNBG01        3.49       3.141\n",
              "4  BNBG02        3.49       3.141\n",
              "5  BNBG03        3.49       3.141\n",
              "6  RGAN01        4.99       4.491\n",
              "7   RYL01        9.49       8.541\n",
              "8   RYL02        9.49       8.541"
            ]
          },
          "metadata": {
            "tags": []
          },
          "execution_count": 22
        }
      ]
    },
    {
      "cell_type": "markdown",
      "metadata": {
        "id": "6jGyW8c1EWbI"
      },
      "source": [
        "#**Chapter 8 - Using Data Manipulating Functions**"
      ]
    },
    {
      "cell_type": "markdown",
      "metadata": {
        "id": "HHx9eo6vUUAh"
      },
      "source": [
        "###**Challenge 8-1**\r\n",
        "\r\n",
        "**Our store is now online and customer accounts are being created. Each user needs a login, and the default login will be a combination of their name and city. Write a SQL statement that returns customer id (cust_id), customer name (cust_name) and user_login which is all upper case and comprised of the first two characters of the customer contact (cust_contact) and the first three characters of the customer city (cust_city). So, for example, my login (Ben Forta living in Oak Park) would be BEOAK. Hint, for this one you’ll use functions, concatenation, and an alias.**\r\n"
      ]
    },
    {
      "cell_type": "code",
      "metadata": {
        "id": "y9UwfifTViQ3",
        "colab": {
          "base_uri": "https://localhost:8080/",
          "height": 0
        },
        "outputId": "510b03fe-9f1c-47f5-c7c9-6f5bf728e47c"
      },
      "source": [
        "pd.read_sql(\"SELECT cust_id, cust_name, UPPER(SUBSTR(cust_contact, 1, 2)) || UPPER(SUBSTR(cust_city, 1, 3)) AS user_login \\\r\n",
        "             FROM customers\", conn)"
      ],
      "execution_count": 23,
      "outputs": [
        {
          "output_type": "execute_result",
          "data": {
            "text/html": [
              "<div>\n",
              "<style scoped>\n",
              "    .dataframe tbody tr th:only-of-type {\n",
              "        vertical-align: middle;\n",
              "    }\n",
              "\n",
              "    .dataframe tbody tr th {\n",
              "        vertical-align: top;\n",
              "    }\n",
              "\n",
              "    .dataframe thead th {\n",
              "        text-align: right;\n",
              "    }\n",
              "</style>\n",
              "<table border=\"1\" class=\"dataframe\">\n",
              "  <thead>\n",
              "    <tr style=\"text-align: right;\">\n",
              "      <th></th>\n",
              "      <th>cust_id</th>\n",
              "      <th>cust_name</th>\n",
              "      <th>user_login</th>\n",
              "    </tr>\n",
              "  </thead>\n",
              "  <tbody>\n",
              "    <tr>\n",
              "      <th>0</th>\n",
              "      <td>1000000001</td>\n",
              "      <td>Village Toys</td>\n",
              "      <td>JODET</td>\n",
              "    </tr>\n",
              "    <tr>\n",
              "      <th>1</th>\n",
              "      <td>1000000002</td>\n",
              "      <td>Kids Place</td>\n",
              "      <td>MICOL</td>\n",
              "    </tr>\n",
              "    <tr>\n",
              "      <th>2</th>\n",
              "      <td>1000000003</td>\n",
              "      <td>Fun4All</td>\n",
              "      <td>JIMUN</td>\n",
              "    </tr>\n",
              "    <tr>\n",
              "      <th>3</th>\n",
              "      <td>1000000004</td>\n",
              "      <td>Fun4All</td>\n",
              "      <td>DEPHO</td>\n",
              "    </tr>\n",
              "    <tr>\n",
              "      <th>4</th>\n",
              "      <td>1000000005</td>\n",
              "      <td>The Toy Store</td>\n",
              "      <td>KICHI</td>\n",
              "    </tr>\n",
              "    <tr>\n",
              "      <th>5</th>\n",
              "      <td>1000000006</td>\n",
              "      <td>Toy Land</td>\n",
              "      <td>None</td>\n",
              "    </tr>\n",
              "  </tbody>\n",
              "</table>\n",
              "</div>"
            ],
            "text/plain": [
              "      cust_id      cust_name user_login\n",
              "0  1000000001   Village Toys      JODET\n",
              "1  1000000002     Kids Place      MICOL\n",
              "2  1000000003        Fun4All      JIMUN\n",
              "3  1000000004        Fun4All      DEPHO\n",
              "4  1000000005  The Toy Store      KICHI\n",
              "5  1000000006       Toy Land       None"
            ]
          },
          "metadata": {
            "tags": []
          },
          "execution_count": 23
        }
      ]
    },
    {
      "cell_type": "markdown",
      "metadata": {
        "id": "vHmhpdBrUUNQ"
      },
      "source": [
        "###**Challenge 8-2**\r\n",
        "\r\n",
        "**Write a SQL statement to return the order number (order_num) and order date (order_date) for all orders placed in January 2020, sorted by order date. You should be able to figure this out based on what you have learned thus far, but feel free to consult your DBMS documentation as needed.**"
      ]
    },
    {
      "cell_type": "code",
      "metadata": {
        "id": "giHJO0joViqV",
        "colab": {
          "base_uri": "https://localhost:8080/",
          "height": 0
        },
        "outputId": "f7f5630d-4845-40e0-cd08-f336bf0d848a"
      },
      "source": [
        "pd.read_sql(\"SELECT order_num \\\r\n",
        "             FROM Orders \\\r\n",
        "             WHERE strftime('%Y', order_date) = '2020' AND strftime('%m', order_date) = '01' \\\r\n",
        "             ORDER BY order_date\", conn)"
      ],
      "execution_count": 24,
      "outputs": [
        {
          "output_type": "execute_result",
          "data": {
            "text/html": [
              "<div>\n",
              "<style scoped>\n",
              "    .dataframe tbody tr th:only-of-type {\n",
              "        vertical-align: middle;\n",
              "    }\n",
              "\n",
              "    .dataframe tbody tr th {\n",
              "        vertical-align: top;\n",
              "    }\n",
              "\n",
              "    .dataframe thead th {\n",
              "        text-align: right;\n",
              "    }\n",
              "</style>\n",
              "<table border=\"1\" class=\"dataframe\">\n",
              "  <thead>\n",
              "    <tr style=\"text-align: right;\">\n",
              "      <th></th>\n",
              "      <th>order_num</th>\n",
              "    </tr>\n",
              "  </thead>\n",
              "  <tbody>\n",
              "    <tr>\n",
              "      <th>0</th>\n",
              "      <td>20006</td>\n",
              "    </tr>\n",
              "    <tr>\n",
              "      <th>1</th>\n",
              "      <td>20007</td>\n",
              "    </tr>\n",
              "  </tbody>\n",
              "</table>\n",
              "</div>"
            ],
            "text/plain": [
              "   order_num\n",
              "0      20006\n",
              "1      20007"
            ]
          },
          "metadata": {
            "tags": []
          },
          "execution_count": 24
        }
      ]
    },
    {
      "cell_type": "markdown",
      "metadata": {
        "id": "uWqMv4OjEaRo"
      },
      "source": [
        "#**Chapter 9 - Summarizing Data**"
      ]
    },
    {
      "cell_type": "markdown",
      "metadata": {
        "id": "Mkv63iVnYd1p"
      },
      "source": [
        "###**Challenge 9-1**\r\n",
        "\r\n",
        "**Write a SQL statement to determine the total number of items sold (using the quantity column in OrderItems).**\r\n"
      ]
    },
    {
      "cell_type": "code",
      "metadata": {
        "id": "4KyiWIY1YpMT",
        "colab": {
          "base_uri": "https://localhost:8080/",
          "height": 0
        },
        "outputId": "22124de8-6706-4e65-8113-cb5b7f7550bf"
      },
      "source": [
        "pd.read_sql(\"SELECT SUM(quantity) AS items_ordered \\\r\n",
        "             FROM OrderItems\", conn)"
      ],
      "execution_count": 25,
      "outputs": [
        {
          "output_type": "execute_result",
          "data": {
            "text/html": [
              "<div>\n",
              "<style scoped>\n",
              "    .dataframe tbody tr th:only-of-type {\n",
              "        vertical-align: middle;\n",
              "    }\n",
              "\n",
              "    .dataframe tbody tr th {\n",
              "        vertical-align: top;\n",
              "    }\n",
              "\n",
              "    .dataframe thead th {\n",
              "        text-align: right;\n",
              "    }\n",
              "</style>\n",
              "<table border=\"1\" class=\"dataframe\">\n",
              "  <thead>\n",
              "    <tr style=\"text-align: right;\">\n",
              "      <th></th>\n",
              "      <th>items_ordered</th>\n",
              "    </tr>\n",
              "  </thead>\n",
              "  <tbody>\n",
              "    <tr>\n",
              "      <th>0</th>\n",
              "      <td>1430</td>\n",
              "    </tr>\n",
              "  </tbody>\n",
              "</table>\n",
              "</div>"
            ],
            "text/plain": [
              "   items_ordered\n",
              "0           1430"
            ]
          },
          "metadata": {
            "tags": []
          },
          "execution_count": 25
        }
      ]
    },
    {
      "cell_type": "markdown",
      "metadata": {
        "id": "Ja7XYwUWYeA2"
      },
      "source": [
        "###**Challenge 9-2**\r\n",
        "\r\n",
        "**Modify the statement you just created to determine the total number of products with an id (prod_id) BR01 sold.**\r\n"
      ]
    },
    {
      "cell_type": "code",
      "metadata": {
        "id": "cTAwWYMSYrYF",
        "colab": {
          "base_uri": "https://localhost:8080/",
          "height": 80
        },
        "outputId": "83625ac7-8594-438c-8153-4e6c82effe53"
      },
      "source": [
        "pd.read_sql(\"SELECT SUM(quantity) AS items_ordered \\\r\n",
        "             FROM OrderItems \\\r\n",
        "             WHERE prod_id = 'BR01'\", conn)"
      ],
      "execution_count": 26,
      "outputs": [
        {
          "output_type": "execute_result",
          "data": {
            "text/html": [
              "<div>\n",
              "<style scoped>\n",
              "    .dataframe tbody tr th:only-of-type {\n",
              "        vertical-align: middle;\n",
              "    }\n",
              "\n",
              "    .dataframe tbody tr th {\n",
              "        vertical-align: top;\n",
              "    }\n",
              "\n",
              "    .dataframe thead th {\n",
              "        text-align: right;\n",
              "    }\n",
              "</style>\n",
              "<table border=\"1\" class=\"dataframe\">\n",
              "  <thead>\n",
              "    <tr style=\"text-align: right;\">\n",
              "      <th></th>\n",
              "      <th>items_ordered</th>\n",
              "    </tr>\n",
              "  </thead>\n",
              "  <tbody>\n",
              "    <tr>\n",
              "      <th>0</th>\n",
              "      <td>120</td>\n",
              "    </tr>\n",
              "  </tbody>\n",
              "</table>\n",
              "</div>"
            ],
            "text/plain": [
              "   items_ordered\n",
              "0            120"
            ]
          },
          "metadata": {
            "tags": []
          },
          "execution_count": 26
        }
      ]
    },
    {
      "cell_type": "markdown",
      "metadata": {
        "id": "j_MgPVPyYiU-"
      },
      "source": [
        "###**Challenge 9-3**\r\n",
        "\r\n",
        "**Write a SQL statement to determine the price (prod_price) of the most expensive item in the Products table which costs no more than 10, name the calculated field max_price.**\r\n"
      ]
    },
    {
      "cell_type": "code",
      "metadata": {
        "id": "RIUpU5b9Ytc1",
        "colab": {
          "base_uri": "https://localhost:8080/",
          "height": 80
        },
        "outputId": "9b6b4f09-9641-4054-94dd-16e0e6db1b03"
      },
      "source": [
        "pd.read_sql(\"SELECT MAX(prod_price) AS max_price \\\r\n",
        "             FROM Products \\\r\n",
        "             WHERE prod_price <= 10\", conn)"
      ],
      "execution_count": 27,
      "outputs": [
        {
          "output_type": "execute_result",
          "data": {
            "text/html": [
              "<div>\n",
              "<style scoped>\n",
              "    .dataframe tbody tr th:only-of-type {\n",
              "        vertical-align: middle;\n",
              "    }\n",
              "\n",
              "    .dataframe tbody tr th {\n",
              "        vertical-align: top;\n",
              "    }\n",
              "\n",
              "    .dataframe thead th {\n",
              "        text-align: right;\n",
              "    }\n",
              "</style>\n",
              "<table border=\"1\" class=\"dataframe\">\n",
              "  <thead>\n",
              "    <tr style=\"text-align: right;\">\n",
              "      <th></th>\n",
              "      <th>max_price</th>\n",
              "    </tr>\n",
              "  </thead>\n",
              "  <tbody>\n",
              "    <tr>\n",
              "      <th>0</th>\n",
              "      <td>9.49</td>\n",
              "    </tr>\n",
              "  </tbody>\n",
              "</table>\n",
              "</div>"
            ],
            "text/plain": [
              "   max_price\n",
              "0       9.49"
            ]
          },
          "metadata": {
            "tags": []
          },
          "execution_count": 27
        }
      ]
    },
    {
      "cell_type": "markdown",
      "metadata": {
        "id": "8kw3VPbkEdFw"
      },
      "source": [
        "#**Chapter 10 - Grouping Data**"
      ]
    },
    {
      "cell_type": "markdown",
      "metadata": {
        "id": "ngPWeqF5aDMa"
      },
      "source": [
        "###**Challenge 10-1**\r\n",
        "\r\n",
        "**The OrderItems table contains the individual items for each order. Write a SQL statement that returns the number of lines (as order_lines) for each order number (order_num) and sort the results by order_lines.**\r\n"
      ]
    },
    {
      "cell_type": "code",
      "metadata": {
        "id": "r9qWRuA6afMU",
        "colab": {
          "base_uri": "https://localhost:8080/",
          "height": 0
        },
        "outputId": "6771455c-755e-465e-d0e8-73e3e9883829"
      },
      "source": [
        "pd.read_sql(\"SELECT order_num, COUNT(*) AS order_lines \\\r\n",
        "             FROM OrderItems \\\r\n",
        "             GROUP BY order_num \\\r\n",
        "             ORDER BY order_lines\", conn)"
      ],
      "execution_count": 28,
      "outputs": [
        {
          "output_type": "execute_result",
          "data": {
            "text/html": [
              "<div>\n",
              "<style scoped>\n",
              "    .dataframe tbody tr th:only-of-type {\n",
              "        vertical-align: middle;\n",
              "    }\n",
              "\n",
              "    .dataframe tbody tr th {\n",
              "        vertical-align: top;\n",
              "    }\n",
              "\n",
              "    .dataframe thead th {\n",
              "        text-align: right;\n",
              "    }\n",
              "</style>\n",
              "<table border=\"1\" class=\"dataframe\">\n",
              "  <thead>\n",
              "    <tr style=\"text-align: right;\">\n",
              "      <th></th>\n",
              "      <th>order_num</th>\n",
              "      <th>order_lines</th>\n",
              "    </tr>\n",
              "  </thead>\n",
              "  <tbody>\n",
              "    <tr>\n",
              "      <th>0</th>\n",
              "      <td>20005</td>\n",
              "      <td>2</td>\n",
              "    </tr>\n",
              "    <tr>\n",
              "      <th>1</th>\n",
              "      <td>20006</td>\n",
              "      <td>3</td>\n",
              "    </tr>\n",
              "    <tr>\n",
              "      <th>2</th>\n",
              "      <td>20009</td>\n",
              "      <td>3</td>\n",
              "    </tr>\n",
              "    <tr>\n",
              "      <th>3</th>\n",
              "      <td>20007</td>\n",
              "      <td>5</td>\n",
              "    </tr>\n",
              "    <tr>\n",
              "      <th>4</th>\n",
              "      <td>20008</td>\n",
              "      <td>5</td>\n",
              "    </tr>\n",
              "  </tbody>\n",
              "</table>\n",
              "</div>"
            ],
            "text/plain": [
              "   order_num  order_lines\n",
              "0      20005            2\n",
              "1      20006            3\n",
              "2      20009            3\n",
              "3      20007            5\n",
              "4      20008            5"
            ]
          },
          "metadata": {
            "tags": []
          },
          "execution_count": 28
        }
      ]
    },
    {
      "cell_type": "markdown",
      "metadata": {
        "id": "DEs2_yodaDXr"
      },
      "source": [
        "###**Challenge 10-2**\r\n",
        "\r\n",
        "**Write a SQL statement that returns a field named cheapest_item which contains the lowest cost item for each vendor (using prod_price in the Products table), and sort the results from lowest to highest cost.**\r\n"
      ]
    },
    {
      "cell_type": "code",
      "metadata": {
        "id": "nsrvBCJzafqR",
        "colab": {
          "base_uri": "https://localhost:8080/",
          "height": 0
        },
        "outputId": "32722564-6990-4909-e549-7bc235b7cbea"
      },
      "source": [
        "pd.read_sql(\"SELECT vend_id, MIN(prod_price) AS cheapest_item \\\r\n",
        "             FROM Products \\\r\n",
        "             GROUP BY vend_id \\\r\n",
        "             ORDER BY cheapest_item\", conn)"
      ],
      "execution_count": 29,
      "outputs": [
        {
          "output_type": "execute_result",
          "data": {
            "text/html": [
              "<div>\n",
              "<style scoped>\n",
              "    .dataframe tbody tr th:only-of-type {\n",
              "        vertical-align: middle;\n",
              "    }\n",
              "\n",
              "    .dataframe tbody tr th {\n",
              "        vertical-align: top;\n",
              "    }\n",
              "\n",
              "    .dataframe thead th {\n",
              "        text-align: right;\n",
              "    }\n",
              "</style>\n",
              "<table border=\"1\" class=\"dataframe\">\n",
              "  <thead>\n",
              "    <tr style=\"text-align: right;\">\n",
              "      <th></th>\n",
              "      <th>vend_id</th>\n",
              "      <th>cheapest_item</th>\n",
              "    </tr>\n",
              "  </thead>\n",
              "  <tbody>\n",
              "    <tr>\n",
              "      <th>0</th>\n",
              "      <td>DLL01</td>\n",
              "      <td>3.49</td>\n",
              "    </tr>\n",
              "    <tr>\n",
              "      <th>1</th>\n",
              "      <td>BRS01</td>\n",
              "      <td>5.99</td>\n",
              "    </tr>\n",
              "    <tr>\n",
              "      <th>2</th>\n",
              "      <td>FNG01</td>\n",
              "      <td>9.49</td>\n",
              "    </tr>\n",
              "  </tbody>\n",
              "</table>\n",
              "</div>"
            ],
            "text/plain": [
              "  vend_id  cheapest_item\n",
              "0   DLL01           3.49\n",
              "1   BRS01           5.99\n",
              "2   FNG01           9.49"
            ]
          },
          "metadata": {
            "tags": []
          },
          "execution_count": 29
        }
      ]
    },
    {
      "cell_type": "markdown",
      "metadata": {
        "id": "8Ho1jil2aDjC"
      },
      "source": [
        "###**Challenge 10-3**\r\n",
        "\r\n",
        "**It’s important to identify the best customers, so write a SQL statement to return the order number (order_num in OrderItems table) for all orders of at least 100 items.**\r\n"
      ]
    },
    {
      "cell_type": "code",
      "metadata": {
        "id": "5fDmR69QagIL",
        "colab": {
          "base_uri": "https://localhost:8080/",
          "height": 0
        },
        "outputId": "b3f0b841-973c-441b-a121-5fae9829abca"
      },
      "source": [
        "pd.read_sql(\"SELECT order_num \\\r\n",
        "             FROM OrderItems \\\r\n",
        "             GROUP BY order_num \\\r\n",
        "             HAVING SUM(quantity) >= 100 \\\r\n",
        "             ORDER BY order_num\", conn)"
      ],
      "execution_count": 30,
      "outputs": [
        {
          "output_type": "execute_result",
          "data": {
            "text/html": [
              "<div>\n",
              "<style scoped>\n",
              "    .dataframe tbody tr th:only-of-type {\n",
              "        vertical-align: middle;\n",
              "    }\n",
              "\n",
              "    .dataframe tbody tr th {\n",
              "        vertical-align: top;\n",
              "    }\n",
              "\n",
              "    .dataframe thead th {\n",
              "        text-align: right;\n",
              "    }\n",
              "</style>\n",
              "<table border=\"1\" class=\"dataframe\">\n",
              "  <thead>\n",
              "    <tr style=\"text-align: right;\">\n",
              "      <th></th>\n",
              "      <th>order_num</th>\n",
              "    </tr>\n",
              "  </thead>\n",
              "  <tbody>\n",
              "    <tr>\n",
              "      <th>0</th>\n",
              "      <td>20005</td>\n",
              "    </tr>\n",
              "    <tr>\n",
              "      <th>1</th>\n",
              "      <td>20007</td>\n",
              "    </tr>\n",
              "    <tr>\n",
              "      <th>2</th>\n",
              "      <td>20009</td>\n",
              "    </tr>\n",
              "  </tbody>\n",
              "</table>\n",
              "</div>"
            ],
            "text/plain": [
              "   order_num\n",
              "0      20005\n",
              "1      20007\n",
              "2      20009"
            ]
          },
          "metadata": {
            "tags": []
          },
          "execution_count": 30
        }
      ]
    },
    {
      "cell_type": "markdown",
      "metadata": {
        "id": "vnDXCr2QaDuZ"
      },
      "source": [
        "###**Challenge 10-4**\r\n",
        "\r\n",
        "**Another way to determine the best customers is by how much they have spent. Write a SQL statement to return the order number (order_num in OrderItems table) for all orders with a total price of at least 1000. Hint, for this one you’ll need to calculate and sum the total (item_price multiplied by quantity). Sort the results by order number.**\r\n"
      ]
    },
    {
      "cell_type": "code",
      "metadata": {
        "id": "M862vTauagmL",
        "colab": {
          "base_uri": "https://localhost:8080/",
          "height": 0
        },
        "outputId": "0dac4777-6b43-4b58-c7df-3e6888a365d3"
      },
      "source": [
        "pd.read_sql(\"SELECT order_num, SUM(item_price*quantity) AS total_price \\\r\n",
        "             FROM OrderItems \\\r\n",
        "             GROUP BY order_num \\\r\n",
        "             HAVING SUM(item_price*quantity) >= 1000 \\\r\n",
        "             ORDER BY order_num\", conn)"
      ],
      "execution_count": 31,
      "outputs": [
        {
          "output_type": "execute_result",
          "data": {
            "text/html": [
              "<div>\n",
              "<style scoped>\n",
              "    .dataframe tbody tr th:only-of-type {\n",
              "        vertical-align: middle;\n",
              "    }\n",
              "\n",
              "    .dataframe tbody tr th {\n",
              "        vertical-align: top;\n",
              "    }\n",
              "\n",
              "    .dataframe thead th {\n",
              "        text-align: right;\n",
              "    }\n",
              "</style>\n",
              "<table border=\"1\" class=\"dataframe\">\n",
              "  <thead>\n",
              "    <tr style=\"text-align: right;\">\n",
              "      <th></th>\n",
              "      <th>order_num</th>\n",
              "      <th>total_price</th>\n",
              "    </tr>\n",
              "  </thead>\n",
              "  <tbody>\n",
              "    <tr>\n",
              "      <th>0</th>\n",
              "      <td>20005</td>\n",
              "      <td>1648.0</td>\n",
              "    </tr>\n",
              "    <tr>\n",
              "      <th>1</th>\n",
              "      <td>20007</td>\n",
              "      <td>1696.0</td>\n",
              "    </tr>\n",
              "    <tr>\n",
              "      <th>2</th>\n",
              "      <td>20009</td>\n",
              "      <td>1867.5</td>\n",
              "    </tr>\n",
              "  </tbody>\n",
              "</table>\n",
              "</div>"
            ],
            "text/plain": [
              "   order_num  total_price\n",
              "0      20005       1648.0\n",
              "1      20007       1696.0\n",
              "2      20009       1867.5"
            ]
          },
          "metadata": {
            "tags": []
          },
          "execution_count": 31
        }
      ]
    },
    {
      "cell_type": "markdown",
      "metadata": {
        "id": "Y433RaM8aD6M"
      },
      "source": [
        "###**Challenge 10-5**\r\n",
        "\r\n",
        "**What is wrong with the following SQL statement?**\r\n",
        "\r\n",
        "**(Try to figure it out without running it):**\r\n",
        "\r\n",
        "**SELECT order_num, COUNT() AS items**\r\n",
        "\r\n",
        "**FROM OrderItems**\r\n",
        "\r\n",
        "**GROUP BY items**\r\n",
        "\r\n",
        "**HAVING COUNT() >= 3**\r\n",
        "\r\n",
        "**ORDER BY items, order_num;**"
      ]
    },
    {
      "cell_type": "markdown",
      "metadata": {
        "id": "FayyiHYVaELb"
      },
      "source": [
        "ANSWER: GROUP BY is incorrect. It has to be a column, not the one being aggregated"
      ]
    },
    {
      "cell_type": "markdown",
      "metadata": {
        "id": "-tYfEmLpEgUP"
      },
      "source": [
        "#**Chapter 11 - Working with Subqueries**"
      ]
    },
    {
      "cell_type": "markdown",
      "metadata": {
        "id": "sIJYx-HUhgJY"
      },
      "source": [
        "###**Challenge 11-1**\r\n",
        "\r\n",
        "**Using a subquery, return a list of customers who bought items priced 10 or more. You’ll want to use the OrderItems table to find the matching order numbers (order_num), and then the Orders table to retrieve the customer id (cust_id) for those matched orders.**\r\n"
      ]
    },
    {
      "cell_type": "code",
      "metadata": {
        "id": "jMiLhZx3hxaP",
        "colab": {
          "base_uri": "https://localhost:8080/",
          "height": 0
        },
        "outputId": "4c58ab80-7437-497c-aca9-f6f2da593d32"
      },
      "source": [
        "pd.read_sql(\"SELECT cust_id \\\r\n",
        "             FROM Orders \\\r\n",
        "             WHERE order_num IN \\\r\n",
        "                               (SELECT order_num \\\r\n",
        "                                FROM OrderItems \\\r\n",
        "                                WHERE item_price >= 10)\", conn)"
      ],
      "execution_count": 32,
      "outputs": [
        {
          "output_type": "execute_result",
          "data": {
            "text/html": [
              "<div>\n",
              "<style scoped>\n",
              "    .dataframe tbody tr th:only-of-type {\n",
              "        vertical-align: middle;\n",
              "    }\n",
              "\n",
              "    .dataframe tbody tr th {\n",
              "        vertical-align: top;\n",
              "    }\n",
              "\n",
              "    .dataframe thead th {\n",
              "        text-align: right;\n",
              "    }\n",
              "</style>\n",
              "<table border=\"1\" class=\"dataframe\">\n",
              "  <thead>\n",
              "    <tr style=\"text-align: right;\">\n",
              "      <th></th>\n",
              "      <th>cust_id</th>\n",
              "    </tr>\n",
              "  </thead>\n",
              "  <tbody>\n",
              "    <tr>\n",
              "      <th>0</th>\n",
              "      <td>1000000001</td>\n",
              "    </tr>\n",
              "    <tr>\n",
              "      <th>1</th>\n",
              "      <td>1000000003</td>\n",
              "    </tr>\n",
              "    <tr>\n",
              "      <th>2</th>\n",
              "      <td>1000000004</td>\n",
              "    </tr>\n",
              "    <tr>\n",
              "      <th>3</th>\n",
              "      <td>1000000005</td>\n",
              "    </tr>\n",
              "  </tbody>\n",
              "</table>\n",
              "</div>"
            ],
            "text/plain": [
              "      cust_id\n",
              "0  1000000001\n",
              "1  1000000003\n",
              "2  1000000004\n",
              "3  1000000005"
            ]
          },
          "metadata": {
            "tags": []
          },
          "execution_count": 32
        }
      ]
    },
    {
      "cell_type": "markdown",
      "metadata": {
        "id": "1Cj3-1CDhgT6"
      },
      "source": [
        "###**Challenge 11-2**\r\n",
        "\r\n",
        "**You need to know the dates when product BR01 was ordered. Write a SQL statement that uses a subquery to determine which orders (in OrderItems) purchased prod_id BR01, and then returns customer id (cust_id) and order date (order_date) for each from the Orders table. Sort the results by order date.**\r\n"
      ]
    },
    {
      "cell_type": "code",
      "metadata": {
        "id": "vo1g2BH9hx1Y",
        "colab": {
          "base_uri": "https://localhost:8080/",
          "height": 0
        },
        "outputId": "a51ccbd9-f0ca-4ae1-ae0f-4a3cba60d7f0"
      },
      "source": [
        "pd.read_sql(\"SELECT cust_id, order_date \\\r\n",
        "             FROM Orders \\\r\n",
        "             WHERE order_num IN (SELECT order_num \\\r\n",
        "                                 FROM OrderItems \\\r\n",
        "                                 WHERE prod_id = 'BR01') \\\r\n",
        "             ORDER BY order_date\", conn)"
      ],
      "execution_count": 33,
      "outputs": [
        {
          "output_type": "execute_result",
          "data": {
            "text/html": [
              "<div>\n",
              "<style scoped>\n",
              "    .dataframe tbody tr th:only-of-type {\n",
              "        vertical-align: middle;\n",
              "    }\n",
              "\n",
              "    .dataframe tbody tr th {\n",
              "        vertical-align: top;\n",
              "    }\n",
              "\n",
              "    .dataframe thead th {\n",
              "        text-align: right;\n",
              "    }\n",
              "</style>\n",
              "<table border=\"1\" class=\"dataframe\">\n",
              "  <thead>\n",
              "    <tr style=\"text-align: right;\">\n",
              "      <th></th>\n",
              "      <th>cust_id</th>\n",
              "      <th>order_date</th>\n",
              "    </tr>\n",
              "  </thead>\n",
              "  <tbody>\n",
              "    <tr>\n",
              "      <th>0</th>\n",
              "      <td>1000000003</td>\n",
              "      <td>2020-01-12</td>\n",
              "    </tr>\n",
              "    <tr>\n",
              "      <th>1</th>\n",
              "      <td>1000000001</td>\n",
              "      <td>2020-05-01</td>\n",
              "    </tr>\n",
              "  </tbody>\n",
              "</table>\n",
              "</div>"
            ],
            "text/plain": [
              "      cust_id  order_date\n",
              "0  1000000003  2020-01-12\n",
              "1  1000000001  2020-05-01"
            ]
          },
          "metadata": {
            "tags": []
          },
          "execution_count": 33
        }
      ]
    },
    {
      "cell_type": "markdown",
      "metadata": {
        "id": "AOlWvr_bhgiP"
      },
      "source": [
        "###**Challenge 11-3**\r\n",
        "\r\n",
        "**Now let’s make it a bit more challenging. Update the previous challenge to return the customer email (cust_email in the Customers table) for any customers who purchased item with a prod_id of BR01. Hint, this involves the SELECT statement, the innermost one returning order_num from OrderItems, and the middle one returning cust_id from Orders.**\r\n"
      ]
    },
    {
      "cell_type": "code",
      "metadata": {
        "id": "jn8LOhW3hypU",
        "colab": {
          "base_uri": "https://localhost:8080/",
          "height": 0
        },
        "outputId": "5f2362c6-2709-4e83-8a97-275780ae0f70"
      },
      "source": [
        "pd.read_sql(\"SELECT cust_email \\\r\n",
        "             FROM Customers \\\r\n",
        "             WHERE cust_id IN (SELECT cust_id \\\r\n",
        "                               FROM Orders \\\r\n",
        "                               WHERE order_num IN (SELECT order_num \\\r\n",
        "                                                   FROM OrderItems \\\r\n",
        "                                                   WHERE prod_id = 'BR01'))\", conn)"
      ],
      "execution_count": 34,
      "outputs": [
        {
          "output_type": "execute_result",
          "data": {
            "text/html": [
              "<div>\n",
              "<style scoped>\n",
              "    .dataframe tbody tr th:only-of-type {\n",
              "        vertical-align: middle;\n",
              "    }\n",
              "\n",
              "    .dataframe tbody tr th {\n",
              "        vertical-align: top;\n",
              "    }\n",
              "\n",
              "    .dataframe thead th {\n",
              "        text-align: right;\n",
              "    }\n",
              "</style>\n",
              "<table border=\"1\" class=\"dataframe\">\n",
              "  <thead>\n",
              "    <tr style=\"text-align: right;\">\n",
              "      <th></th>\n",
              "      <th>cust_email</th>\n",
              "    </tr>\n",
              "  </thead>\n",
              "  <tbody>\n",
              "    <tr>\n",
              "      <th>0</th>\n",
              "      <td>sales@villagetoys.com</td>\n",
              "    </tr>\n",
              "    <tr>\n",
              "      <th>1</th>\n",
              "      <td>jjones@fun4all.com</td>\n",
              "    </tr>\n",
              "  </tbody>\n",
              "</table>\n",
              "</div>"
            ],
            "text/plain": [
              "              cust_email\n",
              "0  sales@villagetoys.com\n",
              "1     jjones@fun4all.com"
            ]
          },
          "metadata": {
            "tags": []
          },
          "execution_count": 34
        }
      ]
    },
    {
      "cell_type": "markdown",
      "metadata": {
        "id": "HPrVZwUahg0P"
      },
      "source": [
        "###**Challenge 11-4**\r\n",
        "\r\n",
        "**We need a list of customer ids with the total amount they have ordered. Write a SQL statement to return customer id (cust_id in Orders table) and total_ordered using a subquery to return the total of orders for each customer. Sort the results by amount spent from greatest to the least. Hint, you’ve used the SUM() to calculate order totals previously.**\r\n"
      ]
    },
    {
      "cell_type": "code",
      "metadata": {
        "id": "jSPpvRc8hzM5",
        "colab": {
          "base_uri": "https://localhost:8080/",
          "height": 0
        },
        "outputId": "352fed7c-4d39-49e9-b03b-c003c805e2d7"
      },
      "source": [
        "pd.read_sql(\"SELECT cust_id, \\\r\n",
        "                   (SELECT SUM(item_price*quantity) \\\r\n",
        "                    FROM OrderItems \\\r\n",
        "                    WHERE Orders.order_num = OrderItems.order_num) AS total_ordered \\\r\n",
        "             FROM Orders \\\r\n",
        "             ORDER BY total_ordered DESC\", conn)"
      ],
      "execution_count": 35,
      "outputs": [
        {
          "output_type": "execute_result",
          "data": {
            "text/html": [
              "<div>\n",
              "<style scoped>\n",
              "    .dataframe tbody tr th:only-of-type {\n",
              "        vertical-align: middle;\n",
              "    }\n",
              "\n",
              "    .dataframe tbody tr th {\n",
              "        vertical-align: top;\n",
              "    }\n",
              "\n",
              "    .dataframe thead th {\n",
              "        text-align: right;\n",
              "    }\n",
              "</style>\n",
              "<table border=\"1\" class=\"dataframe\">\n",
              "  <thead>\n",
              "    <tr style=\"text-align: right;\">\n",
              "      <th></th>\n",
              "      <th>cust_id</th>\n",
              "      <th>total_ordered</th>\n",
              "    </tr>\n",
              "  </thead>\n",
              "  <tbody>\n",
              "    <tr>\n",
              "      <th>0</th>\n",
              "      <td>1000000001</td>\n",
              "      <td>1867.5</td>\n",
              "    </tr>\n",
              "    <tr>\n",
              "      <th>1</th>\n",
              "      <td>1000000004</td>\n",
              "      <td>1696.0</td>\n",
              "    </tr>\n",
              "    <tr>\n",
              "      <th>2</th>\n",
              "      <td>1000000001</td>\n",
              "      <td>1648.0</td>\n",
              "    </tr>\n",
              "    <tr>\n",
              "      <th>3</th>\n",
              "      <td>1000000003</td>\n",
              "      <td>329.6</td>\n",
              "    </tr>\n",
              "    <tr>\n",
              "      <th>4</th>\n",
              "      <td>1000000005</td>\n",
              "      <td>189.6</td>\n",
              "    </tr>\n",
              "  </tbody>\n",
              "</table>\n",
              "</div>"
            ],
            "text/plain": [
              "      cust_id  total_ordered\n",
              "0  1000000001         1867.5\n",
              "1  1000000004         1696.0\n",
              "2  1000000001         1648.0\n",
              "3  1000000003          329.6\n",
              "4  1000000005          189.6"
            ]
          },
          "metadata": {
            "tags": []
          },
          "execution_count": 35
        }
      ]
    },
    {
      "cell_type": "markdown",
      "metadata": {
        "id": "jH-UysQthhFr"
      },
      "source": [
        "###**Challenge 11-5**\r\n",
        "\r\n",
        "**One more. Write a SQL statement that retrieves all product names (prod_name) from the Products table, along with a calculated named quant_sold containing the total number of this item sold (retrieved using a subquery and a SUM(quantity) on the OrderItems table).**\r\n"
      ]
    },
    {
      "cell_type": "code",
      "metadata": {
        "id": "8j2wrZl3hzl6",
        "colab": {
          "base_uri": "https://localhost:8080/",
          "height": 0
        },
        "outputId": "275da1d4-533a-4b00-fdc5-c8c519ca8411"
      },
      "source": [
        "pd.read_sql(\"SELECT prod_name, \\\r\n",
        "                   (SELECT SUM(quantity) \\\r\n",
        "                    FROM OrderItems \\\r\n",
        "                    WHERE Products.prod_id = OrderItems.prod_id) AS quant_sold \\\r\n",
        "             FROM Products\", conn)"
      ],
      "execution_count": 36,
      "outputs": [
        {
          "output_type": "execute_result",
          "data": {
            "text/html": [
              "<div>\n",
              "<style scoped>\n",
              "    .dataframe tbody tr th:only-of-type {\n",
              "        vertical-align: middle;\n",
              "    }\n",
              "\n",
              "    .dataframe tbody tr th {\n",
              "        vertical-align: top;\n",
              "    }\n",
              "\n",
              "    .dataframe thead th {\n",
              "        text-align: right;\n",
              "    }\n",
              "</style>\n",
              "<table border=\"1\" class=\"dataframe\">\n",
              "  <thead>\n",
              "    <tr style=\"text-align: right;\">\n",
              "      <th></th>\n",
              "      <th>prod_name</th>\n",
              "      <th>quant_sold</th>\n",
              "    </tr>\n",
              "  </thead>\n",
              "  <tbody>\n",
              "    <tr>\n",
              "      <th>0</th>\n",
              "      <td>8 inch teddy bear</td>\n",
              "      <td>120.0</td>\n",
              "    </tr>\n",
              "    <tr>\n",
              "      <th>1</th>\n",
              "      <td>12 inch teddy bear</td>\n",
              "      <td>10.0</td>\n",
              "    </tr>\n",
              "    <tr>\n",
              "      <th>2</th>\n",
              "      <td>18 inch teddy bear</td>\n",
              "      <td>165.0</td>\n",
              "    </tr>\n",
              "    <tr>\n",
              "      <th>3</th>\n",
              "      <td>Fish bean bag toy</td>\n",
              "      <td>360.0</td>\n",
              "    </tr>\n",
              "    <tr>\n",
              "      <th>4</th>\n",
              "      <td>Bird bean bag toy</td>\n",
              "      <td>360.0</td>\n",
              "    </tr>\n",
              "    <tr>\n",
              "      <th>5</th>\n",
              "      <td>Rabbit bean bag toy</td>\n",
              "      <td>360.0</td>\n",
              "    </tr>\n",
              "    <tr>\n",
              "      <th>6</th>\n",
              "      <td>Raggedy Ann</td>\n",
              "      <td>55.0</td>\n",
              "    </tr>\n",
              "    <tr>\n",
              "      <th>7</th>\n",
              "      <td>King doll</td>\n",
              "      <td>NaN</td>\n",
              "    </tr>\n",
              "    <tr>\n",
              "      <th>8</th>\n",
              "      <td>Queen doll</td>\n",
              "      <td>NaN</td>\n",
              "    </tr>\n",
              "  </tbody>\n",
              "</table>\n",
              "</div>"
            ],
            "text/plain": [
              "             prod_name  quant_sold\n",
              "0    8 inch teddy bear       120.0\n",
              "1   12 inch teddy bear        10.0\n",
              "2   18 inch teddy bear       165.0\n",
              "3    Fish bean bag toy       360.0\n",
              "4    Bird bean bag toy       360.0\n",
              "5  Rabbit bean bag toy       360.0\n",
              "6          Raggedy Ann        55.0\n",
              "7            King doll         NaN\n",
              "8           Queen doll         NaN"
            ]
          },
          "metadata": {
            "tags": []
          },
          "execution_count": 36
        }
      ]
    },
    {
      "cell_type": "markdown",
      "metadata": {
        "id": "iWd5_ZFjEkjn"
      },
      "source": [
        "#**Chapter 12 - Joining Tables**"
      ]
    },
    {
      "cell_type": "markdown",
      "metadata": {
        "id": "TUnAf2LAiWN5"
      },
      "source": [
        "###**Challenge 12-1**\r\n",
        "\r\n",
        "**Write a SQL statement to return customer name (cust_name) from the Customers table and related order numbers (order_num) from the Orders table, sorting the result by customer name and then by order number. Actually, try this one twice, once using simple equijoin syntax and once using an INNER JOIN.**\r\n"
      ]
    },
    {
      "cell_type": "code",
      "metadata": {
        "id": "ZK4l-vNaiZdh",
        "colab": {
          "base_uri": "https://localhost:8080/",
          "height": 205
        },
        "outputId": "64530db0-2f33-4cfe-c984-f36bb01f617c"
      },
      "source": [
        "pd.read_sql(\"SELECT cust_name, order_num \\\r\n",
        "             FROM Customers \\\r\n",
        "             INNER JOIN Orders ON Customers.cust_id = Orders.cust_id \\\r\n",
        "             ORDER BY cust_name, order_num\", conn)"
      ],
      "execution_count": 37,
      "outputs": [
        {
          "output_type": "execute_result",
          "data": {
            "text/html": [
              "<div>\n",
              "<style scoped>\n",
              "    .dataframe tbody tr th:only-of-type {\n",
              "        vertical-align: middle;\n",
              "    }\n",
              "\n",
              "    .dataframe tbody tr th {\n",
              "        vertical-align: top;\n",
              "    }\n",
              "\n",
              "    .dataframe thead th {\n",
              "        text-align: right;\n",
              "    }\n",
              "</style>\n",
              "<table border=\"1\" class=\"dataframe\">\n",
              "  <thead>\n",
              "    <tr style=\"text-align: right;\">\n",
              "      <th></th>\n",
              "      <th>cust_name</th>\n",
              "      <th>order_num</th>\n",
              "    </tr>\n",
              "  </thead>\n",
              "  <tbody>\n",
              "    <tr>\n",
              "      <th>0</th>\n",
              "      <td>Fun4All</td>\n",
              "      <td>20006</td>\n",
              "    </tr>\n",
              "    <tr>\n",
              "      <th>1</th>\n",
              "      <td>Fun4All</td>\n",
              "      <td>20007</td>\n",
              "    </tr>\n",
              "    <tr>\n",
              "      <th>2</th>\n",
              "      <td>The Toy Store</td>\n",
              "      <td>20008</td>\n",
              "    </tr>\n",
              "    <tr>\n",
              "      <th>3</th>\n",
              "      <td>Village Toys</td>\n",
              "      <td>20005</td>\n",
              "    </tr>\n",
              "    <tr>\n",
              "      <th>4</th>\n",
              "      <td>Village Toys</td>\n",
              "      <td>20009</td>\n",
              "    </tr>\n",
              "  </tbody>\n",
              "</table>\n",
              "</div>"
            ],
            "text/plain": [
              "       cust_name  order_num\n",
              "0        Fun4All      20006\n",
              "1        Fun4All      20007\n",
              "2  The Toy Store      20008\n",
              "3   Village Toys      20005\n",
              "4   Village Toys      20009"
            ]
          },
          "metadata": {
            "tags": []
          },
          "execution_count": 37
        }
      ]
    },
    {
      "cell_type": "markdown",
      "metadata": {
        "id": "X3Tk8kh4iWYs"
      },
      "source": [
        "###**Challenge 12-2**\r\n",
        "\r\n",
        "**Let’s make the previous challenge more useful. In addition to returning the customer name and order number, add a third column named OrderTotal containing the total price of each order. There are two ways to do this, you can create the OrderTotal column using a subquery on the OrderItems table, or you can join the OrderItems table to the existing tables and use an aggregate function. Here’s a hint, watch out for where you need to use fully qualified column names.**\r\n"
      ]
    },
    {
      "cell_type": "code",
      "metadata": {
        "id": "V15UXW9HiopW",
        "colab": {
          "base_uri": "https://localhost:8080/",
          "height": 205
        },
        "outputId": "20129dae-6f98-4752-8aa5-1b4af8e87a57"
      },
      "source": [
        "pd.read_sql(\"SELECT cust_name, Orders.order_num, Sum(item_price*quantity) AS OrderTotal \\\r\n",
        "             FROM Customers, Orders, OrderItems \\\r\n",
        "             WHERE Customers.cust_id = Orders.cust_id AND Orders.order_num = OrderItems.order_num \\\r\n",
        "             GROUP BY cust_name, Orders.order_num \\\r\n",
        "             ORDER BY cust_name, Orders.order_num\", conn)"
      ],
      "execution_count": 38,
      "outputs": [
        {
          "output_type": "execute_result",
          "data": {
            "text/html": [
              "<div>\n",
              "<style scoped>\n",
              "    .dataframe tbody tr th:only-of-type {\n",
              "        vertical-align: middle;\n",
              "    }\n",
              "\n",
              "    .dataframe tbody tr th {\n",
              "        vertical-align: top;\n",
              "    }\n",
              "\n",
              "    .dataframe thead th {\n",
              "        text-align: right;\n",
              "    }\n",
              "</style>\n",
              "<table border=\"1\" class=\"dataframe\">\n",
              "  <thead>\n",
              "    <tr style=\"text-align: right;\">\n",
              "      <th></th>\n",
              "      <th>cust_name</th>\n",
              "      <th>order_num</th>\n",
              "      <th>OrderTotal</th>\n",
              "    </tr>\n",
              "  </thead>\n",
              "  <tbody>\n",
              "    <tr>\n",
              "      <th>0</th>\n",
              "      <td>Fun4All</td>\n",
              "      <td>20006</td>\n",
              "      <td>329.6</td>\n",
              "    </tr>\n",
              "    <tr>\n",
              "      <th>1</th>\n",
              "      <td>Fun4All</td>\n",
              "      <td>20007</td>\n",
              "      <td>1696.0</td>\n",
              "    </tr>\n",
              "    <tr>\n",
              "      <th>2</th>\n",
              "      <td>The Toy Store</td>\n",
              "      <td>20008</td>\n",
              "      <td>189.6</td>\n",
              "    </tr>\n",
              "    <tr>\n",
              "      <th>3</th>\n",
              "      <td>Village Toys</td>\n",
              "      <td>20005</td>\n",
              "      <td>1648.0</td>\n",
              "    </tr>\n",
              "    <tr>\n",
              "      <th>4</th>\n",
              "      <td>Village Toys</td>\n",
              "      <td>20009</td>\n",
              "      <td>1867.5</td>\n",
              "    </tr>\n",
              "  </tbody>\n",
              "</table>\n",
              "</div>"
            ],
            "text/plain": [
              "       cust_name  order_num  OrderTotal\n",
              "0        Fun4All      20006       329.6\n",
              "1        Fun4All      20007      1696.0\n",
              "2  The Toy Store      20008       189.6\n",
              "3   Village Toys      20005      1648.0\n",
              "4   Village Toys      20009      1867.5"
            ]
          },
          "metadata": {
            "tags": []
          },
          "execution_count": 38
        }
      ]
    },
    {
      "cell_type": "markdown",
      "metadata": {
        "id": "TLLP6V8KiWiN"
      },
      "source": [
        "###**Challenge 12-3**\r\n",
        "\r\n",
        "**Let’s revisit Ch 11 Challenge 2. Write a SQL statement that retrieves the dates when product BR01 was ordered, but this time use a join and simple equijoin syntax. The output should be identical to the one from Lesson 12.**\r\n"
      ]
    },
    {
      "cell_type": "code",
      "metadata": {
        "id": "dv7p94tgipJS",
        "colab": {
          "base_uri": "https://localhost:8080/",
          "height": 111
        },
        "outputId": "009bfed1-a2fd-46e7-a026-46cf5473552a"
      },
      "source": [
        "\"\"\"\r\n",
        "11-2\r\n",
        "pd.read_sql(\"SELECT cust_id, order_date \\\r\n",
        "             FROM Orders \\\r\n",
        "             WHERE order_num IN (SELECT order_num \\\r\n",
        "                                 FROM OrderItems \\ \r\n",
        "                                 WHERE prod_id = 'BR01') \\\r\n",
        "             ORDER BY order_date\")\r\n",
        "\"\"\"\r\n",
        "\r\n",
        "pd.read_sql(\"SELECT cust_id, order_date \\\r\n",
        "             FROM Orders, OrderItems \\\r\n",
        "             WHERE Orders.order_num = OrderItems.order_num AND prod_id = 'BR01' \\\r\n",
        "             ORDER BY order_date\", conn)"
      ],
      "execution_count": 39,
      "outputs": [
        {
          "output_type": "execute_result",
          "data": {
            "text/html": [
              "<div>\n",
              "<style scoped>\n",
              "    .dataframe tbody tr th:only-of-type {\n",
              "        vertical-align: middle;\n",
              "    }\n",
              "\n",
              "    .dataframe tbody tr th {\n",
              "        vertical-align: top;\n",
              "    }\n",
              "\n",
              "    .dataframe thead th {\n",
              "        text-align: right;\n",
              "    }\n",
              "</style>\n",
              "<table border=\"1\" class=\"dataframe\">\n",
              "  <thead>\n",
              "    <tr style=\"text-align: right;\">\n",
              "      <th></th>\n",
              "      <th>cust_id</th>\n",
              "      <th>order_date</th>\n",
              "    </tr>\n",
              "  </thead>\n",
              "  <tbody>\n",
              "    <tr>\n",
              "      <th>0</th>\n",
              "      <td>1000000003</td>\n",
              "      <td>2020-01-12</td>\n",
              "    </tr>\n",
              "    <tr>\n",
              "      <th>1</th>\n",
              "      <td>1000000001</td>\n",
              "      <td>2020-05-01</td>\n",
              "    </tr>\n",
              "  </tbody>\n",
              "</table>\n",
              "</div>"
            ],
            "text/plain": [
              "      cust_id  order_date\n",
              "0  1000000003  2020-01-12\n",
              "1  1000000001  2020-05-01"
            ]
          },
          "metadata": {
            "tags": []
          },
          "execution_count": 39
        }
      ]
    },
    {
      "cell_type": "markdown",
      "metadata": {
        "id": "SmgSYRMbiWt8"
      },
      "source": [
        "###**Challenge 12-4**\r\n",
        "\r\n",
        "**That was fun, let’s try it again. Recreate the SQL you wrote for Chapter 11 Challenge 3, this time using ANSI INNER JOIN syntax. The code you wrote there employed two nested subqueries, and to recreate it you’ll need two INNER JOIN statements, each formatted like the INNER JOIN example earlier in this lesson. And don’t forget the WHERE clause to filter by prod_id.**\r\n"
      ]
    },
    {
      "cell_type": "code",
      "metadata": {
        "id": "MRbWf4usiph-",
        "colab": {
          "base_uri": "https://localhost:8080/",
          "height": 111
        },
        "outputId": "c3e40bd1-0594-41f8-815a-eba0257e9b6e"
      },
      "source": [
        "\"\"\"\"\r\n",
        "11-4\r\n",
        "pd.read_sql(\"SELECT cust_email \\\r\n",
        "             FROM Customers \\\r\n",
        "             WHERE cust_id IN (SELECT cust_id \\\r\n",
        "                               FROM Orders \\\r\n",
        "                               WHERE order_num IN (SELECT order_num \\\r\n",
        "                                                   FROM OrderItems \\\r\n",
        "                                                   WHERE prod_id = 'BR01'))\", cnn)\r\n",
        "\"\"\"\r\n",
        "\r\n",
        "\r\n",
        "pd.read_sql(\"SELECT cust_email \\\r\n",
        "             FROM Customers \\\r\n",
        "             INNER JOIN Orders ON Customers.cust_id = Orders.cust_id \\\r\n",
        "             INNER JOIN OrderItems ON Orders.order_num = OrderItems.order_num \\\r\n",
        "             WHERE prod_id = 'BR01'\", conn)"
      ],
      "execution_count": 40,
      "outputs": [
        {
          "output_type": "execute_result",
          "data": {
            "text/html": [
              "<div>\n",
              "<style scoped>\n",
              "    .dataframe tbody tr th:only-of-type {\n",
              "        vertical-align: middle;\n",
              "    }\n",
              "\n",
              "    .dataframe tbody tr th {\n",
              "        vertical-align: top;\n",
              "    }\n",
              "\n",
              "    .dataframe thead th {\n",
              "        text-align: right;\n",
              "    }\n",
              "</style>\n",
              "<table border=\"1\" class=\"dataframe\">\n",
              "  <thead>\n",
              "    <tr style=\"text-align: right;\">\n",
              "      <th></th>\n",
              "      <th>cust_email</th>\n",
              "    </tr>\n",
              "  </thead>\n",
              "  <tbody>\n",
              "    <tr>\n",
              "      <th>0</th>\n",
              "      <td>sales@villagetoys.com</td>\n",
              "    </tr>\n",
              "    <tr>\n",
              "      <th>1</th>\n",
              "      <td>jjones@fun4all.com</td>\n",
              "    </tr>\n",
              "  </tbody>\n",
              "</table>\n",
              "</div>"
            ],
            "text/plain": [
              "              cust_email\n",
              "0  sales@villagetoys.com\n",
              "1     jjones@fun4all.com"
            ]
          },
          "metadata": {
            "tags": []
          },
          "execution_count": 40
        }
      ]
    },
    {
      "cell_type": "markdown",
      "metadata": {
        "id": "CffhTCTbiW5-"
      },
      "source": [
        "###**Challenge 12-5**\r\n",
        "\r\n",
        "**One more, and to make things more fun we’ll mix joins, aggregates functions, and grouping, too. Ready? Back in Lesson 10 I issued you a Challenge to find all order numbers with a value of 1000 or more. Those results are useful, but what would be even more useful is the name of the customers who placed orders of at least that amount. So, write a SQL statement that uses joins to return customer name (cust_name) from the Customers table, and the total price of all orders from the OrderItems table. Here’s a hint, to join those tables you’ll also need to include the Orders table (as Customers is not related directly to OrderItems, Customers is related to Orders and Orders is related to OrderItems). Don’t forget the GROUP BY and HAVING, and sort the results by customer name. You can use simple equijoin or ANSI INNER JOIN syntax for this one. Or, if you are feeling brave, try writing it both ways.**\r\n"
      ]
    },
    {
      "cell_type": "code",
      "metadata": {
        "id": "A16z5zZ4iqIC",
        "colab": {
          "base_uri": "https://localhost:8080/",
          "height": 111
        },
        "outputId": "65827e0a-0272-41df-9f17-d6227c122f93"
      },
      "source": [
        "pd.read_sql(\"SELECT cust_name, SUM(item_price*quantity) AS total_price \\\r\n",
        "             FROM Customers \\\r\n",
        "             INNER JOIN Orders ON Customers.cust_id = Orders.cust_id \\\r\n",
        "             INNER JOIN OrderItems ON Orders.order_num = OrderItems.order_num \\\r\n",
        "             GROUP BY cust_name \\\r\n",
        "             HAVING SUM(item_price*quantity) >= 1000 \\\r\n",
        "             ORDER BY cust_name\", conn)"
      ],
      "execution_count": 41,
      "outputs": [
        {
          "output_type": "execute_result",
          "data": {
            "text/html": [
              "<div>\n",
              "<style scoped>\n",
              "    .dataframe tbody tr th:only-of-type {\n",
              "        vertical-align: middle;\n",
              "    }\n",
              "\n",
              "    .dataframe tbody tr th {\n",
              "        vertical-align: top;\n",
              "    }\n",
              "\n",
              "    .dataframe thead th {\n",
              "        text-align: right;\n",
              "    }\n",
              "</style>\n",
              "<table border=\"1\" class=\"dataframe\">\n",
              "  <thead>\n",
              "    <tr style=\"text-align: right;\">\n",
              "      <th></th>\n",
              "      <th>cust_name</th>\n",
              "      <th>total_price</th>\n",
              "    </tr>\n",
              "  </thead>\n",
              "  <tbody>\n",
              "    <tr>\n",
              "      <th>0</th>\n",
              "      <td>Fun4All</td>\n",
              "      <td>2025.6</td>\n",
              "    </tr>\n",
              "    <tr>\n",
              "      <th>1</th>\n",
              "      <td>Village Toys</td>\n",
              "      <td>3515.5</td>\n",
              "    </tr>\n",
              "  </tbody>\n",
              "</table>\n",
              "</div>"
            ],
            "text/plain": [
              "      cust_name  total_price\n",
              "0       Fun4All       2025.6\n",
              "1  Village Toys       3515.5"
            ]
          },
          "metadata": {
            "tags": []
          },
          "execution_count": 41
        }
      ]
    },
    {
      "cell_type": "markdown",
      "metadata": {
        "id": "zCZMZwXEEomz"
      },
      "source": [
        "#**Chapter 13 - Creating Advanced Joins**"
      ]
    },
    {
      "cell_type": "markdown",
      "metadata": {
        "id": "Opo6dzMGjF90"
      },
      "source": [
        "###**Challenge 13-1**\r\n",
        "\r\n",
        "**Write a SQL statement using an INNER JOIN to retrieve customer name (cust_name in Customers) and all order numbers (order_num in Orders) for each.**\r\n"
      ]
    },
    {
      "cell_type": "code",
      "metadata": {
        "id": "ByRCXecfjQXO",
        "colab": {
          "base_uri": "https://localhost:8080/",
          "height": 205
        },
        "outputId": "846d72f3-9222-441a-89b1-31394cef9a6a"
      },
      "source": [
        "pd.read_sql(\"SELECT cust_name, order_num \\\r\n",
        "             FROM Customers \\\r\n",
        "             INNER JOIN Orders ON Customers.cust_id = Orders.cust_id \\\r\n",
        "             ORDER BY cust_name\", conn)"
      ],
      "execution_count": 42,
      "outputs": [
        {
          "output_type": "execute_result",
          "data": {
            "text/html": [
              "<div>\n",
              "<style scoped>\n",
              "    .dataframe tbody tr th:only-of-type {\n",
              "        vertical-align: middle;\n",
              "    }\n",
              "\n",
              "    .dataframe tbody tr th {\n",
              "        vertical-align: top;\n",
              "    }\n",
              "\n",
              "    .dataframe thead th {\n",
              "        text-align: right;\n",
              "    }\n",
              "</style>\n",
              "<table border=\"1\" class=\"dataframe\">\n",
              "  <thead>\n",
              "    <tr style=\"text-align: right;\">\n",
              "      <th></th>\n",
              "      <th>cust_name</th>\n",
              "      <th>order_num</th>\n",
              "    </tr>\n",
              "  </thead>\n",
              "  <tbody>\n",
              "    <tr>\n",
              "      <th>0</th>\n",
              "      <td>Fun4All</td>\n",
              "      <td>20006</td>\n",
              "    </tr>\n",
              "    <tr>\n",
              "      <th>1</th>\n",
              "      <td>Fun4All</td>\n",
              "      <td>20007</td>\n",
              "    </tr>\n",
              "    <tr>\n",
              "      <th>2</th>\n",
              "      <td>The Toy Store</td>\n",
              "      <td>20008</td>\n",
              "    </tr>\n",
              "    <tr>\n",
              "      <th>3</th>\n",
              "      <td>Village Toys</td>\n",
              "      <td>20005</td>\n",
              "    </tr>\n",
              "    <tr>\n",
              "      <th>4</th>\n",
              "      <td>Village Toys</td>\n",
              "      <td>20009</td>\n",
              "    </tr>\n",
              "  </tbody>\n",
              "</table>\n",
              "</div>"
            ],
            "text/plain": [
              "       cust_name  order_num\n",
              "0        Fun4All      20006\n",
              "1        Fun4All      20007\n",
              "2  The Toy Store      20008\n",
              "3   Village Toys      20005\n",
              "4   Village Toys      20009"
            ]
          },
          "metadata": {
            "tags": []
          },
          "execution_count": 42
        }
      ]
    },
    {
      "cell_type": "markdown",
      "metadata": {
        "id": "RxZHb6PhjGIs"
      },
      "source": [
        "###**Challenge 13-2**\r\n",
        "\r\n",
        "**Modify the SQL statement you just created to list all customers, even those with no orders.**\r\n"
      ]
    },
    {
      "cell_type": "code",
      "metadata": {
        "id": "BlJf0eBajQ0f",
        "colab": {
          "base_uri": "https://localhost:8080/",
          "height": 267
        },
        "outputId": "d97926d8-7ef1-4192-93ec-5207e481bd37"
      },
      "source": [
        "pd.read_sql(\"SELECT cust_name, order_num \\\r\n",
        "             FROM Customers \\\r\n",
        "             LEFT OUTER JOIN Orders ON Customers.cust_id = Orders.cust_id \\\r\n",
        "             ORDER BY cust_name\", conn)"
      ],
      "execution_count": 43,
      "outputs": [
        {
          "output_type": "execute_result",
          "data": {
            "text/html": [
              "<div>\n",
              "<style scoped>\n",
              "    .dataframe tbody tr th:only-of-type {\n",
              "        vertical-align: middle;\n",
              "    }\n",
              "\n",
              "    .dataframe tbody tr th {\n",
              "        vertical-align: top;\n",
              "    }\n",
              "\n",
              "    .dataframe thead th {\n",
              "        text-align: right;\n",
              "    }\n",
              "</style>\n",
              "<table border=\"1\" class=\"dataframe\">\n",
              "  <thead>\n",
              "    <tr style=\"text-align: right;\">\n",
              "      <th></th>\n",
              "      <th>cust_name</th>\n",
              "      <th>order_num</th>\n",
              "    </tr>\n",
              "  </thead>\n",
              "  <tbody>\n",
              "    <tr>\n",
              "      <th>0</th>\n",
              "      <td>Fun4All</td>\n",
              "      <td>20006.0</td>\n",
              "    </tr>\n",
              "    <tr>\n",
              "      <th>1</th>\n",
              "      <td>Fun4All</td>\n",
              "      <td>20007.0</td>\n",
              "    </tr>\n",
              "    <tr>\n",
              "      <th>2</th>\n",
              "      <td>Kids Place</td>\n",
              "      <td>NaN</td>\n",
              "    </tr>\n",
              "    <tr>\n",
              "      <th>3</th>\n",
              "      <td>The Toy Store</td>\n",
              "      <td>20008.0</td>\n",
              "    </tr>\n",
              "    <tr>\n",
              "      <th>4</th>\n",
              "      <td>Toy Land</td>\n",
              "      <td>NaN</td>\n",
              "    </tr>\n",
              "    <tr>\n",
              "      <th>5</th>\n",
              "      <td>Village Toys</td>\n",
              "      <td>20005.0</td>\n",
              "    </tr>\n",
              "    <tr>\n",
              "      <th>6</th>\n",
              "      <td>Village Toys</td>\n",
              "      <td>20009.0</td>\n",
              "    </tr>\n",
              "  </tbody>\n",
              "</table>\n",
              "</div>"
            ],
            "text/plain": [
              "       cust_name  order_num\n",
              "0        Fun4All    20006.0\n",
              "1        Fun4All    20007.0\n",
              "2     Kids Place        NaN\n",
              "3  The Toy Store    20008.0\n",
              "4       Toy Land        NaN\n",
              "5   Village Toys    20005.0\n",
              "6   Village Toys    20009.0"
            ]
          },
          "metadata": {
            "tags": []
          },
          "execution_count": 43
        }
      ]
    },
    {
      "cell_type": "markdown",
      "metadata": {
        "id": "szhM8VVIjGUZ"
      },
      "source": [
        "###**Challenge 13-3**\r\n",
        "\r\n",
        "**Use an OUTER JOIN to join the Products and OrderItems tables, returning a sorted list of product names (prod_name) and the order numbers (order_num) associated with each.**\r\n"
      ]
    },
    {
      "cell_type": "code",
      "metadata": {
        "id": "qIffHKPzjRTY",
        "colab": {
          "base_uri": "https://localhost:8080/",
          "height": 673
        },
        "outputId": "2c5289ef-0553-4839-c7c5-60a93bc405d0"
      },
      "source": [
        "pd.read_sql(\"SELECT prod_name, order_num \\\r\n",
        "             FROM Products \\\r\n",
        "             LEFT OUTER JOIN OrderItems ON Products.prod_id = OrderItems.prod_id \\\r\n",
        "             ORDER BY prod_name\", conn)"
      ],
      "execution_count": 44,
      "outputs": [
        {
          "output_type": "execute_result",
          "data": {
            "text/html": [
              "<div>\n",
              "<style scoped>\n",
              "    .dataframe tbody tr th:only-of-type {\n",
              "        vertical-align: middle;\n",
              "    }\n",
              "\n",
              "    .dataframe tbody tr th {\n",
              "        vertical-align: top;\n",
              "    }\n",
              "\n",
              "    .dataframe thead th {\n",
              "        text-align: right;\n",
              "    }\n",
              "</style>\n",
              "<table border=\"1\" class=\"dataframe\">\n",
              "  <thead>\n",
              "    <tr style=\"text-align: right;\">\n",
              "      <th></th>\n",
              "      <th>prod_name</th>\n",
              "      <th>order_num</th>\n",
              "    </tr>\n",
              "  </thead>\n",
              "  <tbody>\n",
              "    <tr>\n",
              "      <th>0</th>\n",
              "      <td>12 inch teddy bear</td>\n",
              "      <td>20006.0</td>\n",
              "    </tr>\n",
              "    <tr>\n",
              "      <th>1</th>\n",
              "      <td>18 inch teddy bear</td>\n",
              "      <td>20005.0</td>\n",
              "    </tr>\n",
              "    <tr>\n",
              "      <th>2</th>\n",
              "      <td>18 inch teddy bear</td>\n",
              "      <td>20006.0</td>\n",
              "    </tr>\n",
              "    <tr>\n",
              "      <th>3</th>\n",
              "      <td>18 inch teddy bear</td>\n",
              "      <td>20007.0</td>\n",
              "    </tr>\n",
              "    <tr>\n",
              "      <th>4</th>\n",
              "      <td>18 inch teddy bear</td>\n",
              "      <td>20008.0</td>\n",
              "    </tr>\n",
              "    <tr>\n",
              "      <th>5</th>\n",
              "      <td>8 inch teddy bear</td>\n",
              "      <td>20005.0</td>\n",
              "    </tr>\n",
              "    <tr>\n",
              "      <th>6</th>\n",
              "      <td>8 inch teddy bear</td>\n",
              "      <td>20006.0</td>\n",
              "    </tr>\n",
              "    <tr>\n",
              "      <th>7</th>\n",
              "      <td>Bird bean bag toy</td>\n",
              "      <td>20007.0</td>\n",
              "    </tr>\n",
              "    <tr>\n",
              "      <th>8</th>\n",
              "      <td>Bird bean bag toy</td>\n",
              "      <td>20008.0</td>\n",
              "    </tr>\n",
              "    <tr>\n",
              "      <th>9</th>\n",
              "      <td>Bird bean bag toy</td>\n",
              "      <td>20009.0</td>\n",
              "    </tr>\n",
              "    <tr>\n",
              "      <th>10</th>\n",
              "      <td>Fish bean bag toy</td>\n",
              "      <td>20007.0</td>\n",
              "    </tr>\n",
              "    <tr>\n",
              "      <th>11</th>\n",
              "      <td>Fish bean bag toy</td>\n",
              "      <td>20008.0</td>\n",
              "    </tr>\n",
              "    <tr>\n",
              "      <th>12</th>\n",
              "      <td>Fish bean bag toy</td>\n",
              "      <td>20009.0</td>\n",
              "    </tr>\n",
              "    <tr>\n",
              "      <th>13</th>\n",
              "      <td>King doll</td>\n",
              "      <td>NaN</td>\n",
              "    </tr>\n",
              "    <tr>\n",
              "      <th>14</th>\n",
              "      <td>Queen doll</td>\n",
              "      <td>NaN</td>\n",
              "    </tr>\n",
              "    <tr>\n",
              "      <th>15</th>\n",
              "      <td>Rabbit bean bag toy</td>\n",
              "      <td>20007.0</td>\n",
              "    </tr>\n",
              "    <tr>\n",
              "      <th>16</th>\n",
              "      <td>Rabbit bean bag toy</td>\n",
              "      <td>20008.0</td>\n",
              "    </tr>\n",
              "    <tr>\n",
              "      <th>17</th>\n",
              "      <td>Rabbit bean bag toy</td>\n",
              "      <td>20009.0</td>\n",
              "    </tr>\n",
              "    <tr>\n",
              "      <th>18</th>\n",
              "      <td>Raggedy Ann</td>\n",
              "      <td>20007.0</td>\n",
              "    </tr>\n",
              "    <tr>\n",
              "      <th>19</th>\n",
              "      <td>Raggedy Ann</td>\n",
              "      <td>20008.0</td>\n",
              "    </tr>\n",
              "  </tbody>\n",
              "</table>\n",
              "</div>"
            ],
            "text/plain": [
              "              prod_name  order_num\n",
              "0    12 inch teddy bear    20006.0\n",
              "1    18 inch teddy bear    20005.0\n",
              "2    18 inch teddy bear    20006.0\n",
              "3    18 inch teddy bear    20007.0\n",
              "4    18 inch teddy bear    20008.0\n",
              "5     8 inch teddy bear    20005.0\n",
              "6     8 inch teddy bear    20006.0\n",
              "7     Bird bean bag toy    20007.0\n",
              "8     Bird bean bag toy    20008.0\n",
              "9     Bird bean bag toy    20009.0\n",
              "10    Fish bean bag toy    20007.0\n",
              "11    Fish bean bag toy    20008.0\n",
              "12    Fish bean bag toy    20009.0\n",
              "13            King doll        NaN\n",
              "14           Queen doll        NaN\n",
              "15  Rabbit bean bag toy    20007.0\n",
              "16  Rabbit bean bag toy    20008.0\n",
              "17  Rabbit bean bag toy    20009.0\n",
              "18          Raggedy Ann    20007.0\n",
              "19          Raggedy Ann    20008.0"
            ]
          },
          "metadata": {
            "tags": []
          },
          "execution_count": 44
        }
      ]
    },
    {
      "cell_type": "markdown",
      "metadata": {
        "id": "JehYf020jGeI"
      },
      "source": [
        "###**Challenge 13-4**\r\n",
        "\r\n",
        "**Modify the SQL statement created in the previous challenge so that it returns a total of number of orders for each item (as opposed to the order numbers).**\r\n"
      ]
    },
    {
      "cell_type": "code",
      "metadata": {
        "id": "kLs0wDPzjRwT",
        "colab": {
          "base_uri": "https://localhost:8080/",
          "height": 330
        },
        "outputId": "ef36570e-d76f-474f-a342-926bcf8fab8c"
      },
      "source": [
        "pd.read_sql(\"SELECT prod_name, COUNT(order_num) AS orders \\\r\n",
        "             FROM Products \\\r\n",
        "             LEFT OUTER JOIN OrderItems ON Products.prod_id = OrderItems.prod_id \\\r\n",
        "             GROUP BY prod_name \\\r\n",
        "             ORDER BY prod_name\", conn)"
      ],
      "execution_count": 45,
      "outputs": [
        {
          "output_type": "execute_result",
          "data": {
            "text/html": [
              "<div>\n",
              "<style scoped>\n",
              "    .dataframe tbody tr th:only-of-type {\n",
              "        vertical-align: middle;\n",
              "    }\n",
              "\n",
              "    .dataframe tbody tr th {\n",
              "        vertical-align: top;\n",
              "    }\n",
              "\n",
              "    .dataframe thead th {\n",
              "        text-align: right;\n",
              "    }\n",
              "</style>\n",
              "<table border=\"1\" class=\"dataframe\">\n",
              "  <thead>\n",
              "    <tr style=\"text-align: right;\">\n",
              "      <th></th>\n",
              "      <th>prod_name</th>\n",
              "      <th>orders</th>\n",
              "    </tr>\n",
              "  </thead>\n",
              "  <tbody>\n",
              "    <tr>\n",
              "      <th>0</th>\n",
              "      <td>12 inch teddy bear</td>\n",
              "      <td>1</td>\n",
              "    </tr>\n",
              "    <tr>\n",
              "      <th>1</th>\n",
              "      <td>18 inch teddy bear</td>\n",
              "      <td>4</td>\n",
              "    </tr>\n",
              "    <tr>\n",
              "      <th>2</th>\n",
              "      <td>8 inch teddy bear</td>\n",
              "      <td>2</td>\n",
              "    </tr>\n",
              "    <tr>\n",
              "      <th>3</th>\n",
              "      <td>Bird bean bag toy</td>\n",
              "      <td>3</td>\n",
              "    </tr>\n",
              "    <tr>\n",
              "      <th>4</th>\n",
              "      <td>Fish bean bag toy</td>\n",
              "      <td>3</td>\n",
              "    </tr>\n",
              "    <tr>\n",
              "      <th>5</th>\n",
              "      <td>King doll</td>\n",
              "      <td>0</td>\n",
              "    </tr>\n",
              "    <tr>\n",
              "      <th>6</th>\n",
              "      <td>Queen doll</td>\n",
              "      <td>0</td>\n",
              "    </tr>\n",
              "    <tr>\n",
              "      <th>7</th>\n",
              "      <td>Rabbit bean bag toy</td>\n",
              "      <td>3</td>\n",
              "    </tr>\n",
              "    <tr>\n",
              "      <th>8</th>\n",
              "      <td>Raggedy Ann</td>\n",
              "      <td>2</td>\n",
              "    </tr>\n",
              "  </tbody>\n",
              "</table>\n",
              "</div>"
            ],
            "text/plain": [
              "             prod_name  orders\n",
              "0   12 inch teddy bear       1\n",
              "1   18 inch teddy bear       4\n",
              "2    8 inch teddy bear       2\n",
              "3    Bird bean bag toy       3\n",
              "4    Fish bean bag toy       3\n",
              "5            King doll       0\n",
              "6           Queen doll       0\n",
              "7  Rabbit bean bag toy       3\n",
              "8          Raggedy Ann       2"
            ]
          },
          "metadata": {
            "tags": []
          },
          "execution_count": 45
        }
      ]
    },
    {
      "cell_type": "markdown",
      "metadata": {
        "id": "OarQ84cWjGvp"
      },
      "source": [
        "###**Challenge 13-5**\r\n",
        "\r\n",
        "**Write a SQL statement to list vendors (vend_id in Vendors) and the number of products they have available, including vendors with no products. You’ll want to use an OUTER JOIN and the COUNT() aggregate function to count the number of products for each in the Products table. Pay attention, the vend_id column appears in multiple tables so any time you refer to it you’ll need to fully qualify it.**\r\n"
      ]
    },
    {
      "cell_type": "code",
      "metadata": {
        "id": "QrcQkHRyjSN-",
        "colab": {
          "base_uri": "https://localhost:8080/",
          "height": 236
        },
        "outputId": "74cb7c8a-c86b-4d2a-c80c-5086a7b18ba2"
      },
      "source": [
        "pd.read_sql(\"SELECT Vendors.vend_id, COUNT(prod_id) \\\r\n",
        "             FROM Vendors \\\r\n",
        "             LEFT OUTER JOIN Products ON Vendors.vend_id = Products.vend_id \\\r\n",
        "             GROUP BY Vendors.vend_id\", conn)"
      ],
      "execution_count": 46,
      "outputs": [
        {
          "output_type": "execute_result",
          "data": {
            "text/html": [
              "<div>\n",
              "<style scoped>\n",
              "    .dataframe tbody tr th:only-of-type {\n",
              "        vertical-align: middle;\n",
              "    }\n",
              "\n",
              "    .dataframe tbody tr th {\n",
              "        vertical-align: top;\n",
              "    }\n",
              "\n",
              "    .dataframe thead th {\n",
              "        text-align: right;\n",
              "    }\n",
              "</style>\n",
              "<table border=\"1\" class=\"dataframe\">\n",
              "  <thead>\n",
              "    <tr style=\"text-align: right;\">\n",
              "      <th></th>\n",
              "      <th>vend_id</th>\n",
              "      <th>COUNT(prod_id)</th>\n",
              "    </tr>\n",
              "  </thead>\n",
              "  <tbody>\n",
              "    <tr>\n",
              "      <th>0</th>\n",
              "      <td>BRE02</td>\n",
              "      <td>0</td>\n",
              "    </tr>\n",
              "    <tr>\n",
              "      <th>1</th>\n",
              "      <td>BRS01</td>\n",
              "      <td>3</td>\n",
              "    </tr>\n",
              "    <tr>\n",
              "      <th>2</th>\n",
              "      <td>DLL01</td>\n",
              "      <td>4</td>\n",
              "    </tr>\n",
              "    <tr>\n",
              "      <th>3</th>\n",
              "      <td>FNG01</td>\n",
              "      <td>2</td>\n",
              "    </tr>\n",
              "    <tr>\n",
              "      <th>4</th>\n",
              "      <td>FRB01</td>\n",
              "      <td>0</td>\n",
              "    </tr>\n",
              "    <tr>\n",
              "      <th>5</th>\n",
              "      <td>JTS01</td>\n",
              "      <td>0</td>\n",
              "    </tr>\n",
              "  </tbody>\n",
              "</table>\n",
              "</div>"
            ],
            "text/plain": [
              "  vend_id  COUNT(prod_id)\n",
              "0   BRE02               0\n",
              "1   BRS01               3\n",
              "2   DLL01               4\n",
              "3   FNG01               2\n",
              "4   FRB01               0\n",
              "5   JTS01               0"
            ]
          },
          "metadata": {
            "tags": []
          },
          "execution_count": 46
        }
      ]
    },
    {
      "cell_type": "markdown",
      "metadata": {
        "id": "zvwjBm_ZEs3g"
      },
      "source": [
        "#**Chapter 14 - Combining Queries**"
      ]
    },
    {
      "cell_type": "markdown",
      "metadata": {
        "id": "-z-vl_97k0k2"
      },
      "source": [
        "###**Challenge 14-1**\r\n",
        "\r\n",
        "**Write a SQL statement that combines two SELECT statements that retrieve product id (prod_id) and quantity from the OrderItems table, one filtering for rows with a quantity of exactly 100, and the other filtering for products with an ID that begins with BNBG. Sort the results by product id.**"
      ]
    },
    {
      "cell_type": "code",
      "metadata": {
        "id": "UMZ84XwplE2V",
        "colab": {
          "base_uri": "https://localhost:8080/",
          "height": 0
        },
        "outputId": "96fd7368-7695-4f74-becc-f2e9132e184a"
      },
      "source": [
        "pd.read_sql(\"SELECT prod_id, quantity \\\r\n",
        "             FROM OrderItems \\\r\n",
        "             WHERE quantity = 100 \\\r\n",
        "             UNION \\\r\n",
        "             SELECT prod_id, quantity \\\r\n",
        "             FROM OrderItems \\\r\n",
        "             WHERE prod_id LIKE 'BNBG%' \\\r\n",
        "             ORDER BY prod_id\", conn)"
      ],
      "execution_count": 47,
      "outputs": [
        {
          "output_type": "execute_result",
          "data": {
            "text/html": [
              "<div>\n",
              "<style scoped>\n",
              "    .dataframe tbody tr th:only-of-type {\n",
              "        vertical-align: middle;\n",
              "    }\n",
              "\n",
              "    .dataframe tbody tr th {\n",
              "        vertical-align: top;\n",
              "    }\n",
              "\n",
              "    .dataframe thead th {\n",
              "        text-align: right;\n",
              "    }\n",
              "</style>\n",
              "<table border=\"1\" class=\"dataframe\">\n",
              "  <thead>\n",
              "    <tr style=\"text-align: right;\">\n",
              "      <th></th>\n",
              "      <th>prod_id</th>\n",
              "      <th>quantity</th>\n",
              "    </tr>\n",
              "  </thead>\n",
              "  <tbody>\n",
              "    <tr>\n",
              "      <th>0</th>\n",
              "      <td>BNBG01</td>\n",
              "      <td>10</td>\n",
              "    </tr>\n",
              "    <tr>\n",
              "      <th>1</th>\n",
              "      <td>BNBG01</td>\n",
              "      <td>100</td>\n",
              "    </tr>\n",
              "    <tr>\n",
              "      <th>2</th>\n",
              "      <td>BNBG01</td>\n",
              "      <td>250</td>\n",
              "    </tr>\n",
              "    <tr>\n",
              "      <th>3</th>\n",
              "      <td>BNBG02</td>\n",
              "      <td>10</td>\n",
              "    </tr>\n",
              "    <tr>\n",
              "      <th>4</th>\n",
              "      <td>BNBG02</td>\n",
              "      <td>100</td>\n",
              "    </tr>\n",
              "    <tr>\n",
              "      <th>5</th>\n",
              "      <td>BNBG02</td>\n",
              "      <td>250</td>\n",
              "    </tr>\n",
              "    <tr>\n",
              "      <th>6</th>\n",
              "      <td>BNBG03</td>\n",
              "      <td>10</td>\n",
              "    </tr>\n",
              "    <tr>\n",
              "      <th>7</th>\n",
              "      <td>BNBG03</td>\n",
              "      <td>100</td>\n",
              "    </tr>\n",
              "    <tr>\n",
              "      <th>8</th>\n",
              "      <td>BNBG03</td>\n",
              "      <td>250</td>\n",
              "    </tr>\n",
              "    <tr>\n",
              "      <th>9</th>\n",
              "      <td>BR01</td>\n",
              "      <td>100</td>\n",
              "    </tr>\n",
              "    <tr>\n",
              "      <th>10</th>\n",
              "      <td>BR03</td>\n",
              "      <td>100</td>\n",
              "    </tr>\n",
              "  </tbody>\n",
              "</table>\n",
              "</div>"
            ],
            "text/plain": [
              "   prod_id  quantity\n",
              "0   BNBG01        10\n",
              "1   BNBG01       100\n",
              "2   BNBG01       250\n",
              "3   BNBG02        10\n",
              "4   BNBG02       100\n",
              "5   BNBG02       250\n",
              "6   BNBG03        10\n",
              "7   BNBG03       100\n",
              "8   BNBG03       250\n",
              "9     BR01       100\n",
              "10    BR03       100"
            ]
          },
          "metadata": {
            "tags": []
          },
          "execution_count": 47
        }
      ]
    },
    {
      "cell_type": "markdown",
      "metadata": {
        "id": "mPqaqbcCmvUt"
      },
      "source": [
        "###**Challenge 14-2**\r\n",
        "\r\n",
        "**Rewrite the SQL statement you just created to use a single SELECT statement.**"
      ]
    },
    {
      "cell_type": "code",
      "metadata": {
        "id": "uv9vV-sBm4Bh",
        "colab": {
          "base_uri": "https://localhost:8080/",
          "height": 0
        },
        "outputId": "5f6b2988-4388-4873-b0b4-82ccf3f39f92"
      },
      "source": [
        "pd.read_sql(\"SELECT prod_id, quantity \\\r\n",
        "             FROM OrderItems \\\r\n",
        "             WHERE quantity = 100 OR prod_id LIKE 'BNBG%' \\\r\n",
        "             ORDER BY prod_id\", conn)"
      ],
      "execution_count": 48,
      "outputs": [
        {
          "output_type": "execute_result",
          "data": {
            "text/html": [
              "<div>\n",
              "<style scoped>\n",
              "    .dataframe tbody tr th:only-of-type {\n",
              "        vertical-align: middle;\n",
              "    }\n",
              "\n",
              "    .dataframe tbody tr th {\n",
              "        vertical-align: top;\n",
              "    }\n",
              "\n",
              "    .dataframe thead th {\n",
              "        text-align: right;\n",
              "    }\n",
              "</style>\n",
              "<table border=\"1\" class=\"dataframe\">\n",
              "  <thead>\n",
              "    <tr style=\"text-align: right;\">\n",
              "      <th></th>\n",
              "      <th>prod_id</th>\n",
              "      <th>quantity</th>\n",
              "    </tr>\n",
              "  </thead>\n",
              "  <tbody>\n",
              "    <tr>\n",
              "      <th>0</th>\n",
              "      <td>BNBG01</td>\n",
              "      <td>100</td>\n",
              "    </tr>\n",
              "    <tr>\n",
              "      <th>1</th>\n",
              "      <td>BNBG01</td>\n",
              "      <td>10</td>\n",
              "    </tr>\n",
              "    <tr>\n",
              "      <th>2</th>\n",
              "      <td>BNBG01</td>\n",
              "      <td>250</td>\n",
              "    </tr>\n",
              "    <tr>\n",
              "      <th>3</th>\n",
              "      <td>BNBG02</td>\n",
              "      <td>100</td>\n",
              "    </tr>\n",
              "    <tr>\n",
              "      <th>4</th>\n",
              "      <td>BNBG02</td>\n",
              "      <td>10</td>\n",
              "    </tr>\n",
              "    <tr>\n",
              "      <th>5</th>\n",
              "      <td>BNBG02</td>\n",
              "      <td>250</td>\n",
              "    </tr>\n",
              "    <tr>\n",
              "      <th>6</th>\n",
              "      <td>BNBG03</td>\n",
              "      <td>100</td>\n",
              "    </tr>\n",
              "    <tr>\n",
              "      <th>7</th>\n",
              "      <td>BNBG03</td>\n",
              "      <td>10</td>\n",
              "    </tr>\n",
              "    <tr>\n",
              "      <th>8</th>\n",
              "      <td>BNBG03</td>\n",
              "      <td>250</td>\n",
              "    </tr>\n",
              "    <tr>\n",
              "      <th>9</th>\n",
              "      <td>BR01</td>\n",
              "      <td>100</td>\n",
              "    </tr>\n",
              "    <tr>\n",
              "      <th>10</th>\n",
              "      <td>BR03</td>\n",
              "      <td>100</td>\n",
              "    </tr>\n",
              "  </tbody>\n",
              "</table>\n",
              "</div>"
            ],
            "text/plain": [
              "   prod_id  quantity\n",
              "0   BNBG01       100\n",
              "1   BNBG01        10\n",
              "2   BNBG01       250\n",
              "3   BNBG02       100\n",
              "4   BNBG02        10\n",
              "5   BNBG02       250\n",
              "6   BNBG03       100\n",
              "7   BNBG03        10\n",
              "8   BNBG03       250\n",
              "9     BR01       100\n",
              "10    BR03       100"
            ]
          },
          "metadata": {
            "tags": []
          },
          "execution_count": 48
        }
      ]
    },
    {
      "cell_type": "markdown",
      "metadata": {
        "id": "mPv9TcJtJ8R9"
      },
      "source": [
        "###**Challenge 14-3**\r\n",
        "\r\n",
        "**This one is a little nonsensical, I know, but it does reinforce a note earlier in this lesson. Write a SQL statement which returns and combines product name (prod_name) from Products and customer name (cust_name) from Customers, and sort the result by product name.**"
      ]
    },
    {
      "cell_type": "code",
      "metadata": {
        "id": "p7SkWo9ULCxr",
        "colab": {
          "base_uri": "https://localhost:8080/",
          "height": 0
        },
        "outputId": "89d9fccd-a575-417d-8f2c-1610e359f383"
      },
      "source": [
        "pd.read_sql(\"SELECT prod_name \\\r\n",
        "             FROM Products \\\r\n",
        "             UNION \\\r\n",
        "             SELECT cust_name \\\r\n",
        "             FROM Customers \\\r\n",
        "             ORDER BY prod_name\", conn)"
      ],
      "execution_count": 49,
      "outputs": [
        {
          "output_type": "execute_result",
          "data": {
            "text/html": [
              "<div>\n",
              "<style scoped>\n",
              "    .dataframe tbody tr th:only-of-type {\n",
              "        vertical-align: middle;\n",
              "    }\n",
              "\n",
              "    .dataframe tbody tr th {\n",
              "        vertical-align: top;\n",
              "    }\n",
              "\n",
              "    .dataframe thead th {\n",
              "        text-align: right;\n",
              "    }\n",
              "</style>\n",
              "<table border=\"1\" class=\"dataframe\">\n",
              "  <thead>\n",
              "    <tr style=\"text-align: right;\">\n",
              "      <th></th>\n",
              "      <th>prod_name</th>\n",
              "    </tr>\n",
              "  </thead>\n",
              "  <tbody>\n",
              "    <tr>\n",
              "      <th>0</th>\n",
              "      <td>12 inch teddy bear</td>\n",
              "    </tr>\n",
              "    <tr>\n",
              "      <th>1</th>\n",
              "      <td>18 inch teddy bear</td>\n",
              "    </tr>\n",
              "    <tr>\n",
              "      <th>2</th>\n",
              "      <td>8 inch teddy bear</td>\n",
              "    </tr>\n",
              "    <tr>\n",
              "      <th>3</th>\n",
              "      <td>Bird bean bag toy</td>\n",
              "    </tr>\n",
              "    <tr>\n",
              "      <th>4</th>\n",
              "      <td>Fish bean bag toy</td>\n",
              "    </tr>\n",
              "    <tr>\n",
              "      <th>5</th>\n",
              "      <td>Fun4All</td>\n",
              "    </tr>\n",
              "    <tr>\n",
              "      <th>6</th>\n",
              "      <td>Kids Place</td>\n",
              "    </tr>\n",
              "    <tr>\n",
              "      <th>7</th>\n",
              "      <td>King doll</td>\n",
              "    </tr>\n",
              "    <tr>\n",
              "      <th>8</th>\n",
              "      <td>Queen doll</td>\n",
              "    </tr>\n",
              "    <tr>\n",
              "      <th>9</th>\n",
              "      <td>Rabbit bean bag toy</td>\n",
              "    </tr>\n",
              "    <tr>\n",
              "      <th>10</th>\n",
              "      <td>Raggedy Ann</td>\n",
              "    </tr>\n",
              "    <tr>\n",
              "      <th>11</th>\n",
              "      <td>The Toy Store</td>\n",
              "    </tr>\n",
              "    <tr>\n",
              "      <th>12</th>\n",
              "      <td>Toy Land</td>\n",
              "    </tr>\n",
              "    <tr>\n",
              "      <th>13</th>\n",
              "      <td>Village Toys</td>\n",
              "    </tr>\n",
              "  </tbody>\n",
              "</table>\n",
              "</div>"
            ],
            "text/plain": [
              "              prod_name\n",
              "0    12 inch teddy bear\n",
              "1    18 inch teddy bear\n",
              "2     8 inch teddy bear\n",
              "3     Bird bean bag toy\n",
              "4     Fish bean bag toy\n",
              "5               Fun4All\n",
              "6            Kids Place\n",
              "7             King doll\n",
              "8            Queen doll\n",
              "9   Rabbit bean bag toy\n",
              "10          Raggedy Ann\n",
              "11        The Toy Store\n",
              "12             Toy Land\n",
              "13         Village Toys"
            ]
          },
          "metadata": {
            "tags": []
          },
          "execution_count": 49
        }
      ]
    },
    {
      "cell_type": "markdown",
      "metadata": {
        "id": "i00QqRaIMlD0"
      },
      "source": [
        "###**Challenge 14-4**\r\n",
        "\r\n",
        "**What is wrong with the following SQL statement? (Try to figure it out without running it):**\r\n",
        "\r\n",
        "**SELECT cust_name, cust_contact, cust_email**\r\n",
        "\r\n",
        "**FROM Customers**\r\n",
        "\r\n",
        "**WHERE cust_state  = 'MI'**\r\n",
        "\r\n",
        "**ORDER BY cust_name;**\r\n",
        "\r\n",
        "**UNION**\r\n",
        "\r\n",
        "**SELECT cust_name, cust_contact, cust_email**\r\n",
        "\r\n",
        "**FROM Customers**\r\n",
        "\r\n",
        "**WHERE cust_state = 'IL'**\r\n",
        "\r\n",
        "**ORDER BY cust_name;**"
      ]
    },
    {
      "cell_type": "markdown",
      "metadata": {
        "id": "dMRUI0qaNP63"
      },
      "source": [
        "ANSWER: Only one ORDER BY should be used when combined with UNION and come after last SELECT. Also, the first semicolon should not appear before Union because it terminates the query."
      ]
    },
    {
      "cell_type": "markdown",
      "metadata": {
        "id": "sQ89Jof2ZoTb"
      },
      "source": [
        "#**Ch 15 - Inserting Data**"
      ]
    },
    {
      "cell_type": "markdown",
      "metadata": {
        "id": "nR5Sz431fkJN"
      },
      "source": [
        "###**Challenge 15-1**\r\n",
        "\r\n",
        "**Using INSERT and columns specified, add yourself to the Customers table.**"
      ]
    },
    {
      "cell_type": "code",
      "metadata": {
        "id": "Q3yljUu1f1SK"
      },
      "source": [
        "cur.execute(\"INSERT INTO Customers VALUES (1000000042, \\\r\n",
        "       'Sepehr's Pet Food', \\\r\n",
        "       '777 Main Street', \\\r\n",
        "       'Radiant Woods', \\\r\n",
        "       'MA', \\\r\n",
        "       '10000', \\\r\n",
        "       'USA', \\\r\n",
        "       'sg@fake.com')\")"
      ],
      "execution_count": null,
      "outputs": []
    },
    {
      "cell_type": "code",
      "metadata": {
        "id": "RDUddw_NOAcC"
      },
      "source": [
        "conn.commit()"
      ],
      "execution_count": null,
      "outputs": []
    },
    {
      "cell_type": "markdown",
      "metadata": {
        "id": "lEThitdEfkip"
      },
      "source": [
        "###**Challenge 15-2**\r\n",
        "\r\n",
        "**Make a backup copy of your Orders and OrderItems tables.**"
      ]
    },
    {
      "cell_type": "code",
      "metadata": {
        "id": "yNl7_egIf2gZ"
      },
      "source": [
        "cur.execute(\"CREATE TABLE OrdersBackup AS SELECT * FROM Orders\") \r\n",
        "cur.execute(\"CREATE TABLE OrderItemsBackup AS SELECT * FROM OrderItems\")"
      ],
      "execution_count": null,
      "outputs": []
    },
    {
      "cell_type": "code",
      "metadata": {
        "id": "HHb9k6uFmlVU"
      },
      "source": [
        "conn.commit()"
      ],
      "execution_count": null,
      "outputs": []
    },
    {
      "cell_type": "markdown",
      "metadata": {
        "id": "Dq-6hJ5Dkk4Q"
      },
      "source": [
        "#**Chapter 16 - Updating and Deleting Data**"
      ]
    },
    {
      "cell_type": "markdown",
      "metadata": {
        "id": "kLZGqyQpkyWl"
      },
      "source": [
        "###**Challenge 16-1**\r\n",
        "\r\n",
        "**USA State abbreviations should always be in upper case. Write a SQL statement to update all USA addresses, both vendor states (vend_state in Vendors) and customer states (cust_state in Customers) so that they are upper case.**"
      ]
    },
    {
      "cell_type": "code",
      "metadata": {
        "id": "ZBNuLbSblBqZ"
      },
      "source": [
        "cur.execute(\"UPDATE Vendors \\\r\n",
        "             SET vend_state = UPPER(vend_state) \\\r\n",
        "             WHERE vend_country = 'USA'\")\r\n",
        "\r\n",
        "cur.execute(\"UPDATE Customers \\\r\n",
        "             SET cust_state = UPPER(cust_state) \\\r\n",
        "             WHERE cust_country = 'USA'\")"
      ],
      "execution_count": null,
      "outputs": []
    },
    {
      "cell_type": "code",
      "metadata": {
        "id": "Qn6gw8dSmi-F"
      },
      "source": [
        "conn.commit()"
      ],
      "execution_count": null,
      "outputs": []
    },
    {
      "cell_type": "markdown",
      "metadata": {
        "id": "tQJG9DfasHbA"
      },
      "source": [
        "###**Challenge 16-2**\r\n",
        "\r\n",
        "**In Lesson 15 Challenge 1 I asked you to add yourself to the Customers table. Now delete yourself. Make sure to use a WHERE clause (and test it with a SELECT before using it in DELETE) or you’ll delete all customers!**"
      ]
    },
    {
      "cell_type": "code",
      "metadata": {
        "id": "TCnacLkss7fI"
      },
      "source": [
        "cur.execute(\"DELETE FROM Customers \\\r\n",
        "             WHERE cust_id = 1000000042\")"
      ],
      "execution_count": null,
      "outputs": []
    },
    {
      "cell_type": "code",
      "metadata": {
        "id": "8WYeuNFJtgwO"
      },
      "source": [
        "conn.commit()"
      ],
      "execution_count": null,
      "outputs": []
    },
    {
      "cell_type": "markdown",
      "metadata": {
        "id": "7jKfD_rdxiH2"
      },
      "source": [
        "#**Chapter 17 - Creating and Manipulating Tables**"
      ]
    },
    {
      "cell_type": "markdown",
      "metadata": {
        "id": "C-1doSJJxqSU"
      },
      "source": [
        "###**Challenge 17-1**\r\n",
        "\r\n",
        "**Add a web site column (vend_web) to the Vendors table. You’ll want a text field big enough to accommodate a URL.**"
      ]
    },
    {
      "cell_type": "code",
      "metadata": {
        "id": "1G5fSsH9QqwS"
      },
      "source": [
        "cur.execute(\"ALTER TABLE Vendors \\\r\n",
        "             ADD vend_web CHAR(100)\")"
      ],
      "execution_count": null,
      "outputs": []
    },
    {
      "cell_type": "markdown",
      "metadata": {
        "id": "hYsmsoj_6WBG"
      },
      "source": [
        "###**Challenge 17-2**\r\n",
        "\r\n",
        "**Use UPDATE statements to update Vendor records to include a website (you can make up any address).**"
      ]
    },
    {
      "cell_type": "code",
      "metadata": {
        "id": "i0L5UcXxQ8E8"
      },
      "source": [
        "cur.execute(\"UPDATE Vendors \\\r\n",
        "             SET vend_web = 'https://duckduckgo.com/' \\\r\n",
        "             WHERE vend_id = 'DLL01'\")"
      ],
      "execution_count": null,
      "outputs": []
    },
    {
      "cell_type": "code",
      "metadata": {
        "id": "0nnVe2YeRRau"
      },
      "source": [
        "conn.commit()"
      ],
      "execution_count": null,
      "outputs": []
    },
    {
      "cell_type": "markdown",
      "metadata": {
        "id": "aZYFfWRm9cmw"
      },
      "source": [
        "#**Chapter 18 - Using Views**"
      ]
    },
    {
      "cell_type": "markdown",
      "metadata": {
        "id": "tcJxNqOd9j2J"
      },
      "source": [
        "###**Challenge 18-1**\r\n",
        "\r\n",
        "**Create a view called CustomersWithOrders that contains all of the columns in Customers, but only includes those who have placed orders. Hint, you can JOIN the Orders table to filter just the customers you want. Then use a SELECT to make sure you have the right data.**"
      ]
    },
    {
      "cell_type": "code",
      "metadata": {
        "id": "8FZYrI1B2thp"
      },
      "source": [
        "cur.execute(\"CREATE VIEW CustomersWithOrders AS \\\r\n",
        "       SELECT Customers.cust_id, \\\r\n",
        "       Customers.cust_name, \\\r\n",
        "       Customers.cust_address, \\\r\n",
        "       Customers.cust_city, \\\r\n",
        "       Customers.cust_state, \\\r\n",
        "       Customers.cust_zip, \\\r\n",
        "       Customers.cust_country, \\\r\n",
        "       Customers.cust_contact, \\\r\n",
        "       Customers.cust_email \\\r\n",
        "FROM Customers \\\r\n",
        "JOIN Orders ON Customers.cust_id = Orders.cust_id\")"
      ],
      "execution_count": null,
      "outputs": []
    },
    {
      "cell_type": "code",
      "metadata": {
        "id": "Z9UfMnVz3EWp"
      },
      "source": [
        "pd.read_sql(\"SELECT * \\\r\n",
        "             FROM CustomersWithOrders\", conn)"
      ],
      "execution_count": null,
      "outputs": []
    },
    {
      "cell_type": "markdown",
      "metadata": {
        "id": "K0ossv8q9sBb"
      },
      "source": [
        "###**Challenge 18-2**\r\n",
        "\r\n",
        "**What is wrong with the following SQL statement? (Try to figure it out without running it):**\r\n",
        "\r\n",
        "**CREATE VIEW OrderItemsExpanded AS**\r\n",
        "\r\n",
        "**SELECT order_num,**\r\n",
        "\r\n",
        "**prod_id,**\r\n",
        "\r\n",
        "**quantity,**\r\n",
        "\r\n",
        "**item_price,**\r\n",
        "\r\n",
        "**quantity*item_price AS expanded_price**\r\n",
        "\r\n",
        "**FROM OrderItems**\r\n",
        "\r\n",
        "**ORDER BY order_num;**"
      ]
    },
    {
      "cell_type": "markdown",
      "metadata": {
        "id": "vlBnDZs23Myc"
      },
      "source": [
        "ANSWER: ORDER BY is not allowed in views."
      ]
    }
  ]
}