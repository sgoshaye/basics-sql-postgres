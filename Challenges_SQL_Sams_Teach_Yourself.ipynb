{
  "nbformat": 4,
  "nbformat_minor": 0,
  "metadata": {
    "colab": {
      "name": "Challenges-SQL-Sams-Teach-Yourself.ipynb",
      "provenance": [],
      "collapsed_sections": [
        "YtyivOBbBB8n",
        "7tA3JBeiCwNE",
        "gC0kjK1ZDAK7",
        "NTVERsRNFyFt",
        "kNTq6YhvEBZs",
        "-06fe35gGu7C",
        "HUTpOMfGHBBp",
        "ZKo-YEpHIrfJ",
        "7LfirM4qI6Vd",
        "U_zqI10sEHfp",
        "YgDD7lLzKKTR",
        "0vLeX2MTL4Ls",
        "fByMmE7uMCVn",
        "l-PQWL7tMPIq",
        "VyYa4-0wEJjg",
        "cYLwIDhjOpWy",
        "_BBPTuTsOuma",
        "MSkUuioyO4xw",
        "xh9NgUcEO9na",
        "Ambu8nIMEOe1",
        "ZX1aHL6iSLU0",
        "TMqbsvb8SL5o",
        "ZMoTlFPSSMHk",
        "-f1HPdIYSMUd",
        "6jGyW8c1EWbI",
        "uWqMv4OjEaRo",
        "8kw3VPbkEdFw",
        "ngPWeqF5aDMa",
        "DEs2_yodaDXr",
        "-tYfEmLpEgUP",
        "sIJYx-HUhgJY",
        "1Cj3-1CDhgT6",
        "iWd5_ZFjEkjn",
        "TUnAf2LAiWN5",
        "X3Tk8kh4iWYs",
        "zCZMZwXEEomz",
        "Opo6dzMGjF90",
        "RxZHb6PhjGIs",
        "szhM8VVIjGUZ",
        "JehYf020jGeI",
        "OarQ84cWjGvp",
        "zvwjBm_ZEs3g",
        "-z-vl_97k0k2",
        "mPqaqbcCmvUt",
        "mPv9TcJtJ8R9",
        "i00QqRaIMlD0"
      ],
      "toc_visible": true
    },
    "kernelspec": {
      "name": "python3",
      "display_name": "Python 3"
    }
  },
  "cells": [
    {
      "cell_type": "markdown",
      "metadata": {
        "id": "Yw2xiaWR_B8s"
      },
      "source": [
        "#**Sepehr Goshayeshi**\r\n",
        "\r\n",
        "#Answering all Challenges from Sam's Teach Yourself SQL"
      ]
    },
    {
      "cell_type": "markdown",
      "metadata": {
        "id": "URZG8kJxM6qC"
      },
      "source": [
        "Challenges from these Chapters are solved:\r\n",
        "\r\n",
        "Ch 02 - Retrieving Data\r\n",
        "\r\n",
        "Ch 03 - Sorting Retrieved Data\r\n",
        "\r\n",
        "Ch 04 - Filtering Data\r\n",
        "\r\n",
        "Ch 05 - Advanced Data Filtering\r\n",
        "\r\n",
        "Ch 06 - Using Wildcard Filtering\r\n",
        "\r\n",
        "Ch 07 - Creating Calculated Fields\r\n",
        "\r\n",
        "Ch 08 - Using Data Manipulation Functions\r\n",
        "\r\n",
        "Ch 09 - Summarizing Data\r\n",
        "\r\n",
        "Ch 10 - Grouping Data\r\n",
        "\r\n",
        "Ch 11 - Working with Subqueries\r\n",
        "\r\n",
        "Ch 12 - Joining Tables\r\n",
        "\r\n",
        "Ch 13 - Creating Advanced Joins\r\n",
        "\r\n",
        "Ch 14 - Combining Queries\r\n",
        "\r\n",
        "Ch 15 - Inserting Data\r\n",
        "\r\n",
        "Ch 16 - Updating and Deleting Data\r\n",
        "\r\n",
        "Ch 17 - Creatining and Manipulating Tables\r\n",
        "\r\n",
        "Ch 18 - Using Views"
      ]
    },
    {
      "cell_type": "markdown",
      "metadata": {
        "id": "N4J_Hc76A_1B"
      },
      "source": [
        "# **Prerequisites**"
      ]
    },
    {
      "cell_type": "code",
      "metadata": {
        "id": "sLj1841_-_ix"
      },
      "source": [
        "#Import necessary libraries\r\n",
        "import sqlite3\r\n",
        "import pandas as pd"
      ],
      "execution_count": null,
      "outputs": []
    },
    {
      "cell_type": "code",
      "metadata": {
        "id": "I1aSiDNS_Uav"
      },
      "source": [
        "#Defining database and making connection\r\n",
        "database = '/content/drive/MyDrive/TYSQL.sqlite'\r\n",
        "conn = sqlite3.connect(database)\r\n",
        "cur = conn.cursor() #defining cursor for future problems starting in Ch15"
      ],
      "execution_count": null,
      "outputs": []
    },
    {
      "cell_type": "markdown",
      "metadata": {
        "id": "YtyivOBbBB8n"
      },
      "source": [
        "#**Chapter 2 - Retrieving Data**"
      ]
    },
    {
      "cell_type": "markdown",
      "metadata": {
        "id": "7tA3JBeiCwNE"
      },
      "source": [
        "###**Challenge 2-1**\r\n",
        "\r\n",
        "**Write a SQL statement to retrieve all customer ids (cust_id) from the Customers table.**"
      ]
    },
    {
      "cell_type": "code",
      "metadata": {
        "id": "psQ56CG1BnoU"
      },
      "source": [
        "pd.read_sql(\"SELECT cust_id \\\r\n",
        "             FROM Customers\", conn)"
      ],
      "execution_count": null,
      "outputs": []
    },
    {
      "cell_type": "markdown",
      "metadata": {
        "id": "gC0kjK1ZDAK7"
      },
      "source": [
        "###**Challenge 2-2**\r\n",
        "\r\n",
        "**The OrderItems table contains every item ordered\r\n",
        "(and some were ordered multiple times). Write a SQL statement\r\n",
        "to retrieve a list of the products (prod_id) ordered (not every order, just a unique list of products). Here’s a hint, you should end up with seven unique rows displayed.**"
      ]
    },
    {
      "cell_type": "code",
      "metadata": {
        "id": "87dYtJBGCmDm"
      },
      "source": [
        "pd.read_sql(\"SELECT distinct prod_id \\\r\n",
        "             FROM OrderItems\", conn)"
      ],
      "execution_count": null,
      "outputs": []
    },
    {
      "cell_type": "markdown",
      "metadata": {
        "id": "NTVERsRNFyFt"
      },
      "source": [
        "###**Challenge 2-3**\r\n",
        "\r\n",
        "**Write a SQL statement that retrieves all columns from\r\n",
        "the Customers table, and an alternate SELECT that retrieves\r\n",
        "just the customer id.**"
      ]
    },
    {
      "cell_type": "code",
      "metadata": {
        "id": "O1U9Pwj9F82d"
      },
      "source": [
        "pd.read_sql(\"SELECT * \\\r\n",
        "             FROM Customers\", conn)"
      ],
      "execution_count": null,
      "outputs": []
    },
    {
      "cell_type": "code",
      "metadata": {
        "id": "Cw9OnZwuF4XA"
      },
      "source": [
        "pd.read_sql(\"SELECT cust_id \\\r\n",
        "             FROM Customers\", conn)"
      ],
      "execution_count": null,
      "outputs": []
    },
    {
      "cell_type": "markdown",
      "metadata": {
        "id": "kNTq6YhvEBZs"
      },
      "source": [
        "#**Chapter 3 - Sorting Retrieved Data**"
      ]
    },
    {
      "cell_type": "markdown",
      "metadata": {
        "id": "-06fe35gGu7C"
      },
      "source": [
        "###**Challenge 3-1**\r\n",
        "\r\n",
        "**Write a SQL statement to retrieve all customer names (cust_name) from the Customers table, and display the results sorted from Z to A.**"
      ]
    },
    {
      "cell_type": "code",
      "metadata": {
        "id": "QSDIGjVSG64k"
      },
      "source": [
        "pd.read_sql(\"SELECT cust_name \\\r\n",
        "             FROM Customers \\\r\n",
        "             ORDER BY cust_name DESC\", conn)"
      ],
      "execution_count": null,
      "outputs": []
    },
    {
      "cell_type": "markdown",
      "metadata": {
        "id": "HUTpOMfGHBBp"
      },
      "source": [
        "###**Challenge 3-2**\r\n",
        "\r\n",
        "**Write a SQL statement to retrieve customer id (cust_id) and order number (order_num) from the Orders table, and sort the results first by customer id, and then by order date in reverse chronological order.**"
      ]
    },
    {
      "cell_type": "code",
      "metadata": {
        "id": "0K0cPbr0HEpM"
      },
      "source": [
        "pd.read_sql(\"SELECT cust_id, order_num \\\r\n",
        "             FROM Orders \\\r\n",
        "             ORDER BY cust_id, order_date DESC\", conn)"
      ],
      "execution_count": null,
      "outputs": []
    },
    {
      "cell_type": "markdown",
      "metadata": {
        "id": "ZKo-YEpHIrfJ"
      },
      "source": [
        "###**Challenge 3-3**\r\n",
        "\r\n",
        "**Our fictitious store obviously prefers to sell more expensive items, and lots of them. Write a SQL statement to display the quantity and price (item_price) from the OrderItems table, sorted with the highest quantity and highest price first.**"
      ]
    },
    {
      "cell_type": "code",
      "metadata": {
        "id": "-yoVKOoNIvUU"
      },
      "source": [
        "pd.read_sql(\"SELECT quantity, item_price \\\r\n",
        "             FROM OrderItems \\\r\n",
        "             ORDER BY quantity DESC, item_price DESC\", conn)"
      ],
      "execution_count": null,
      "outputs": []
    },
    {
      "cell_type": "markdown",
      "metadata": {
        "id": "7LfirM4qI6Vd"
      },
      "source": [
        "###**Challenge 3-4**\r\n",
        "\r\n",
        "**What is wrong with the following SQL statement? (Try to figure it out without running it):**\r\n",
        "\r\n",
        "**SELECT vend_name,**\r\n",
        "\r\n",
        "**FROM Vendors**\r\n",
        "\r\n",
        "**ORDER vend_name DESC;**"
      ]
    },
    {
      "cell_type": "markdown",
      "metadata": {
        "id": "Wk_PZ_koJF9A"
      },
      "source": [
        "ANSWER: There should be no comma after vend_name and there should be a BY after ORDER"
      ]
    },
    {
      "cell_type": "markdown",
      "metadata": {
        "id": "U_zqI10sEHfp"
      },
      "source": [
        "#**Chapter 4 - Filtering Data**"
      ]
    },
    {
      "cell_type": "markdown",
      "metadata": {
        "id": "YgDD7lLzKKTR"
      },
      "source": [
        "###**Challenge 4-1**\r\n",
        "\r\n",
        "**Write a SQL statement to retrieve the product id (prod_id) and name (prod_name) from the Products table, returning only products with a price of 9.49.**"
      ]
    },
    {
      "cell_type": "code",
      "metadata": {
        "id": "WM785cGWKJxD"
      },
      "source": [
        "pd.read_sql(\"SELECT prod_id, prod_name \\\r\n",
        "             FROM Products \\\r\n",
        "             WHERE prod_price = 9.49\", conn)"
      ],
      "execution_count": null,
      "outputs": []
    },
    {
      "cell_type": "markdown",
      "metadata": {
        "id": "0vLeX2MTL4Ls"
      },
      "source": [
        "###**Challenge 4-2**\r\n",
        "\r\n",
        "**Write a SQL statement to retrieve the product id (prod_id) and name (prod_name) from the Products table, returning only products with a price of 9 or more.**"
      ]
    },
    {
      "cell_type": "code",
      "metadata": {
        "id": "f_x3NHVxL59g"
      },
      "source": [
        "pd.read_sql(\"SELECT prod_id, prod_name \\\r\n",
        "             FROM Products \\\r\n",
        "             WHERE prod_price >= 9.49\", conn)"
      ],
      "execution_count": null,
      "outputs": []
    },
    {
      "cell_type": "markdown",
      "metadata": {
        "id": "fByMmE7uMCVn"
      },
      "source": [
        "###**Challenge 4-3**\r\n",
        "\r\n",
        "**Now let’s combine Lessons 3 and 4. Write a SQL statement that retrieves the unique list of order numbers (order_num) from the OrderItems table which contain 100 or more of any item.**"
      ]
    },
    {
      "cell_type": "code",
      "metadata": {
        "id": "fWQoHpczMNgM"
      },
      "source": [
        "pd.read_sql(\"SELECT DISTINCT order_num \\\r\n",
        "             FROM OrderItems \\\r\n",
        "             WHERE quantity >= 100\", conn)"
      ],
      "execution_count": null,
      "outputs": []
    },
    {
      "cell_type": "markdown",
      "metadata": {
        "id": "l-PQWL7tMPIq"
      },
      "source": [
        "###**Challenge 4-4**\r\n",
        "\r\n",
        "**One more. Write a SQL statement which returns the product name (prod_name) and price (prod_price) from Products for all products priced between 3 and 6. Oh, and sort the results by price. (There are multiple solutions to this one and we’ll revisit it in the next lesson, but you can solve it using what you’ve learned thus far).**"
      ]
    },
    {
      "cell_type": "code",
      "metadata": {
        "id": "UIf8ur70MTlx"
      },
      "source": [
        "pd.read_sql(\"SELECT prod_name, prod_price \\\r\n",
        "             FROM Products \\\r\n",
        "             WHERE prod_price BETWEEN 3 AND 6 ORDER BY prod_price\", conn)"
      ],
      "execution_count": null,
      "outputs": []
    },
    {
      "cell_type": "markdown",
      "metadata": {
        "id": "VyYa4-0wEJjg"
      },
      "source": [
        "#**Chapter 5 - Advanced Data Filtering**"
      ]
    },
    {
      "cell_type": "markdown",
      "metadata": {
        "id": "cYLwIDhjOpWy"
      },
      "source": [
        "###**Challenge 5-1**\r\n",
        "\r\n",
        "**Write a SQL statement to retrieve the vendor name (vend_name) from the Vendors table, returning only vendors in California (this requires filtering by both country (USA) and state (CA), after all, there could be a California outside of the USA). Here’s a hint, the filter requires matching strings.**\r\n"
      ]
    },
    {
      "cell_type": "code",
      "metadata": {
        "id": "6qLnlC5oOo3H"
      },
      "source": [
        "pd.read_sql(\"SELECT vend_name \\\r\n",
        "             FROM Vendors \\\r\n",
        "             WHERE vend_country = 'USA' AND vend_state = 'CA'\", conn)"
      ],
      "execution_count": null,
      "outputs": []
    },
    {
      "cell_type": "markdown",
      "metadata": {
        "id": "_BBPTuTsOuma"
      },
      "source": [
        "###**Challenge 5-2**\r\n",
        "\r\n",
        "**Write a SQL statement to find all orders where at least 100 of items BR01, BR02, or BR03 were ordered. You’ll want to return order number (order_num), product id (prod_id), and quantity for the OrderItems table, filtering by both the product id and quantity. Here’s a hint, depending on how you write your filter, you may need to pay special attention to order of evaluation.**\r\n"
      ]
    },
    {
      "cell_type": "code",
      "metadata": {
        "id": "HfTCII0dOyCQ"
      },
      "source": [
        "pd.read_sql(\"SELECT order_num, prod_id, quantity FROM OrderItems \" \\\r\n",
        "            \"WHERE prod_id IN ('BR01', 'BR02', 'BR03') AND quantity >= 100\", conn)"
      ],
      "execution_count": null,
      "outputs": []
    },
    {
      "cell_type": "markdown",
      "metadata": {
        "id": "MSkUuioyO4xw"
      },
      "source": [
        "###**Challenge 5-3**\r\n",
        "\r\n",
        "**Now let’s revisit a challenge from the previous lesson. Write a SQL statement which returns the product name (prod_name) and price (prod_price) from Products for all products priced between 3 and 6. Use an AND, and sort the results by price.**\r\n"
      ]
    },
    {
      "cell_type": "code",
      "metadata": {
        "id": "nK1tNzvEO7sK"
      },
      "source": [
        "pd.read_sql(\"SELECT prod_name, prod_price FROM Products \" \\\r\n",
        "            \"WHERE prod_price >= 3 AND prod_price <= 6 ORDER BY prod_price\", conn)"
      ],
      "execution_count": null,
      "outputs": []
    },
    {
      "cell_type": "markdown",
      "metadata": {
        "id": "xh9NgUcEO9na"
      },
      "source": [
        "###**Challenge 5-4**\r\n",
        "\r\n",
        "**What is wrong with the following SQL statement? (Try to figure it out without running it):**\r\n",
        "\r\n",
        "**SELECT vend_name**\r\n",
        "\r\n",
        "**FROM Vendors**\r\n",
        "\r\n",
        "**ORDER BY vend_name**\r\n",
        "\r\n",
        "**WHERE vend_country = 'USA' AND vend_state = 'CA';**"
      ]
    },
    {
      "cell_type": "markdown",
      "metadata": {
        "id": "oTCDdusjPAaJ"
      },
      "source": [
        "ANSWER: ORDER BY vend_name should come after WHERE clause"
      ]
    },
    {
      "cell_type": "markdown",
      "metadata": {
        "id": "Ambu8nIMEOe1"
      },
      "source": [
        "#**Chapter 6 - Using Wildcard Filtering**"
      ]
    },
    {
      "cell_type": "markdown",
      "metadata": {
        "id": "ZX1aHL6iSLU0"
      },
      "source": [
        "###**Challenge 6-1**\r\n",
        "\r\n",
        "**Write a SQL statement to retrieve the product name (prod_name) and description (prod_desc) from the Products table, returning only products where the word toy is in the description.**\r\n"
      ]
    },
    {
      "cell_type": "code",
      "metadata": {
        "id": "SvpXENiQSmoq"
      },
      "source": [
        "pd.read_sql(\"SELECT prod_name, prod_desc \\\r\n",
        "             FROM Products \\\r\n",
        "             WHERE prod_desc LIKE '%toy%'\", conn)"
      ],
      "execution_count": null,
      "outputs": []
    },
    {
      "cell_type": "markdown",
      "metadata": {
        "id": "TMqbsvb8SL5o"
      },
      "source": [
        "###**Challenge 6-2**\r\n",
        "\r\n",
        "**Now let’s flip things around. Write a SQL statement to retrieve the product name (prod_name) and description (prod_desc) from the Products table, returning only products where the word toy doesn’t appear in the description. And this time, sort the results by product name.**\r\n"
      ]
    },
    {
      "cell_type": "code",
      "metadata": {
        "id": "YEIDMwQ-SnHe"
      },
      "source": [
        "pd.read_sql(\"SELECT prod_name, prod_desc \\\r\n",
        "             FROM Products WHERE NOT prod_desc LIKE '%toy%' \\\r\n",
        "             ORDER BY prod_name\", conn)"
      ],
      "execution_count": null,
      "outputs": []
    },
    {
      "cell_type": "markdown",
      "metadata": {
        "id": "ZMoTlFPSSMHk"
      },
      "source": [
        "###**Challenge 6-3**\r\n",
        "\r\n",
        "**Write a SQL statement to retrieve the product name (prod_name) and description (prod_desc) from the Products table, returning only products where both the words toy and carrots appear in the description. There are a couple of ways to do this, but for this challenge use AND and two LIKE comparisons.**\r\n"
      ]
    },
    {
      "cell_type": "code",
      "metadata": {
        "id": "kI85Pvn-Snk4"
      },
      "source": [
        "pd.read_sql(\"SELECT prod_name, prod_desc \\\r\n",
        "             FROM Products \\\r\n",
        "             WHERE prod_desc LIKE '%toy%' AND prod_desc LIKE '%carrots%'\", conn)"
      ],
      "execution_count": null,
      "outputs": []
    },
    {
      "cell_type": "markdown",
      "metadata": {
        "id": "-f1HPdIYSMUd"
      },
      "source": [
        "###**Challenge 6-4**\r\n",
        "\r\n",
        "**This next one is a little trickier. I didn’t show you this syntax specifically, but see if you can figure it out anyway based on what you have learned thus far. Write a SQL statement to retrieve the product name (prod_name) and description (prod_desc) from the Products table, returning only products where both the words toy and carrots appear in the description in that order (the word toy before the word carrots). Here’s a hint, you’ll only need one LIKE with 3 % symbols to do this.**\r\n"
      ]
    },
    {
      "cell_type": "code",
      "metadata": {
        "id": "Wi-uFSZxSoOy"
      },
      "source": [
        "pd.read_sql(\"SELECT prod_name, prod_desc \\\r\n",
        "             FROM Products \\\r\n",
        "             WHERE prod_desc LIKE '%toy%carrots%'\", conn)"
      ],
      "execution_count": null,
      "outputs": []
    },
    {
      "cell_type": "markdown",
      "metadata": {
        "id": "fcSbl6VrESh8"
      },
      "source": [
        "#**Chapter 7 - Creating Calculated Fields**"
      ]
    },
    {
      "cell_type": "markdown",
      "metadata": {
        "id": "WJkbGEySTl9Q"
      },
      "source": [
        "###**Challenge 7-1**\r\n",
        "\r\n",
        "**A common use for aliases is to rename table column fields in retrieved results (perhaps to match specific reporting or client needs). Write a SQL statement that retrieves vend_id, vend_name, vend_address, and vend_city from Vendors, renaming vend_name to vname, vend_city to vcity, and vend_address to vaddress. Sort the results by vendor name (you can use the original name or the renamed name).**\r\n"
      ]
    },
    {
      "cell_type": "code",
      "metadata": {
        "id": "uK2lqOJjTth5"
      },
      "source": [
        "pd.read_sql(\"SELECT vend_id, vend_name AS vname, vend_address AS vaddress, vend_city AS vcity \\\r\n",
        "             FROM Vendors \\\r\n",
        "             ORDER BY vname\", conn)"
      ],
      "execution_count": null,
      "outputs": []
    },
    {
      "cell_type": "markdown",
      "metadata": {
        "id": "UJj5JzlOTmJs"
      },
      "source": [
        "###**Challenge 7-2**\r\n",
        "\r\n",
        "**Our example store is running a sale and all products are 10% off. Write a SQL statement that returns prod_id, prod_price, and sale_price from the Products table. sale_price is a calculated field that contains, well, the sale price. Here’s a hint, you can multiply by 0.9 to get 90% of the original value (and thus the 10% off price).**\r\n"
      ]
    },
    {
      "cell_type": "code",
      "metadata": {
        "id": "vrMMmX5cTuEu"
      },
      "source": [
        "pd.read_sql(\"SELECT prod_id, prod_price, prod_price * 0.9 AS sale_price \\\r\n",
        "             FROM Products\", conn)"
      ],
      "execution_count": null,
      "outputs": []
    },
    {
      "cell_type": "markdown",
      "metadata": {
        "id": "6jGyW8c1EWbI"
      },
      "source": [
        "#**Chapter 8 - Using Data Manipulating Functions**"
      ]
    },
    {
      "cell_type": "markdown",
      "metadata": {
        "id": "HHx9eo6vUUAh"
      },
      "source": [
        "###**Challenge 8-1**\r\n",
        "\r\n",
        "**Our store is now online and customer accounts are being created. Each user needs a login, and the default login will be a combination of their name and city. Write a SQL statement that returns customer id (cust_id), customer name (cust_name) and user_login which is all upper case and comprised of the first two characters of the customer contact (cust_contact) and the first three characters of the customer city (cust_city). So, for example, my login (Ben Forta living in Oak Park) would be BEOAK. Hint, for this one you’ll use functions, concatenation, and an alias.**\r\n"
      ]
    },
    {
      "cell_type": "code",
      "metadata": {
        "id": "y9UwfifTViQ3"
      },
      "source": [
        "pd.read_sql(\"SELECT cust_id, cust_name, UPPER(SUBSTR(cust_contact, 1, 2)) || UPPER(SUBSTR(cust_city, 1, 3)) AS user_login \\\r\n",
        "             FROM customers\", conn)"
      ],
      "execution_count": null,
      "outputs": []
    },
    {
      "cell_type": "markdown",
      "metadata": {
        "id": "vHmhpdBrUUNQ"
      },
      "source": [
        "###**Challenge 8-2**\r\n",
        "\r\n",
        "**Write a SQL statement to return the order number (order_num) and order date (order_date) for all orders placed in January 2020, sorted by order date. You should be able to figure this out based on what you have learned thus far, but feel free to consult your DBMS documentation as needed.**"
      ]
    },
    {
      "cell_type": "code",
      "metadata": {
        "id": "giHJO0joViqV"
      },
      "source": [
        "pd.read_sql(\"SELECT order_num \\\r\n",
        "             FROM Orders \\\r\n",
        "             WHERE strftime('%Y', order_date) = '2020' AND strftime('%m', order_date) = '01' \\\r\n",
        "             ORDER BY order_date\", conn)"
      ],
      "execution_count": null,
      "outputs": []
    },
    {
      "cell_type": "markdown",
      "metadata": {
        "id": "uWqMv4OjEaRo"
      },
      "source": [
        "#**Chapter 9 - Summarizing Data**"
      ]
    },
    {
      "cell_type": "markdown",
      "metadata": {
        "id": "Mkv63iVnYd1p"
      },
      "source": [
        "###**Challenge 9-1**\r\n",
        "\r\n",
        "**Write a SQL statement to determine the total number of items sold (using the quantity column in OrderItems).**\r\n"
      ]
    },
    {
      "cell_type": "code",
      "metadata": {
        "id": "4KyiWIY1YpMT"
      },
      "source": [
        "pd.read_sql(\"SELECT SUM(quantity) AS items_ordered \\\r\n",
        "             FROM OrderItems\", conn)"
      ],
      "execution_count": null,
      "outputs": []
    },
    {
      "cell_type": "markdown",
      "metadata": {
        "id": "Ja7XYwUWYeA2"
      },
      "source": [
        "###**Challenge 9-2**\r\n",
        "\r\n",
        "**Modify the statement you just created to determine the total number of products with an id (prod_id) BR01 sold.**\r\n"
      ]
    },
    {
      "cell_type": "code",
      "metadata": {
        "id": "cTAwWYMSYrYF"
      },
      "source": [
        "pd.read_sql(\"SELECT SUM(quantity) AS items_ordered \\\r\n",
        "             FROM OrderItems \\\r\n",
        "             WHERE prod_id = 'BR01'\", conn)"
      ],
      "execution_count": null,
      "outputs": []
    },
    {
      "cell_type": "markdown",
      "metadata": {
        "id": "j_MgPVPyYiU-"
      },
      "source": [
        "###**Challenge 9-3**\r\n",
        "\r\n",
        "**Write a SQL statement to determine the price (prod_price) of the most expensive item in the Products table which costs no more than 10, name the calculated field max_price.**\r\n"
      ]
    },
    {
      "cell_type": "code",
      "metadata": {
        "id": "RIUpU5b9Ytc1"
      },
      "source": [
        "pd.read_sql(\"SELECT MAX(prod_price) AS max_price \\\r\n",
        "             FROM Products \\\r\n",
        "             WHERE prod_price <= 10\", conn)"
      ],
      "execution_count": null,
      "outputs": []
    },
    {
      "cell_type": "markdown",
      "metadata": {
        "id": "8kw3VPbkEdFw"
      },
      "source": [
        "#**Chapter 10 - Grouping Data**"
      ]
    },
    {
      "cell_type": "markdown",
      "metadata": {
        "id": "ngPWeqF5aDMa"
      },
      "source": [
        "###**Challenge 10-1**\r\n",
        "\r\n",
        "**The OrderItems table contains the individual items for each order. Write a SQL statement that returns the number of lines (as order_lines) for each order number (order_num) and sort the results by order_lines.**\r\n"
      ]
    },
    {
      "cell_type": "code",
      "metadata": {
        "id": "r9qWRuA6afMU"
      },
      "source": [
        "pd.read_sql(\"SELECT order_num, COUNT(*) AS order_lines \\\r\n",
        "             FROM OrderItems \\\r\n",
        "             GROUP BY order_num \\\r\n",
        "             ORDER BY order_lines\", conn)"
      ],
      "execution_count": null,
      "outputs": []
    },
    {
      "cell_type": "markdown",
      "metadata": {
        "id": "DEs2_yodaDXr"
      },
      "source": [
        "###**Challenge 10-2**\r\n",
        "\r\n",
        "**Write a SQL statement that returns a field named cheapest_item which contains the lowest cost item for each vendor (using prod_price in the Products table), and sort the results from lowest to highest cost.**\r\n"
      ]
    },
    {
      "cell_type": "code",
      "metadata": {
        "id": "nsrvBCJzafqR"
      },
      "source": [
        "pd.read_sql(\"SELECT vend_id, MIN(prod_price) AS cheapest_item \\\r\n",
        "             FROM Products \\\r\n",
        "             GROUP BY vend_id \\\r\n",
        "             ORDER BY cheapest_item\", conn)"
      ],
      "execution_count": null,
      "outputs": []
    },
    {
      "cell_type": "markdown",
      "metadata": {
        "id": "8Ho1jil2aDjC"
      },
      "source": [
        "###**Challenge 10-3**\r\n",
        "\r\n",
        "**It’s important to identify the best customers, so write a SQL statement to return the order number (order_num in OrderItems table) for all orders of at least 100 items.**\r\n"
      ]
    },
    {
      "cell_type": "code",
      "metadata": {
        "id": "5fDmR69QagIL"
      },
      "source": [
        "pd.read_sql(\"SELECT order_num \\\r\n",
        "             FROM OrderItems \\\r\n",
        "             GROUP BY order_num \\\r\n",
        "             HAVING SUM(quantity) >= 100 \\\r\n",
        "             ORDER BY order_num\", conn)"
      ],
      "execution_count": null,
      "outputs": []
    },
    {
      "cell_type": "markdown",
      "metadata": {
        "id": "vnDXCr2QaDuZ"
      },
      "source": [
        "###**Challenge 10-4**\r\n",
        "\r\n",
        "**Another way to determine the best customers is by how much they have spent. Write a SQL statement to return the order number (order_num in OrderItems table) for all orders with a total price of at least 1000. Hint, for this one you’ll need to calculate and sum the total (item_price multiplied by quantity). Sort the results by order number.**\r\n"
      ]
    },
    {
      "cell_type": "code",
      "metadata": {
        "id": "M862vTauagmL"
      },
      "source": [
        "pd.read_sql(\"SELECT order_num, SUM(item_price*quantity) AS total_price \\\r\n",
        "             FROM OrderItems \\\r\n",
        "             GROUP BY order_num \\\r\n",
        "             HAVING SUM(item_price*quantity) >= 1000 \\\r\n",
        "             ORDER BY order_num\", conn)"
      ],
      "execution_count": null,
      "outputs": []
    },
    {
      "cell_type": "markdown",
      "metadata": {
        "id": "Y433RaM8aD6M"
      },
      "source": [
        "###**Challenge 10-5**\r\n",
        "\r\n",
        "**What is wrong with the following SQL statement?**\r\n",
        "\r\n",
        "**(Try to figure it out without running it):**\r\n",
        "\r\n",
        "**SELECT order_num, COUNT() AS items**\r\n",
        "\r\n",
        "**FROM OrderItems**\r\n",
        "\r\n",
        "**GROUP BY items**\r\n",
        "\r\n",
        "**HAVING COUNT() >= 3**\r\n",
        "\r\n",
        "**ORDER BY items, order_num;**"
      ]
    },
    {
      "cell_type": "markdown",
      "metadata": {
        "id": "FayyiHYVaELb"
      },
      "source": [
        "ANSWER: GROUP BY is incorrect. It has to be a column, not the one being aggregated"
      ]
    },
    {
      "cell_type": "markdown",
      "metadata": {
        "id": "-tYfEmLpEgUP"
      },
      "source": [
        "#**Chapter 11 - Working with Subqueries**"
      ]
    },
    {
      "cell_type": "markdown",
      "metadata": {
        "id": "sIJYx-HUhgJY"
      },
      "source": [
        "###**Challenge 11-1**\r\n",
        "\r\n",
        "**Using a subquery, return a list of customers who bought items priced 10 or more. You’ll want to use the OrderItems table to find the matching order numbers (order_num), and then the Orders table to retrieve the customer id (cust_id) for those matched orders.**\r\n"
      ]
    },
    {
      "cell_type": "code",
      "metadata": {
        "id": "jMiLhZx3hxaP"
      },
      "source": [
        "pd.read_sql(\"SELECT cust_id \\\r\n",
        "             FROM Orders \\\r\n",
        "             WHERE order_num IN \\\r\n",
        "                               (SELECT order_num \\\r\n",
        "                                FROM OrderItems \\\r\n",
        "                                WHERE item_price >= 10)\", conn)"
      ],
      "execution_count": null,
      "outputs": []
    },
    {
      "cell_type": "markdown",
      "metadata": {
        "id": "1Cj3-1CDhgT6"
      },
      "source": [
        "###**Challenge 11-2**\r\n",
        "\r\n",
        "**You need to know the dates when product BR01 was ordered. Write a SQL statement that uses a subquery to determine which orders (in OrderItems) purchased prod_id BR01, and then returns customer id (cust_id) and order date (order_date) for each from the Orders table. Sort the results by order date.**\r\n"
      ]
    },
    {
      "cell_type": "code",
      "metadata": {
        "id": "vo1g2BH9hx1Y"
      },
      "source": [
        "pd.read_sql(\"SELECT cust_id, order_date \\\r\n",
        "             FROM Orders \\\r\n",
        "             WHERE order_num IN (SELECT order_num \\\r\n",
        "                                 FROM OrderItems \\\r\n",
        "                                 WHERE prod_id = 'BR01') \\\r\n",
        "             ORDER BY order_date\", conn)"
      ],
      "execution_count": null,
      "outputs": []
    },
    {
      "cell_type": "markdown",
      "metadata": {
        "id": "AOlWvr_bhgiP"
      },
      "source": [
        "###**Challenge 11-3**\r\n",
        "\r\n",
        "**Now let’s make it a bit more challenging. Update the previous challenge to return the customer email (cust_email in the Customers table) for any customers who purchased item with a prod_id of BR01. Hint, this involves the SELECT statement, the innermost one returning order_num from OrderItems, and the middle one returning cust_id from Orders.**\r\n"
      ]
    },
    {
      "cell_type": "code",
      "metadata": {
        "id": "jn8LOhW3hypU"
      },
      "source": [
        "pd.read_sql(\"SELECT cust_email \\\r\n",
        "             FROM Customers \\\r\n",
        "             WHERE cust_id IN (SELECT cust_id \\\r\n",
        "                               FROM Orders \\\r\n",
        "                               WHERE order_num IN (SELECT order_num \\\r\n",
        "                                                   FROM OrderItems \\\r\n",
        "                                                   WHERE prod_id = 'BR01'))\", conn)"
      ],
      "execution_count": null,
      "outputs": []
    },
    {
      "cell_type": "markdown",
      "metadata": {
        "id": "HPrVZwUahg0P"
      },
      "source": [
        "###**Challenge 11-4**\r\n",
        "\r\n",
        "**We need a list of customer ids with the total amount they have ordered. Write a SQL statement to return customer id (cust_id in Orders table) and total_ordered using a subquery to return the total of orders for each customer. Sort the results by amount spent from greatest to the least. Hint, you’ve used the SUM() to calculate order totals previously.**\r\n"
      ]
    },
    {
      "cell_type": "code",
      "metadata": {
        "id": "jSPpvRc8hzM5"
      },
      "source": [
        "pd.read_sql(\"SELECT cust_id, \\\r\n",
        "                   (SELECT SUM(item_price*quantity) \\\r\n",
        "                    FROM OrderItems \\\r\n",
        "                    WHERE Orders.order_num = OrderItems.order_num) AS total_ordered \\\r\n",
        "             FROM Orders \\\r\n",
        "             ORDER BY total_ordered DESC\", conn)"
      ],
      "execution_count": null,
      "outputs": []
    },
    {
      "cell_type": "markdown",
      "metadata": {
        "id": "jH-UysQthhFr"
      },
      "source": [
        "###**Challenge 11-5**\r\n",
        "\r\n",
        "**One more. Write a SQL statement that retrieves all product names (prod_name) from the Products table, along with a calculated named quant_sold containing the total number of this item sold (retrieved using a subquery and a SUM(quantity) on the OrderItems table).**\r\n"
      ]
    },
    {
      "cell_type": "code",
      "metadata": {
        "id": "8j2wrZl3hzl6"
      },
      "source": [
        "pd.read_sql(\"SELECT prod_name, \\\r\n",
        "                   (SELECT SUM(quantity) \\\r\n",
        "                    FROM OrderItems \\\r\n",
        "                    WHERE Products.prod_id = OrderItems.prod_id) AS quant_sold \\\r\n",
        "             FROM Products\", conn)"
      ],
      "execution_count": null,
      "outputs": []
    },
    {
      "cell_type": "markdown",
      "metadata": {
        "id": "iWd5_ZFjEkjn"
      },
      "source": [
        "#**Chapter 12 - Joining Tables**"
      ]
    },
    {
      "cell_type": "markdown",
      "metadata": {
        "id": "TUnAf2LAiWN5"
      },
      "source": [
        "###**Challenge 12-1**\r\n",
        "\r\n",
        "**Write a SQL statement to return customer name (cust_name) from the Customers table and related order numbers (order_num) from the Orders table, sorting the result by customer name and then by order number. Actually, try this one twice, once using simple equijoin syntax and once using an INNER JOIN.**\r\n"
      ]
    },
    {
      "cell_type": "code",
      "metadata": {
        "id": "ZK4l-vNaiZdh"
      },
      "source": [
        "pd.read_sql(\"SELECT cust_name, order_num \\\r\n",
        "             FROM Customers \\\r\n",
        "             INNER JOIN Orders ON Customers.cust_id = Orders.cust_id \\\r\n",
        "             ORDER BY cust_name, order_num\", conn)"
      ],
      "execution_count": null,
      "outputs": []
    },
    {
      "cell_type": "markdown",
      "metadata": {
        "id": "X3Tk8kh4iWYs"
      },
      "source": [
        "###**Challenge 12-2**\r\n",
        "\r\n",
        "**Let’s make the previous challenge more useful. In addition to returning the customer name and order number, add a third column named OrderTotal containing the total price of each order. There are two ways to do this, you can create the OrderTotal column using a subquery on the OrderItems table, or you can join the OrderItems table to the existing tables and use an aggregate function. Here’s a hint, watch out for where you need to use fully qualified column names.**\r\n"
      ]
    },
    {
      "cell_type": "code",
      "metadata": {
        "id": "V15UXW9HiopW"
      },
      "source": [
        "pd.read_sql(\"SELECT cust_name, Orders.order_num, Sum(item_price*quantity) AS OrderTotal \\\r\n",
        "             FROM Customers, Orders, OrderItems \\\r\n",
        "             WHERE Customers.cust_id = Orders.cust_id AND Orders.order_num = OrderItems.order_num \\\r\n",
        "             GROUP BY cust_name, Orders.order_num \\\r\n",
        "             ORDER BY cust_name, Orders.order_num\", conn)"
      ],
      "execution_count": null,
      "outputs": []
    },
    {
      "cell_type": "markdown",
      "metadata": {
        "id": "TLLP6V8KiWiN"
      },
      "source": [
        "###**Challenge 12-3**\r\n",
        "\r\n",
        "**Let’s revisit Ch 11 Challenge 2. Write a SQL statement that retrieves the dates when product BR01 was ordered, but this time use a join and simple equijoin syntax. The output should be identical to the one from Lesson 12.**\r\n"
      ]
    },
    {
      "cell_type": "code",
      "metadata": {
        "id": "dv7p94tgipJS"
      },
      "source": [
        "\"\"\"\r\n",
        "11-2\r\n",
        "pd.read_sql(\"SELECT cust_id, order_date \\\r\n",
        "             FROM Orders \\\r\n",
        "             WHERE order_num IN (SELECT order_num \\\r\n",
        "                                 FROM OrderItems \\ \r\n",
        "                                 WHERE prod_id = 'BR01') \\\r\n",
        "             ORDER BY order_date\")\r\n",
        "\"\"\"\r\n",
        "\r\n",
        "pd.read_sql(\"SELECT cust_id, order_date \\\r\n",
        "             FROM Orders, OrderItems \\\r\n",
        "             WHERE Orders.order_num = OrderItems.order_num AND prod_id = 'BR01' \\\r\n",
        "             ORDER BY order_date\", conn)"
      ],
      "execution_count": null,
      "outputs": []
    },
    {
      "cell_type": "markdown",
      "metadata": {
        "id": "SmgSYRMbiWt8"
      },
      "source": [
        "###**Challenge 12-4**\r\n",
        "\r\n",
        "**That was fun, let’s try it again. Recreate the SQL you wrote for Chapter 11 Challenge 3, this time using ANSI INNER JOIN syntax. The code you wrote there employed two nested subqueries, and to recreate it you’ll need two INNER JOIN statements, each formatted like the INNER JOIN example earlier in this lesson. And don’t forget the WHERE clause to filter by prod_id.**\r\n"
      ]
    },
    {
      "cell_type": "code",
      "metadata": {
        "id": "MRbWf4usiph-"
      },
      "source": [
        "\"\"\"\"\r\n",
        "11-4\r\n",
        "pd.read_sql(\"SELECT cust_email \\\r\n",
        "             FROM Customers \\\r\n",
        "             WHERE cust_id IN (SELECT cust_id \\\r\n",
        "                               FROM Orders \\\r\n",
        "                               WHERE order_num IN (SELECT order_num \\\r\n",
        "                                                   FROM OrderItems \\\r\n",
        "                                                   WHERE prod_id = 'BR01'))\", cnn)\r\n",
        "\"\"\"\r\n",
        "\r\n",
        "\r\n",
        "pd.read_sql(\"SELECT cust_email \\\r\n",
        "             FROM Customers \\\r\n",
        "             INNER JOIN Orders ON Customers.cust_id = Orders.cust_id \\\r\n",
        "             INNER JOIN OrderItems ON Orders.order_num = OrderItems.order_num \\\r\n",
        "             WHERE prod_id = 'BR01'\", conn)"
      ],
      "execution_count": null,
      "outputs": []
    },
    {
      "cell_type": "markdown",
      "metadata": {
        "id": "CffhTCTbiW5-"
      },
      "source": [
        "###**Challenge 12-5**\r\n",
        "\r\n",
        "**One more, and to make things more fun we’ll mix joins, aggregates functions, and grouping, too. Ready? Back in Lesson 10 I issued you a Challenge to find all order numbers with a value of 1000 or more. Those results are useful, but what would be even more useful is the name of the customers who placed orders of at least that amount. So, write a SQL statement that uses joins to return customer name (cust_name) from the Customers table, and the total price of all orders from the OrderItems table. Here’s a hint, to join those tables you’ll also need to include the Orders table (as Customers is not related directly to OrderItems, Customers is related to Orders and Orders is related to OrderItems). Don’t forget the GROUP BY and HAVING, and sort the results by customer name. You can use simple equijoin or ANSI INNER JOIN syntax for this one. Or, if you are feeling brave, try writing it both ways.**\r\n"
      ]
    },
    {
      "cell_type": "code",
      "metadata": {
        "id": "A16z5zZ4iqIC"
      },
      "source": [
        "pd.read_sql(\"SELECT cust_name, SUM(item_price*quantity) AS total_price \\\r\n",
        "             FROM Customers \\\r\n",
        "             INNER JOIN Orders ON Customers.cust_id = Orders.cust_id \\\r\n",
        "             INNER JOIN OrderItems ON Orders.order_num = OrderItems.order_num \\\r\n",
        "             GROUP BY cust_name \\\r\n",
        "             HAVING SUM(item_price*quantity) >= 1000 \\\r\n",
        "             ORDER BY cust_name\", conn)"
      ],
      "execution_count": null,
      "outputs": []
    },
    {
      "cell_type": "markdown",
      "metadata": {
        "id": "zCZMZwXEEomz"
      },
      "source": [
        "#**Chapter 13 - Creating Advanced Joins**"
      ]
    },
    {
      "cell_type": "markdown",
      "metadata": {
        "id": "Opo6dzMGjF90"
      },
      "source": [
        "###**Challenge 13-1**\r\n",
        "\r\n",
        "**Write a SQL statement using an INNER JOIN to retrieve customer name (cust_name in Customers) and all order numbers (order_num in Orders) for each.**\r\n"
      ]
    },
    {
      "cell_type": "code",
      "metadata": {
        "id": "ByRCXecfjQXO"
      },
      "source": [
        "pd.read_sql(\"SELECT cust_name, order_num \\\r\n",
        "             FROM Customers \\\r\n",
        "             INNER JOIN Orders ON Customers.cust_id = Orders.cust_id \\\r\n",
        "             ORDER BY cust_name\", conn)"
      ],
      "execution_count": null,
      "outputs": []
    },
    {
      "cell_type": "markdown",
      "metadata": {
        "id": "RxZHb6PhjGIs"
      },
      "source": [
        "###**Challenge 13-2**\r\n",
        "\r\n",
        "**Modify the SQL statement you just created to list all customers, even those with no orders.**\r\n"
      ]
    },
    {
      "cell_type": "code",
      "metadata": {
        "id": "BlJf0eBajQ0f"
      },
      "source": [
        "pd.read_sql(\"SELECT cust_name, order_num \\\r\n",
        "             FROM Customers \\\r\n",
        "             LEFT OUTER JOIN Orders ON Customers.cust_id = Orders.cust_id \\\r\n",
        "             ORDER BY cust_name\", conn)"
      ],
      "execution_count": null,
      "outputs": []
    },
    {
      "cell_type": "markdown",
      "metadata": {
        "id": "szhM8VVIjGUZ"
      },
      "source": [
        "###**Challenge 13-3**\r\n",
        "\r\n",
        "**Use an OUTER JOIN to join the Products and OrderItems tables, returning a sorted list of product names (prod_name) and the order numbers (order_num) associated with each.**\r\n"
      ]
    },
    {
      "cell_type": "code",
      "metadata": {
        "id": "qIffHKPzjRTY"
      },
      "source": [
        "pd.read_sql(\"SELECT prod_name, order_num \\\r\n",
        "             FROM Products \\\r\n",
        "             LEFT OUTER JOIN OrderItems ON Products.prod_id = OrderItems.prod_id \\\r\n",
        "             ORDER BY prod_name\", conn)"
      ],
      "execution_count": null,
      "outputs": []
    },
    {
      "cell_type": "markdown",
      "metadata": {
        "id": "JehYf020jGeI"
      },
      "source": [
        "###**Challenge 13-4**\r\n",
        "\r\n",
        "**Modify the SQL statement created in the previous challenge so that it returns a total of number of orders for each item (as opposed to the order numbers).**\r\n"
      ]
    },
    {
      "cell_type": "code",
      "metadata": {
        "id": "kLs0wDPzjRwT"
      },
      "source": [
        "pd.read_sql(\"SELECT prod_name, COUNT(order_num) AS orders \\\r\n",
        "             FROM Products LEFT OUTER JOIN OrderItems ON Products.prod_id = OrderItems.prod_id \\\r\n",
        "             GROUP BY prod_name \\\r\n",
        "             ORDER BY prod_name\", conn)"
      ],
      "execution_count": null,
      "outputs": []
    },
    {
      "cell_type": "markdown",
      "metadata": {
        "id": "OarQ84cWjGvp"
      },
      "source": [
        "###**Challenge 13-5**\r\n",
        "\r\n",
        "**Write a SQL statement to list vendors (vend_id in Vendors) and the number of products they have available, including vendors with no products. You’ll want to use an OUTER JOIN and the COUNT() aggregate function to count the number of products for each in the Products table. Pay attention, the vend_id column appears in multiple tables so any time you refer to it you’ll need to fully qualify it.**\r\n"
      ]
    },
    {
      "cell_type": "code",
      "metadata": {
        "id": "QrcQkHRyjSN-"
      },
      "source": [
        "pd.read_sql(\"SELECT Vendors.vend_id, COUNT(prod_id) \\\r\n",
        "             FROM Vendors \\\r\n",
        "             LEFT OUTER JOIN Products ON Vendors.vend_id = Products.vend_id \\\r\n",
        "             GROUP BY Vendors.vend_id\", conn)"
      ],
      "execution_count": null,
      "outputs": []
    },
    {
      "cell_type": "markdown",
      "metadata": {
        "id": "zvwjBm_ZEs3g"
      },
      "source": [
        "#**Chapter 14 - Combining Queries**"
      ]
    },
    {
      "cell_type": "markdown",
      "metadata": {
        "id": "-z-vl_97k0k2"
      },
      "source": [
        "###**Challenge 14-1**\r\n",
        "\r\n",
        "**Write a SQL statement that combines two SELECT statements that retrieve product id (prod_id) and quantity from the OrderItems table, one filtering for rows with a quantity of exactly 100, and the other filtering for products with an ID that begins with BNBG. Sort the results by product id.**"
      ]
    },
    {
      "cell_type": "code",
      "metadata": {
        "id": "UMZ84XwplE2V"
      },
      "source": [
        "pd.read_sql(\"SELECT prod_id, quantity \\\r\n",
        "             FROM OrderItems \\\r\n",
        "             WHERE quantity = 100 \\\r\n",
        "             UNION \\\r\n",
        "             SELECT prod_id, quantity \\\r\n",
        "             FROM OrderItems \\\r\n",
        "             WHERE prod_id LIKE 'BNBG%' \\\r\n",
        "             ORDER BY prod_id\", conn)"
      ],
      "execution_count": null,
      "outputs": []
    },
    {
      "cell_type": "markdown",
      "metadata": {
        "id": "mPqaqbcCmvUt"
      },
      "source": [
        "###**Challenge 14-2**\r\n",
        "\r\n",
        "**Rewrite the SQL statement you just created to use a single SELECT statement.**"
      ]
    },
    {
      "cell_type": "code",
      "metadata": {
        "id": "uv9vV-sBm4Bh"
      },
      "source": [
        "pd.read_sql(\"SELECT prod_id, quantity \\\r\n",
        "             FROM OrderItems \\\r\n",
        "             WHERE quantity = 100 OR prod_id LIKE 'BNBG%' \\\r\n",
        "             ORDER BY prod_id\", conn)"
      ],
      "execution_count": null,
      "outputs": []
    },
    {
      "cell_type": "markdown",
      "metadata": {
        "id": "mPv9TcJtJ8R9"
      },
      "source": [
        "###**Challenge 14-3**\r\n",
        "\r\n",
        "**This one is a little nonsensical, I know, but it does reinforce a note earlier in this lesson. Write a SQL statement which returns and combines product name (prod_name) from Products and customer name (cust_name) from Customers, and sort the result by product name.**"
      ]
    },
    {
      "cell_type": "code",
      "metadata": {
        "id": "p7SkWo9ULCxr"
      },
      "source": [
        "pd.read_sql(\"SELECT prod_name \\\r\n",
        "             FROM Products \\\r\n",
        "             UNION \\\r\n",
        "             SELECT cust_name \\\r\n",
        "             FROM Customers \\\r\n",
        "             ORDER BY prod_name\", conn)"
      ],
      "execution_count": null,
      "outputs": []
    },
    {
      "cell_type": "markdown",
      "metadata": {
        "id": "i00QqRaIMlD0"
      },
      "source": [
        "###**Challenge 14-4**\r\n",
        "\r\n",
        "**What is wrong with the following SQL statement? (Try to figure it out without running it):**\r\n",
        "\r\n",
        "**SELECT cust_name, cust_contact, cust_email**\r\n",
        "\r\n",
        "**FROM Customers**\r\n",
        "\r\n",
        "**WHERE cust_state  = 'MI'**\r\n",
        "\r\n",
        "**ORDER BY cust_name;**\r\n",
        "\r\n",
        "**UNION**\r\n",
        "\r\n",
        "**SELECT cust_name, cust_contact, cust_email**\r\n",
        "\r\n",
        "**FROM Customers**\r\n",
        "\r\n",
        "**WHERE cust_state = 'IL'**\r\n",
        "\r\n",
        "**ORDER BY cust_name;**"
      ]
    },
    {
      "cell_type": "markdown",
      "metadata": {
        "id": "dMRUI0qaNP63"
      },
      "source": [
        "ANSWER: Only one ORDER BY should be used when combined with UNION and come after last SELECT. Also, the first semicolon should not appear before Union because it terminates the query."
      ]
    },
    {
      "cell_type": "markdown",
      "metadata": {
        "id": "sQ89Jof2ZoTb"
      },
      "source": [
        "#**Ch 15 - Inserting Data**"
      ]
    },
    {
      "cell_type": "markdown",
      "metadata": {
        "id": "nR5Sz431fkJN"
      },
      "source": [
        "###**Challenge 15-1**\r\n",
        "\r\n",
        "**Using INSERT and columns specified, add yourself to the Customers table.**"
      ]
    },
    {
      "cell_type": "code",
      "metadata": {
        "id": "Q3yljUu1f1SK"
      },
      "source": [
        "cur.execute(\"INSERT INTO Customers(cust_id), \\\r\n",
        "                      cust_name, \\\r\n",
        "                      cust_address, \\\r\n",
        "                      cust_city, \\\r\n",
        "                      cust_state, \\\r\n",
        "                      cust_zip, \\\r\n",
        "                      cust_country, \\\r\n",
        "                      cust_email) \\\r\n",
        "VALUES(1000000042, \\\r\n",
        "       'Sepehr's Pet Food', \\\r\n",
        "       '777 Main Street', \\\r\n",
        "       'Radiant Woods', \\\r\n",
        "       'MA', \\\r\n",
        "       '10000', \\\r\n",
        "       'USA', \\\r\n",
        "       'sg@fake.com')\")"
      ],
      "execution_count": null,
      "outputs": []
    },
    {
      "cell_type": "code",
      "metadata": {
        "id": "RDUddw_NOAcC"
      },
      "source": [
        "conn.commit()"
      ],
      "execution_count": null,
      "outputs": []
    },
    {
      "cell_type": "markdown",
      "metadata": {
        "id": "lEThitdEfkip"
      },
      "source": [
        "###**Challenge 15-2**\r\n",
        "\r\n",
        "**Make a backup copy of your Orders and OrderItems tables.**"
      ]
    },
    {
      "cell_type": "code",
      "metadata": {
        "id": "yNl7_egIf2gZ"
      },
      "source": [
        "cur.execute(\"CREATE TABLE OrdersBackup AS SELECT * FROM Orders\") \r\n",
        "cur.execute(\"CREATE TABLE OrderItemsBackup AS SELECT * FROM OrderItems\")"
      ],
      "execution_count": null,
      "outputs": []
    },
    {
      "cell_type": "code",
      "metadata": {
        "id": "HHb9k6uFmlVU"
      },
      "source": [
        "conn.commit()"
      ],
      "execution_count": null,
      "outputs": []
    },
    {
      "cell_type": "markdown",
      "metadata": {
        "id": "Dq-6hJ5Dkk4Q"
      },
      "source": [
        "#**Chapter 16 - Updating and Deleting Data**"
      ]
    },
    {
      "cell_type": "markdown",
      "metadata": {
        "id": "kLZGqyQpkyWl"
      },
      "source": [
        "###**Challenge 16-1**\r\n",
        "\r\n",
        "**USA State abbreviations should always be in upper case. Write a SQL statement to update all USA addresses, both vendor states (vend_state in Vendors) and customer states (cust_state in Customers) so that they are upper case.**"
      ]
    },
    {
      "cell_type": "code",
      "metadata": {
        "id": "ZBNuLbSblBqZ"
      },
      "source": [
        "cur.execute(\"UPDATE Vendors \\\r\n",
        "             SET vend_state = UPPER(vend_state) \\\r\n",
        "             WHERE vend_country = 'USA'\")\r\n",
        "\r\n",
        "cur.execute(\"UPDATE Customers \\\r\n",
        "             SET cust_state = UPPER(cust_state) \\\r\n",
        "             WHERE cust_country = 'USA'\")"
      ],
      "execution_count": null,
      "outputs": []
    },
    {
      "cell_type": "code",
      "metadata": {
        "id": "Qn6gw8dSmi-F"
      },
      "source": [
        "conn.commit()"
      ],
      "execution_count": null,
      "outputs": []
    },
    {
      "cell_type": "markdown",
      "metadata": {
        "id": "tQJG9DfasHbA"
      },
      "source": [
        "###**Challenge 16-2**\r\n",
        "\r\n",
        "**In Lesson 15 Challenge 1 I asked you to add yourself to the Customers table. Now delete yourself. Make sure to use a WHERE clause (and test it with a SELECT before using it in DELETE) or you’ll delete all customers!**"
      ]
    },
    {
      "cell_type": "code",
      "metadata": {
        "id": "TCnacLkss7fI"
      },
      "source": [
        "cur.execute(\"DELETE FROM Customers \\\r\n",
        "             WHERE cust_id = 1000000042\")"
      ],
      "execution_count": null,
      "outputs": []
    },
    {
      "cell_type": "code",
      "metadata": {
        "id": "8WYeuNFJtgwO"
      },
      "source": [
        "conn.commit()"
      ],
      "execution_count": null,
      "outputs": []
    },
    {
      "cell_type": "markdown",
      "metadata": {
        "id": "7jKfD_rdxiH2"
      },
      "source": [
        "#**Chapter 17 - Creating and Manipulating Tables**"
      ]
    },
    {
      "cell_type": "markdown",
      "metadata": {
        "id": "C-1doSJJxqSU"
      },
      "source": [
        "###**Challenge 17-1**\r\n",
        "\r\n",
        "**Add a web site column (vend_web) to the Vendors table. You’ll want a text field big enough to accommodate a URL.**"
      ]
    },
    {
      "cell_type": "code",
      "metadata": {
        "id": "1G5fSsH9QqwS"
      },
      "source": [
        "cur.execute(\"ALTER TABLE Vendors \\\r\n",
        "             ADD vend_web CHAR(100)\")"
      ],
      "execution_count": null,
      "outputs": []
    },
    {
      "cell_type": "markdown",
      "metadata": {
        "id": "hYsmsoj_6WBG"
      },
      "source": [
        "###**Challenge 17-2**\r\n",
        "\r\n",
        "**Use UPDATE statements to update Vendor records to include a website (you can make up any address).**"
      ]
    },
    {
      "cell_type": "code",
      "metadata": {
        "id": "i0L5UcXxQ8E8"
      },
      "source": [
        "cur.execute(\"UPDATE Vendors \\\r\n",
        "             SET vend_web = 'https://duckduckgo.com/' \\\r\n",
        "             WHERE vend_id = 'DLL01'\")"
      ],
      "execution_count": null,
      "outputs": []
    },
    {
      "cell_type": "code",
      "metadata": {
        "id": "0nnVe2YeRRau"
      },
      "source": [
        "conn.commit()"
      ],
      "execution_count": null,
      "outputs": []
    },
    {
      "cell_type": "markdown",
      "metadata": {
        "id": "aZYFfWRm9cmw"
      },
      "source": [
        "#**Chapter 18 - Using Views**"
      ]
    },
    {
      "cell_type": "markdown",
      "metadata": {
        "id": "tcJxNqOd9j2J"
      },
      "source": [
        "###**Challenge 18-1**\r\n",
        "\r\n",
        "**Create a view called CustomersWithOrders that contains all of the columns in Customers, but only includes those who have placed orders. Hint, you can JOIN the Orders table to filter just the customers you want. Then use a SELECT to make sure you have the right data.**"
      ]
    },
    {
      "cell_type": "code",
      "metadata": {
        "id": "8FZYrI1B2thp"
      },
      "source": [
        "cur.execute(\"CREATE VIEW CustomersWithOrders AS \\\r\n",
        "       SELECT Customers.cust_id, \\\r\n",
        "       Customers.cust_name, \\\r\n",
        "       Customers.cust_address, \\\r\n",
        "       Customers.cust_city, \\\r\n",
        "       Customers.cust_state, \\\r\n",
        "       Customers.cust_zip, \\\r\n",
        "       Customers.cust_country, \\\r\n",
        "       Customers.cust_contact, \\\r\n",
        "       Customers.cust_email \\\r\n",
        "FROM Customers \\\r\n",
        "JOIN Orders ON Customers.cust_id = Orders.cust_id\")"
      ],
      "execution_count": null,
      "outputs": []
    },
    {
      "cell_type": "code",
      "metadata": {
        "id": "Z9UfMnVz3EWp"
      },
      "source": [
        "pd.read_sql(\"SELECT * \\\r\n",
        "             FROM CustomersWithOrders\", conn)"
      ],
      "execution_count": null,
      "outputs": []
    },
    {
      "cell_type": "markdown",
      "metadata": {
        "id": "K0ossv8q9sBb"
      },
      "source": [
        "###**Challenge 18-2**\r\n",
        "\r\n",
        "**What is wrong with the following SQL statement? (Try to figure it out without running it):**\r\n",
        "\r\n",
        "**CREATE VIEW OrderItemsExpanded AS**\r\n",
        "\r\n",
        "**SELECT order_num,**\r\n",
        "\r\n",
        "**prod_id,**\r\n",
        "\r\n",
        "**quantity,**\r\n",
        "\r\n",
        "**item_price,**\r\n",
        "\r\n",
        "**quantity*item_price AS expanded_price**\r\n",
        "\r\n",
        "**FROM OrderItems**\r\n",
        "\r\n",
        "**ORDER BY order_num;**"
      ]
    },
    {
      "cell_type": "markdown",
      "metadata": {
        "id": "vlBnDZs23Myc"
      },
      "source": [
        "ANSWER: ORDER BY is not allowed in views."
      ]
    }
  ]
}